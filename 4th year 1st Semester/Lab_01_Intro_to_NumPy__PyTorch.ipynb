{
  "cells": [
    {
      "cell_type": "markdown",
      "metadata": {
        "id": "hGlN8vYabdXk"
      },
      "source": [
        "<div align=\"center\">\n",
        "<img src=\"https://drive.google.com/uc?id=1JOzNG8Sf9rXQ_nHqlzOvzOnpr4iSIkmc\" width=\"250\">\n",
        "\n",
        "<img src=\"https://drive.google.com/uc?id=1SctzfeQJDdGN2eMRQhJEoQWWO9rovrWh\" width=\"300\">\n",
        "</div>\n"
      ]
    },
    {
      "cell_type": "markdown",
      "metadata": {
        "id": "aenrS3vJi33Z"
      },
      "source": [
        "## Numpy\n",
        "\n",
        "[Numpy](https://numpy.org/) is the core library for scientific computing in Python. It provides a high-performance multidimensional array object, and tools for working with these arrays. To use Numpy, we first need to import the numpy package as `import numpy as np`\n"
      ]
    },
    {
      "cell_type": "code",
      "execution_count": null,
      "metadata": {
        "id": "E2ESAJrHWzzn"
      },
      "outputs": [],
      "source": [
        "import numpy as np"
      ]
    },
    {
      "cell_type": "markdown",
      "metadata": {
        "id": "2dVO07CgV_dh"
      },
      "source": [
        "### Arrays\n",
        "\n",
        "A numpy array is a grid of values, **all of the same type**, and is indexed by a tuple of nonnegative integers. **The number of dimensions is the rank of the array**; the shape of an array is a tuple of integers giving the size of the array along each dimension. We can initialize numpy arrays from nested Python lists, and access elements using square brackets:\n"
      ]
    },
    {
      "cell_type": "code",
      "execution_count": null,
      "metadata": {
        "colab": {
          "base_uri": "https://localhost:8080/"
        },
        "id": "GYT8uNOuWvCL",
        "outputId": "9262e4e6-8189-43bb-8bf9-bbb72a07a91f"
      },
      "outputs": [
        {
          "name": "stdout",
          "output_type": "stream",
          "text": [
            "<class 'numpy.ndarray'> (3,) 1 2 3\n",
            "[5 2 3]\n"
          ]
        }
      ],
      "source": [
        "a = np.array([1, 2, 3])  # Create a rank 1 array\n",
        "print(type(a), a.shape, a[0], a[1], a[2])\n",
        "a[0] = 5                 # Change an element of the array\n",
        "print(a)"
      ]
    },
    {
      "cell_type": "code",
      "execution_count": null,
      "metadata": {
        "colab": {
          "base_uri": "https://localhost:8080/"
        },
        "id": "qBrP3DTeXZDb",
        "outputId": "2466670d-c4d1-484d-c2f1-83f9ab41f41e"
      },
      "outputs": [
        {
          "name": "stdout",
          "output_type": "stream",
          "text": [
            "[[1 2 3]\n",
            " [4 5 6]]\n"
          ]
        }
      ],
      "source": [
        "b = np.array([[1, 2, 3],[4, 5, 6]])   # Create a rank 2 array\n",
        "print(b)"
      ]
    },
    {
      "cell_type": "code",
      "execution_count": null,
      "metadata": {
        "colab": {
          "base_uri": "https://localhost:8080/"
        },
        "id": "nAWJoutwXdOJ",
        "outputId": "161804a2-3319-41aa-be26-79dad8b4c298"
      },
      "outputs": [
        {
          "name": "stdout",
          "output_type": "stream",
          "text": [
            "(2, 3)\n",
            "1 2 4\n"
          ]
        }
      ],
      "source": [
        "print(b.shape)\n",
        "print(b[0, 0], b[0, 1], b[1, 0])"
      ]
    },
    {
      "cell_type": "markdown",
      "metadata": {
        "id": "GmUmAYPHXskp"
      },
      "source": [
        "Numpy also provides many functions to create arrays:\n"
      ]
    },
    {
      "cell_type": "code",
      "execution_count": null,
      "metadata": {
        "colab": {
          "base_uri": "https://localhost:8080/"
        },
        "id": "3cflrO8SXvCb",
        "outputId": "f9b8f984-2464-43dc-d713-67f12e897c75"
      },
      "outputs": [
        {
          "name": "stdout",
          "output_type": "stream",
          "text": [
            "<class 'numpy.ndarray'>\n"
          ]
        }
      ],
      "source": [
        "a = np.zeros((2, 2, 2))  # Create an array of all zeros\n",
        "print(type(a))"
      ]
    },
    {
      "cell_type": "code",
      "execution_count": null,
      "metadata": {
        "colab": {
          "base_uri": "https://localhost:8080/"
        },
        "id": "l7m1foQ0X3Do",
        "outputId": "4003df30-f116-459e-ccef-8dcdf546f930"
      },
      "outputs": [
        {
          "name": "stdout",
          "output_type": "stream",
          "text": [
            "[[1. 1.]]\n"
          ]
        }
      ],
      "source": [
        "b = np.ones((1, 2))   # Create an array of all ones\n",
        "print(b)"
      ]
    },
    {
      "cell_type": "code",
      "execution_count": null,
      "metadata": {
        "colab": {
          "base_uri": "https://localhost:8080/"
        },
        "id": "Qwjj7FZLX7LH",
        "outputId": "4eb7b4f9-aab7-4fdf-ab26-ea361d6ef970"
      },
      "outputs": [
        {
          "name": "stdout",
          "output_type": "stream",
          "text": [
            "[[10. 10.]\n",
            " [10. 10.]]\n"
          ]
        }
      ],
      "source": [
        "c = np.full((2,2), 10.0) # Create a constant array\n",
        "print(c)"
      ]
    },
    {
      "cell_type": "code",
      "execution_count": null,
      "metadata": {
        "colab": {
          "base_uri": "https://localhost:8080/"
        },
        "id": "2gFhPTu1X_Df",
        "outputId": "138be3ac-ba69-43ae-a72e-c7e13b65ff1d"
      },
      "outputs": [
        {
          "name": "stdout",
          "output_type": "stream",
          "text": [
            "[[1. 0.]\n",
            " [0. 1.]]\n"
          ]
        }
      ],
      "source": [
        "d = np.eye(2)        # Create a 2x2 identity matrix\n",
        "print(d)"
      ]
    },
    {
      "cell_type": "code",
      "execution_count": null,
      "metadata": {
        "colab": {
          "base_uri": "https://localhost:8080/"
        },
        "id": "yHV4M_ssYN1x",
        "outputId": "87b0ea98-7f73-4769-907f-78b64976fdd8"
      },
      "outputs": [
        {
          "name": "stdout",
          "output_type": "stream",
          "text": [
            "[[9.82900845 1.16622612]\n",
            " [5.26258993 1.3212441 ]]\n"
          ]
        }
      ],
      "source": [
        "e = np.random.random((2,2))*10 # Create an array filled with random values\n",
        "print(e)"
      ]
    },
    {
      "cell_type": "code",
      "execution_count": null,
      "metadata": {
        "colab": {
          "base_uri": "https://localhost:8080/"
        },
        "id": "YE3rJvPUBJpM",
        "outputId": "72bc81dd-42b7-4158-d7e8-d2ff75e92ac8"
      },
      "outputs": [
        {
          "data": {
            "text/plain": [
              "array([[ 5, 98],\n",
              "       [88, 27]])"
            ]
          },
          "execution_count": 30,
          "metadata": {},
          "output_type": "execute_result"
        }
      ],
      "source": [
        "# range(1, 11, 2)\n",
        "\n",
        "ri = np.random.randint(1, 101, (2, 2))\n",
        "ri"
      ]
    },
    {
      "cell_type": "code",
      "execution_count": null,
      "metadata": {
        "id": "jYXBHkkJ2vo4",
        "outputId": "0ccec446-a994-4165-ea8f-90d5181b85b3"
      },
      "outputs": [
        {
          "data": {
            "text/plain": [
              "array([3, 2, 1])"
            ]
          },
          "execution_count": 6,
          "metadata": {},
          "output_type": "execute_result"
        }
      ],
      "source": [
        "elements = [1, 2, 3, 4, 5]\n",
        "random_sample = np.random.choice(elements, size=3, replace=False)\n",
        "random_sample"
      ]
    },
    {
      "cell_type": "markdown",
      "metadata": {
        "id": "OYzzDjtgaqYb"
      },
      "source": [
        "### Datatypes\n",
        "\n",
        "**Every numpy array is a grid of elements of the same type.** Numpy provides a large set of numeric datatypes that you can use to construct arrays. **Numpy tries to guess a datatype when you create an array**, but functions that construct arrays usually also include an optional argument to explicitly specify the datatype. Here is an example:\n",
        "\n",
        "You can read all about numpy datatypes in the [documentation](http://docs.scipy.org/doc/numpy/reference/arrays.dtypes.html).\n"
      ]
    },
    {
      "cell_type": "code",
      "execution_count": null,
      "metadata": {
        "colab": {
          "base_uri": "https://localhost:8080/"
        },
        "id": "eAonmR48a4wa",
        "outputId": "6fa7e6cf-791b-4b25-9a09-ef910bcee3b9"
      },
      "outputs": [
        {
          "name": "stdout",
          "output_type": "stream",
          "text": [
            "int64 float64 float32\n"
          ]
        }
      ],
      "source": [
        "x = np.array([1, 2])  # Let numpy choose the datatype\n",
        "y = np.array([1, 2.0])  # Let numpy choose the datatype\n",
        "z = np.array([1, 2], dtype=np.float32)  # Force a particular datatype\n",
        "\n",
        "print(x.dtype, y.dtype, z.dtype)"
      ]
    },
    {
      "cell_type": "markdown",
      "metadata": {
        "id": "QZq7X-c-gFGZ"
      },
      "source": [
        "## Array math\n",
        "\n",
        "**Basic mathematical functions operate elementwise on arrays**, and are available both as operator overloads and as functions in the numpy module:\n"
      ]
    },
    {
      "cell_type": "code",
      "execution_count": null,
      "metadata": {
        "colab": {
          "base_uri": "https://localhost:8080/"
        },
        "id": "jGzEfTuFgUet",
        "outputId": "8e33fe45-cee9-4447-9ee2-91baa63547e6"
      },
      "outputs": [
        {
          "name": "stdout",
          "output_type": "stream",
          "text": [
            "[[ 6  8]\n",
            " [10 12]]\n"
          ]
        }
      ],
      "source": [
        "x = np.array([[1,2],\n",
        "              [3,4]]) # 2, 2\n",
        "y = np.array([[5,6],\n",
        "              [7,8]]) # 2, 2\n",
        "\n",
        "# Elementwise sum; both produce the array\n",
        "print(x + y)"
      ]
    },
    {
      "cell_type": "code",
      "execution_count": null,
      "metadata": {
        "colab": {
          "base_uri": "https://localhost:8080/"
        },
        "id": "3g5sXplxgZU0",
        "outputId": "e8129d33-20ae-4187-92cd-6efafcc77c24"
      },
      "outputs": [
        {
          "name": "stdout",
          "output_type": "stream",
          "text": [
            "[[-4 -4]\n",
            " [-4 -4]]\n",
            "[[-4 -4]\n",
            " [-4 -4]]\n"
          ]
        }
      ],
      "source": [
        "# Elementwise difference; both produce the array\n",
        "print(x - y)\n",
        "print(np.subtract(x, y))"
      ]
    },
    {
      "cell_type": "code",
      "execution_count": null,
      "metadata": {
        "colab": {
          "base_uri": "https://localhost:8080/"
        },
        "id": "dpuzn0ivgcmQ",
        "outputId": "c05ef005-6bac-42af-c00d-b59cf08e287b"
      },
      "outputs": [
        {
          "name": "stdout",
          "output_type": "stream",
          "text": [
            "[[ 5 12]\n",
            " [21 32]]\n",
            "[[ 5 12]\n",
            " [21 32]]\n"
          ]
        }
      ],
      "source": [
        "# Elementwise product; both produce the array\n",
        "print(x * y)\n",
        "print(np.multiply(x, y))"
      ]
    },
    {
      "cell_type": "code",
      "execution_count": null,
      "metadata": {
        "colab": {
          "base_uri": "https://localhost:8080/"
        },
        "id": "1FYntcSmgqZl",
        "outputId": "0a3ec1ba-1235-4922-d831-77e737f773d2"
      },
      "outputs": [
        {
          "name": "stdout",
          "output_type": "stream",
          "text": [
            "[[0.2        0.33333333]\n",
            " [0.42857143 0.5       ]]\n",
            "[[0.2        0.33333333]\n",
            " [0.42857143 0.5       ]]\n"
          ]
        }
      ],
      "source": [
        "# Elementwise division; both produce the array\n",
        "# [[ 0.2         0.33333333]\n",
        "#  [ 0.42857143  0.5       ]]\n",
        "print(x / y)\n",
        "print(np.divide(x, y))"
      ]
    },
    {
      "cell_type": "code",
      "execution_count": null,
      "metadata": {
        "colab": {
          "base_uri": "https://localhost:8080/"
        },
        "id": "kD63Mq5egsFl",
        "outputId": "363a8578-0dd7-45c4-9f39-cf0f7942d638"
      },
      "outputs": [
        {
          "name": "stdout",
          "output_type": "stream",
          "text": [
            "[[1.         1.41421356]\n",
            " [1.73205081 2.        ]]\n"
          ]
        }
      ],
      "source": [
        "# Elementwise square root; produces the array\n",
        "# [[ 1.          1.41421356]\n",
        "#  [ 1.73205081  2.        ]]\n",
        "print(np.sqrt(x))"
      ]
    },
    {
      "cell_type": "code",
      "execution_count": null,
      "metadata": {
        "colab": {
          "base_uri": "https://localhost:8080/"
        },
        "id": "Cewx3tCtDpg0",
        "outputId": "8f092096-0694-42a3-fa21-a4d4bd2f3f56"
      },
      "outputs": [
        {
          "name": "stdout",
          "output_type": "stream",
          "text": [
            "[[ 2.71828183  7.3890561 ]\n",
            " [20.08553692 54.59815003]]\n"
          ]
        }
      ],
      "source": [
        "print(np.exp(x))"
      ]
    },
    {
      "cell_type": "markdown",
      "metadata": {
        "id": "t9qM2375hZWF"
      },
      "source": [
        "## **Important Note**\n",
        "\n",
        "`*` is elementwise multiplication, not matrix multiplication. **We instead use the dot function to compute inner products of vectors, to multiply a vector by a matrix, and to multiply matrices.** dot is available both as a function in the numpy module and as an instance method of array objects:\n"
      ]
    },
    {
      "cell_type": "code",
      "execution_count": null,
      "metadata": {
        "colab": {
          "base_uri": "https://localhost:8080/"
        },
        "id": "XWuVUgTVh2EZ",
        "outputId": "cf2a75de-aff8-4dba-8571-6f4c74c1e8ce"
      },
      "outputs": [
        {
          "name": "stdout",
          "output_type": "stream",
          "text": [
            "219\n"
          ]
        }
      ],
      "source": [
        "x = np.array([[1,2],[3,4]]) # 2, 2\n",
        "y = np.array([[5,6],[7,8]]) # 2, 2\n",
        "\n",
        "v = np.array([9,10])  # 1, 2\n",
        "# v = v.reshape(1, len(v))\n",
        "w = np.array([11, 12]) # 1, 2\n",
        "# w.reshape(1, len(w))\n",
        "\n",
        "\n",
        "# Inner product of vectors; both produce 219\n",
        "print(v.dot(w.transpose()))\n",
        "# print(np.dot(v, w.transpose()))"
      ]
    },
    {
      "cell_type": "markdown",
      "metadata": {
        "id": "cG1R9GJ7h8aT"
      },
      "source": [
        "**You can also use the @ operator which is equivalent to numpy's dot operator.**\n"
      ]
    },
    {
      "cell_type": "code",
      "execution_count": null,
      "metadata": {
        "colab": {
          "base_uri": "https://localhost:8080/"
        },
        "id": "Bn6E5QPvh6RZ",
        "outputId": "d7d543a2-fb4a-431c-f46b-9fa3911ee47b"
      },
      "outputs": [
        {
          "name": "stdout",
          "output_type": "stream",
          "text": [
            "219\n"
          ]
        }
      ],
      "source": [
        "print(v @ w)"
      ]
    },
    {
      "cell_type": "code",
      "execution_count": null,
      "metadata": {
        "colab": {
          "base_uri": "https://localhost:8080/"
        },
        "id": "o6Ba9VrQiOny",
        "outputId": "32c29e81-8d95-4848-90c5-9fddbbad7219"
      },
      "outputs": [
        {
          "name": "stdout",
          "output_type": "stream",
          "text": [
            "[29 67]\n",
            "[29 67]\n",
            "[29 67]\n"
          ]
        }
      ],
      "source": [
        "# Matrix / vector product; both produce the rank 1 array [29 67]\n",
        "print(x.dot(v))\n",
        "print(np.dot(x, v))\n",
        "print(x @ v)"
      ]
    },
    {
      "cell_type": "code",
      "execution_count": null,
      "metadata": {
        "colab": {
          "base_uri": "https://localhost:8080/"
        },
        "id": "jYzY3Wf2iP_h",
        "outputId": "2cd909ca-cce5-40fb-91a1-fc79d9ca1ac7"
      },
      "outputs": [
        {
          "name": "stdout",
          "output_type": "stream",
          "text": [
            "[[19 22]\n",
            " [43 50]]\n",
            "[[19 22]\n",
            " [43 50]]\n",
            "[[19 22]\n",
            " [43 50]]\n"
          ]
        }
      ],
      "source": [
        "# Matrix / matrix product; both produce the rank 2 array\n",
        "# [[19 22]\n",
        "#  [43 50]]\n",
        "print(x.dot(y))\n",
        "print(np.dot(x, y))\n",
        "print(x @ y)"
      ]
    },
    {
      "cell_type": "markdown",
      "metadata": {
        "id": "z9RshYY_inAo"
      },
      "source": [
        "Numpy provides many useful functions for performing computations on arrays; one of the most useful is `sum`:\n"
      ]
    },
    {
      "cell_type": "code",
      "execution_count": null,
      "metadata": {
        "colab": {
          "base_uri": "https://localhost:8080/"
        },
        "id": "hLUS16L7inkd",
        "outputId": "4c2c0a4a-ba99-49ea-e7b5-30db1292b42e"
      },
      "outputs": [
        {
          "name": "stdout",
          "output_type": "stream",
          "text": [
            "10\n",
            "[4 6]\n",
            "[3 7]\n"
          ]
        }
      ],
      "source": [
        "x = np.array([[1,2],\n",
        "              [3,4]])\n",
        "\n",
        "print(np.sum(x) ) # Compute sum of all elements; prints \"10\"\n",
        "print(np.sum(x, axis=0))  # Compute sum of each column; prints \"[4 6]\"\n",
        "print(np.sum(x, axis=1))  # Compute sum of each row; prints \"[3 7]\""
      ]
    },
    {
      "cell_type": "markdown",
      "metadata": {
        "id": "1IvAY8C1i-8T"
      },
      "source": [
        "You can find the full list of mathematical functions provided by numpy in the [documentation](http://docs.scipy.org/doc/numpy/reference/routines.math.html).\n",
        "\n",
        "Apart from computing mathematical functions using arrays, we frequently need to reshape or otherwise manipulate data in arrays. The simplest example of this type of operation is transposing a matrix; to transpose a matrix, simply use the T attribute of an array object:\n"
      ]
    },
    {
      "cell_type": "code",
      "execution_count": null,
      "metadata": {
        "colab": {
          "base_uri": "https://localhost:8080/"
        },
        "id": "MEyRJsC4jADJ",
        "outputId": "6d4c0fe6-82bb-4c2e-d7cb-9dff50e7ef06"
      },
      "outputs": [
        {
          "name": "stdout",
          "output_type": "stream",
          "text": [
            "[[1 2]\n",
            " [3 4]]\n",
            "transpose\n",
            " [[1 3]\n",
            " [2 4]]\n"
          ]
        }
      ],
      "source": [
        "print(x)\n",
        "print(\"transpose\\n\", x.T)"
      ]
    },
    {
      "cell_type": "code",
      "execution_count": null,
      "metadata": {
        "colab": {
          "base_uri": "https://localhost:8080/"
        },
        "id": "FEHtzYLUjDmW",
        "outputId": "6aa3a268-a69c-4ca9-ccdc-fd6c1578bd7d"
      },
      "outputs": [
        {
          "name": "stdout",
          "output_type": "stream",
          "text": [
            "[[1 2 3]]\n",
            "transpose\n",
            " [[1]\n",
            " [2]\n",
            " [3]]\n"
          ]
        }
      ],
      "source": [
        "v = np.array([[1,2,3]])\n",
        "print(v )\n",
        "print(\"transpose\\n\", v.T)"
      ]
    },
    {
      "cell_type": "code",
      "execution_count": null,
      "metadata": {
        "colab": {
          "base_uri": "https://localhost:8080/"
        },
        "id": "RwbozEnjYrLK",
        "outputId": "f89067ae-1005-4792-f349-34f94e25428f"
      },
      "outputs": [
        {
          "name": "stdout",
          "output_type": "stream",
          "text": [
            "[1 2 3]\n"
          ]
        }
      ],
      "source": [
        "import numpy as np\n",
        "\n",
        "# example of numpy array\n",
        "x = np.array([1, 2, 3])\n",
        "print(x)"
      ]
    },
    {
      "cell_type": "markdown",
      "metadata": {
        "id": "jFSr1X85jrmo"
      },
      "source": [
        "If $x$ is a vector, then a Python operation such as $s = x + 3$ or $s = \\frac{1}{x}$ will output s as a vector of the same size as x.\n"
      ]
    },
    {
      "cell_type": "code",
      "execution_count": null,
      "metadata": {
        "colab": {
          "base_uri": "https://localhost:8080/"
        },
        "id": "AYVoF2pJjv5F",
        "outputId": "c01f6c81-5047-45bc-f4b8-aa32b948b7d7"
      },
      "outputs": [
        {
          "name": "stdout",
          "output_type": "stream",
          "text": [
            "[4 5 6]\n"
          ]
        }
      ],
      "source": [
        "# example of vector operation\n",
        "x = np.array([1, 2, 3])\n",
        "print (x + 3)"
      ]
    },
    {
      "cell_type": "markdown",
      "metadata": {
        "id": "ThCRXKYIjSEO"
      },
      "source": [
        "In fact, if $ x = (x_1, x_2, ..., x_n)$ is a row vector then $np.exp(x)$ will apply the exponential function to every element of x. The output will thus be: $np.exp(x) = (e^{x_1}, e^{x_2}, ..., e^{x_n})$\n"
      ]
    },
    {
      "cell_type": "code",
      "execution_count": null,
      "metadata": {
        "colab": {
          "base_uri": "https://localhost:8080/"
        },
        "id": "znx1N3p7jDc-",
        "outputId": "750e52a9-0c62-4a21-87d2-9084e2bb3c9d"
      },
      "outputs": [
        {
          "name": "stdout",
          "output_type": "stream",
          "text": [
            "[ 2.71828183  7.3890561  20.08553692]\n"
          ]
        }
      ],
      "source": [
        "import numpy as np\n",
        "\n",
        "# example of np.exp\n",
        "x = np.array([1, 2, 3])\n",
        "print(np.exp(x)) # result is (exp(1), exp(2), exp(3))"
      ]
    },
    {
      "cell_type": "markdown",
      "metadata": {
        "id": "Dx5SeqsRj7xN"
      },
      "source": [
        "Any time you need more info on a numpy function, we encourage you to look at [the official documentation](https://docs.scipy.org/doc/numpy-1.10.1/reference/generated/numpy.exp.html).\n"
      ]
    },
    {
      "cell_type": "markdown",
      "metadata": {
        "id": "ReWtgqV--ct6"
      },
      "source": [
        "## What is Pytorch?\n",
        "\n",
        "[PyTorch](https://pytorch.org/) is a python package built by **Facebook AI Research (FAIR)** that provides two high-level features:\n",
        "\n",
        "- Tensor computation (like numpy) with strong GPU acceleration\n",
        "- Deep Neural Networks built on a tape-based autograd (_Automatic Gradient Calculation_) system\n",
        "\n",
        "## Why Pytorch?\n",
        "\n",
        "- **More Pythonic**\n",
        "\n",
        "  - Flexible\n",
        "  - Intuitive and cleaner code\n",
        "  - Easy to learn & debug\n",
        "  - Dynamic Computation Graph (_network behavior can be changed programmatically at runtime_)\n",
        "\n",
        "- **More Neural Networkic**\n",
        "  - Write code as the network works\n",
        "  - forward/backward\n"
      ]
    },
    {
      "cell_type": "markdown",
      "metadata": {
        "id": "o3Furpvn_pKX"
      },
      "source": [
        "## Checking PyTorch version\n"
      ]
    },
    {
      "cell_type": "code",
      "execution_count": null,
      "metadata": {
        "colab": {
          "base_uri": "https://localhost:8080/"
        },
        "id": "yjLC9B6h_sFi",
        "outputId": "b9d5f021-9361-4105-9bcc-524829232b55"
      },
      "outputs": [
        {
          "name": "stdout",
          "output_type": "stream",
          "text": [
            "2.3.0\n"
          ]
        }
      ],
      "source": [
        "import torch\n",
        "\n",
        "print(torch.__version__)"
      ]
    },
    {
      "cell_type": "markdown",
      "metadata": {
        "id": "pvGt0wQH_qQh"
      },
      "source": [
        "## Introduction to Tensors\n",
        "\n",
        "A **PyTorch Tensor** is basically the same as a numpy array: it does not know anything about deep learning or computational graphs or gradients, and is just a generic **n-dimensional array** to be used for arbitrary **numeric computation**.\n",
        "\n",
        "The biggest difference between a numpy array and a PyTorch Tensor is that a **PyTorch Tensor can run on either CPU or GPU**. To run operations on the GPU, **just cast the Tensor to a cuda datatype**.\n",
        "\n",
        "A scalar is **zero-order tensor** or rank zero tensor. A vector is a **one-dimensional** or first order tensor, and a matrix is a **two-dimensional** or second order tensor.\n",
        "\n",
        "<div align=\"center\">\n",
        "<img src=\"https://drive.google.com/uc?id=1pka-LVyrq_7r0sCm59cvOQofEYAcnO4r\" width=\"550\">\n",
        "</div>\n",
        "\n",
        "<div align=\"center\">\n",
        "<img src=\"https://drive.google.com/uc?id=1zHT5CGzIgpe1aLkdawrllTMn74nYVeAp\" width=\"550\">\n",
        "</div>\n"
      ]
    },
    {
      "cell_type": "markdown",
      "metadata": {
        "id": "BmPtzMoC_7er"
      },
      "source": [
        "A [torch.Tensor](https://pytorch.org/docs/stable/tensors.html) is a **multi-dimensional matrix** containing elements of a **single data type**.\n",
        "\n",
        "`torch.Tensor` is an alias for the default tensor type (`torch.FloatTensor`).\n"
      ]
    },
    {
      "cell_type": "code",
      "execution_count": null,
      "metadata": {
        "colab": {
          "base_uri": "https://localhost:8080/"
        },
        "id": "I_U-fg4I_-dx",
        "outputId": "e7c7b1d3-90ad-42e9-8d9b-8c9e386a2a5c"
      },
      "outputs": [
        {
          "data": {
            "text/plain": [
              "tensor([[ 1, -1],\n",
              "        [ 1, -1]])"
            ]
          },
          "execution_count": 49,
          "metadata": {},
          "output_type": "execute_result"
        }
      ],
      "source": [
        "torch.tensor([[1, -1],\n",
        "              [1, -1]])"
      ]
    },
    {
      "cell_type": "code",
      "execution_count": null,
      "metadata": {
        "colab": {
          "base_uri": "https://localhost:8080/"
        },
        "id": "_iBjui28ABKj",
        "outputId": "bfb78d19-89e9-4b50-b46f-d1c0926ff603"
      },
      "outputs": [
        {
          "name": "stdout",
          "output_type": "stream",
          "text": [
            "<class 'torch.Tensor'>\n"
          ]
        }
      ],
      "source": [
        "x = torch.rand([5, 3])\n",
        "print(type(x))"
      ]
    },
    {
      "cell_type": "code",
      "execution_count": null,
      "metadata": {
        "colab": {
          "base_uri": "https://localhost:8080/"
        },
        "id": "QeUWdgVx2WcB",
        "outputId": "53fd53ba-ebb6-4c3f-fdea-47805c4f4528"
      },
      "outputs": [
        {
          "data": {
            "text/plain": [
              "tensor([[38, 92],\n",
              "        [57, 12]])"
            ]
          },
          "execution_count": 51,
          "metadata": {},
          "output_type": "execute_result"
        }
      ],
      "source": [
        "torch.randint(1, 101, (2, 2))"
      ]
    },
    {
      "cell_type": "code",
      "execution_count": null,
      "metadata": {
        "colab": {
          "base_uri": "https://localhost:8080/"
        },
        "id": "ENUb97kLN7Z-",
        "outputId": "dd59455d-89f2-444c-9630-8096227b89d9"
      },
      "outputs": [
        {
          "data": {
            "text/plain": [
              "tensor([[1., 1.],\n",
              "        [1., 1.]])"
            ]
          },
          "execution_count": 52,
          "metadata": {},
          "output_type": "execute_result"
        }
      ],
      "source": [
        "torch.ones((2, 2))"
      ]
    },
    {
      "cell_type": "code",
      "execution_count": null,
      "metadata": {
        "colab": {
          "base_uri": "https://localhost:8080/"
        },
        "id": "GVrMKE6hAI7n",
        "outputId": "3baf790b-b28c-4669-935d-f4b34b368ae7"
      },
      "outputs": [
        {
          "data": {
            "text/plain": [
              "tensor([[1, 2, 3],\n",
              "        [4, 5, 6]], dtype=torch.int32)"
            ]
          },
          "execution_count": 13,
          "metadata": {},
          "output_type": "execute_result"
        }
      ],
      "source": [
        "# Converting numpy arrays to tensors\n",
        "import numpy as np\n",
        "\n",
        "np_arr = np.array([[1, 2, 3], [4, 5, 6]])\n",
        "torch.tensor(np_arr, dtype = torch.int)"
      ]
    },
    {
      "cell_type": "code",
      "execution_count": null,
      "metadata": {
        "colab": {
          "base_uri": "https://localhost:8080/"
        },
        "id": "EDGZEyz-B8gt",
        "outputId": "7796bead-da10-429f-957b-62290a3d12e4"
      },
      "outputs": [
        {
          "name": "stdout",
          "output_type": "stream",
          "text": [
            "tensor([[1, 2, 3],\n",
            "        [4, 5, 6]])\n"
          ]
        }
      ],
      "source": [
        "# Converting numpy arrays to tensors\n",
        "np_values = np.array([[1, 2, 3], [4, 5, 6]])\n",
        "\n",
        "tensor_values = torch.from_numpy(np_values)\n",
        "\n",
        "print (tensor_values)"
      ]
    },
    {
      "cell_type": "code",
      "execution_count": null,
      "metadata": {
        "colab": {
          "base_uri": "https://localhost:8080/"
        },
        "id": "tZBsr0v9CApq",
        "outputId": "e02c60da-4cf3-4ab1-e1e5-aca955495800"
      },
      "outputs": [
        {
          "data": {
            "text/plain": [
              "tensor([[0., 0., 0., 0.],\n",
              "        [0., 0., 0., 0.]])"
            ]
          },
          "execution_count": 55,
          "metadata": {},
          "output_type": "execute_result"
        }
      ],
      "source": [
        "# A tensor of specific data type can be constructed by passing a torch.dtype\n",
        "\n",
        "torch.zeros([2, 4])"
      ]
    },
    {
      "cell_type": "code",
      "execution_count": null,
      "metadata": {
        "colab": {
          "base_uri": "https://localhost:8080/"
        },
        "id": "t7XjsX6oCCcv",
        "outputId": "49a8b5c1-8104-452c-9868-3e65ce9b3efa"
      },
      "outputs": [
        {
          "name": "stdout",
          "output_type": "stream",
          "text": [
            "tensor(6)\n",
            "tensor([[1, 8, 3],\n",
            "        [4, 5, 6]])\n"
          ]
        }
      ],
      "source": [
        "# The contents of a tensor can be accessed and modified using Python’s indexing and slicing notation:\n",
        "x = torch.tensor([[1, 2, 3], [4, 5, 6]])\n",
        "print(x[1, 2])\n",
        "\n",
        "# Modify a certain element\n",
        "x[0][1] = 8\n",
        "print(x)"
      ]
    },
    {
      "cell_type": "code",
      "execution_count": null,
      "metadata": {
        "colab": {
          "base_uri": "https://localhost:8080/"
        },
        "id": "ZDYYKeexCFPv",
        "outputId": "18f7b807-9a12-4521-e5ea-6ebb638b1878"
      },
      "outputs": [
        {
          "name": "stdout",
          "output_type": "stream",
          "text": [
            "tensor([[1]])\n",
            "1\n",
            "2.5\n"
          ]
        }
      ],
      "source": [
        "# Use torch.Tensor.item() to get a Python number from a tensor containing a single value\n",
        "\n",
        "x = torch.tensor([[1]])\n",
        "print(x)\n",
        "y = x.item()\n",
        "print(y)\n",
        "\n",
        "x = torch.tensor(2.5)\n",
        "\n",
        "print(x.item())"
      ]
    },
    {
      "cell_type": "code",
      "execution_count": null,
      "metadata": {
        "colab": {
          "base_uri": "https://localhost:8080/"
        },
        "id": "t9_oXP4YCJ7X",
        "outputId": "2e8c7b28-ddc6-4427-8a16-e7d19ecaaf1d"
      },
      "outputs": [
        {
          "name": "stdout",
          "output_type": "stream",
          "text": [
            "torch.Size([2, 3])\n"
          ]
        }
      ],
      "source": [
        "x = torch.tensor([[1, 2, 3], [4, 5, 6]])\n",
        "print(x.size())"
      ]
    },
    {
      "cell_type": "code",
      "execution_count": null,
      "metadata": {
        "colab": {
          "base_uri": "https://localhost:8080/"
        },
        "id": "3yRIixjcCN09",
        "outputId": "affd728c-ad9d-4926-ab25-9a7cae467f3b"
      },
      "outputs": [
        {
          "name": "stdout",
          "output_type": "stream",
          "text": [
            "tensor([[0.0430, 0.9832, 0.6139],\n",
            "        [0.8795, 0.7155, 0.2965],\n",
            "        [0.8613, 0.8023, 0.2825],\n",
            "        [0.7371, 0.3929, 0.1718],\n",
            "        [0.2717, 0.2105, 0.3344]])\n",
            "tensor([[0.8813, 0.6820, 0.3434],\n",
            "        [0.0244, 0.4584, 0.2618],\n",
            "        [0.5758, 0.1594, 0.9410],\n",
            "        [0.7899, 0.9223, 0.5685],\n",
            "        [0.6818, 0.9042, 0.5461]])\n",
            "tensor([[0.9244, 1.6651, 0.9573],\n",
            "        [0.9039, 1.1739, 0.5583],\n",
            "        [1.4372, 0.9617, 1.2236],\n",
            "        [1.5269, 1.3152, 0.7404],\n",
            "        [0.9535, 1.1147, 0.8805]])\n",
            "tensor([[-0.8383,  0.3012,  0.2705],\n",
            "        [ 0.8550,  0.2571,  0.0346],\n",
            "        [ 0.2855,  0.6429, -0.6585],\n",
            "        [-0.0528, -0.5293, -0.3967],\n",
            "        [-0.4101, -0.6937, -0.2117]])\n"
          ]
        }
      ],
      "source": [
        "# Tensor addition & subtraction\n",
        "x = torch.rand(5, 3)\n",
        "y = torch.rand(5, 3)\n",
        "\n",
        "print(x)\n",
        "print(y)\n",
        "\n",
        "print(x + y)\n",
        "print(x - y)"
      ]
    },
    {
      "cell_type": "code",
      "execution_count": null,
      "metadata": {
        "colab": {
          "base_uri": "https://localhost:8080/"
        },
        "id": "wd9CC6XzCPpg",
        "outputId": "11e32ef8-e44c-4358-ecd1-667eb4997528"
      },
      "outputs": [
        {
          "name": "stdout",
          "output_type": "stream",
          "text": [
            "tensor([[0.9244, 1.6651, 0.9573],\n",
            "        [0.9039, 1.1739, 0.5583],\n",
            "        [1.4372, 0.9617, 1.2236],\n",
            "        [1.5269, 1.3152, 0.7404],\n",
            "        [0.9535, 1.1147, 0.8805]])\n",
            "tensor([[-0.8383,  0.3012,  0.2705],\n",
            "        [ 0.8550,  0.2571,  0.0346],\n",
            "        [ 0.2855,  0.6429, -0.6585],\n",
            "        [-0.0528, -0.5293, -0.3967],\n",
            "        [-0.4101, -0.6937, -0.2117]])\n",
            "tensor([[0.0379, 0.6705, 0.2108],\n",
            "        [0.0215, 0.3280, 0.0776],\n",
            "        [0.4960, 0.1279, 0.2659],\n",
            "        [0.5822, 0.3624, 0.0977],\n",
            "        [0.1852, 0.1903, 0.1826]])\n"
          ]
        },
        {
          "data": {
            "text/plain": [
              "tensor([[0.0379, 0.6705, 0.2108],\n",
              "        [0.0215, 0.3280, 0.0776],\n",
              "        [0.4960, 0.1279, 0.2659],\n",
              "        [0.5822, 0.3624, 0.0977],\n",
              "        [0.1852, 0.1903, 0.1826]])"
            ]
          },
          "execution_count": 60,
          "metadata": {},
          "output_type": "execute_result"
        }
      ],
      "source": [
        "# Syntax 2 for Tensor addition & subtraction in PyTorch\n",
        "print(torch.add(x, y))\n",
        "print(torch.sub(x, y))\n",
        "print(x*y)\n",
        "x.mul(y)"
      ]
    },
    {
      "cell_type": "code",
      "execution_count": null,
      "metadata": {
        "colab": {
          "base_uri": "https://localhost:8080/"
        },
        "id": "hAihCpo7CU0c",
        "outputId": "ed3a6dbd-85e2-4cdd-944c-60af51ef4f51"
      },
      "outputs": [
        {
          "name": "stdout",
          "output_type": "stream",
          "text": [
            "tensor([[ 1.1977, -1.2243,  0.8041],\n",
            "        [ 0.9805,  0.0492,  0.8918]])\n",
            "tensor([[ 0.1874,  0.7875, -1.1915],\n",
            "        [ 0.4665,  0.4122, -0.2270],\n",
            "        [ 1.3900, -1.3476,  0.4686]])\n",
            "tensor([[ 0.7710, -0.6450, -0.7724],\n",
            "        [ 1.4463, -0.4094, -0.7615]])\n",
            "tensor([[ 1.1977,  0.9805],\n",
            "        [-1.2243,  0.0492],\n",
            "        [ 0.8041,  0.8918]])\n"
          ]
        }
      ],
      "source": [
        "# Tensor Product & Transpose\n",
        "\n",
        "mat1 = torch.randn(2, 3)\n",
        "mat2 = torch.randn(3, 3)\n",
        "\n",
        "print(mat1)\n",
        "print(mat2)\n",
        "\n",
        "print(torch.mm(mat1, mat2))\n",
        "\n",
        "print(mat1.t())"
      ]
    },
    {
      "cell_type": "code",
      "execution_count": null,
      "metadata": {
        "colab": {
          "base_uri": "https://localhost:8080/"
        },
        "id": "Mcze4CWRCYD0",
        "outputId": "7e5da183-f14b-43bd-9813-951e232536b8"
      },
      "outputs": [
        {
          "data": {
            "text/plain": [
              "tensor([[ 1.,  4.],\n",
              "        [ 9., 16.]])"
            ]
          },
          "execution_count": 62,
          "metadata": {},
          "output_type": "execute_result"
        }
      ],
      "source": [
        "# Elementwise multiplication\n",
        "t = torch.Tensor([[1, 2], [3, 4]])\n",
        "t.mul(t)"
      ]
    },
    {
      "cell_type": "code",
      "execution_count": null,
      "metadata": {
        "colab": {
          "base_uri": "https://localhost:8080/"
        },
        "id": "57OLSgrXCafz",
        "outputId": "e3395155-b636-48d8-8b67-91a803354bf8"
      },
      "outputs": [
        {
          "name": "stdout",
          "output_type": "stream",
          "text": [
            "Tensor shape: torch.Size([5, 3])\n",
            "Number of dimensions: 2\n",
            "Tensor type: torch.FloatTensor\n"
          ]
        }
      ],
      "source": [
        "# Shape, dimensions, and datatype of a tensor object\n",
        "\n",
        "x = torch.rand(5, 3)\n",
        "\n",
        "print('Tensor shape:', x.shape)   # t.size() gives the same\n",
        "print('Number of dimensions:', x.dim())\n",
        "print('Tensor type:', x.type())   # there are other types"
      ]
    },
    {
      "cell_type": "code",
      "execution_count": null,
      "metadata": {
        "colab": {
          "base_uri": "https://localhost:8080/"
        },
        "id": "8Ekj2MQpCeIK",
        "outputId": "233e55b2-a359-4796-c682-0ca978b426d7"
      },
      "outputs": [
        {
          "name": "stdout",
          "output_type": "stream",
          "text": [
            "tensor([7., 8., 9.])\n",
            "tensor([[1., 2., 3.],\n",
            "        [4., 5., 6.]])\n",
            "tensor([[9.]])\n"
          ]
        }
      ],
      "source": [
        "# Slicing\n",
        "t = torch.Tensor([[1, 2, 3],\n",
        "                  [4, 5, 6],\n",
        "                  [7, 8, 9],\n",
        "                  [7, 8, 9]])\n",
        "\n",
        "# Every row, only the last column\n",
        "print(t[-1])\n",
        "\n",
        "# First 2 rows, all columns\n",
        "print(t[:2, :])\n",
        "\n",
        "# Lower right most corner\n",
        "print(t[-1:, -1:])"
      ]
    },
    {
      "cell_type": "code",
      "execution_count": null,
      "metadata": {
        "colab": {
          "base_uri": "https://localhost:8080/"
        },
        "id": "IqOKPuIo7sic",
        "outputId": "eea2b328-159a-4534-8e60-9c023c26646d"
      },
      "outputs": [
        {
          "data": {
            "text/plain": [
              "tensor([[2., 3.],\n",
              "        [5., 6.]])"
            ]
          },
          "execution_count": 16,
          "metadata": {},
          "output_type": "execute_result"
        }
      ],
      "source": [
        "t = torch.Tensor([[1, 2, 3],\n",
        "                  [4, 5, 6],\n",
        "                  [7, 8, 9],\n",
        "                  [10, 11, 12]])\n",
        "\n",
        "t[0:2, 1:3]"
      ]
    },
    {
      "cell_type": "code",
      "execution_count": null,
      "metadata": {
        "id": "qmqpYXRR9eg0",
        "outputId": "df8c3112-5bf4-42ab-9f2a-34ecc2f1e417"
      },
      "outputs": [
        {
          "data": {
            "text/plain": [
              "tensor([[5., 6.],\n",
              "        [8., 9.]])"
            ]
          },
          "execution_count": 17,
          "metadata": {},
          "output_type": "execute_result"
        }
      ],
      "source": [
        "t[-3:-1, -2:]"
      ]
    },
    {
      "cell_type": "code",
      "execution_count": null,
      "metadata": {
        "id": "M47lEXSU-3xr"
      },
      "outputs": [],
      "source": [
        "x = np.array([[1, 2, 3],\n",
        "              [4, 5, 6],\n",
        "              [7, 8, 9],\n",
        "              [10, 11, 12]])"
      ]
    },
    {
      "cell_type": "code",
      "execution_count": null,
      "metadata": {
        "id": "jAImFEHB-9uU",
        "outputId": "033dd297-78d5-4550-9378-d3681f1aeb6b"
      },
      "outputs": [
        {
          "data": {
            "text/plain": [
              "array([[12, 11, 10],\n",
              "       [ 9,  8,  7],\n",
              "       [ 6,  5,  4],\n",
              "       [ 3,  2,  1]])"
            ]
          },
          "execution_count": 19,
          "metadata": {},
          "output_type": "execute_result"
        }
      ],
      "source": [
        "x[-1::-1, -1::-1]"
      ]
    }
  ],
  "metadata": {
    "colab": {
      "provenance": []
    },
    "kernelspec": {
      "display_name": "base",
      "language": "python",
      "name": "python3"
    },
    "language_info": {
      "codemirror_mode": {
        "name": "ipython",
        "version": 3
      },
      "file_extension": ".py",
      "mimetype": "text/x-python",
      "name": "python",
      "nbconvert_exporter": "python",
      "pygments_lexer": "ipython3",
      "version": "3.11.7"
    }
  },
  "nbformat": 4,
  "nbformat_minor": 0
}