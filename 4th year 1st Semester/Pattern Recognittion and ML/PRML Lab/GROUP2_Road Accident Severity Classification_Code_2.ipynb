{
  "nbformat": 4,
  "nbformat_minor": 0,
  "metadata": {
    "colab": {
      "provenance": [],
      "gpuType": "T4"
    },
    "kernelspec": {
      "name": "python3",
      "display_name": "Python 3"
    },
    "language_info": {
      "name": "python"
    },
    "accelerator": "GPU"
  },
  "cells": [
    {
      "cell_type": "code",
      "execution_count": null,
      "metadata": {
        "colab": {
          "base_uri": "https://localhost:8080/"
        },
        "id": "SCMf-Bkefuy1",
        "outputId": "a4ba54a6-8fb2-4612-a2e4-7e84f25afb52"
      },
      "outputs": [
        {
          "output_type": "stream",
          "name": "stdout",
          "text": [
            "Drive already mounted at /content/drive; to attempt to forcibly remount, call drive.mount(\"/content/drive\", force_remount=True).\n"
          ]
        }
      ],
      "source": [
        "from google.colab import drive\n",
        "drive.mount('/content/drive')"
      ]
    },
    {
      "cell_type": "code",
      "source": [
        "import pandas as pd\n",
        "import numpy as np\n",
        "import torch\n",
        "import torch.nn as nn\n",
        "import torch.optim as optim\n",
        "import torch.nn.functional as F\n",
        "from torch.utils.data import Dataset, DataLoader\n",
        "from sklearn.model_selection import train_test_split\n",
        "from collections import Counter\n",
        "from torch.optim.lr_scheduler import ReduceLROnPlateau\n",
        "from sklearn.metrics import accuracy_score, precision_score, recall_score, f1_score, confusion_matrix\n",
        "from sklearn.ensemble import RandomForestClassifier, RandomForestRegressor\n",
        "from sklearn.preprocessing import LabelEncoder\n",
        "from sklearn.impute import SimpleImputer\n"
      ],
      "metadata": {
        "id": "mjV9Q1I1fvdj"
      },
      "execution_count": null,
      "outputs": []
    },
    {
      "cell_type": "code",
      "source": [
        "datapath = '/content/drive/MyDrive/4.1/PRML Lab/RTA Dataset.csv'\n",
        "df = pd.read_csv(datapath)\n",
        "\n",
        "df.head()"
      ],
      "metadata": {
        "colab": {
          "base_uri": "https://localhost:8080/",
          "height": 307
        },
        "id": "430efDg-gfmh",
        "outputId": "f1f120b7-0363-4d53-f301-2d8396407353"
      },
      "execution_count": null,
      "outputs": [
        {
          "output_type": "execute_result",
          "data": {
            "text/plain": [
              "       Time Day_of_week Age_band_of_driver Sex_of_driver   Educational_level  \\\n",
              "0  17:02:00      Monday              18-30          Male   Above high school   \n",
              "1  17:02:00      Monday              31-50          Male  Junior high school   \n",
              "2  17:02:00      Monday              18-30          Male  Junior high school   \n",
              "3   1:06:00      Sunday              18-30          Male  Junior high school   \n",
              "4   1:06:00      Sunday              18-30          Male  Junior high school   \n",
              "\n",
              "  Vehicle_driver_relation Driving_experience      Type_of_vehicle  \\\n",
              "0                Employee              1-2yr           Automobile   \n",
              "1                Employee         Above 10yr  Public (> 45 seats)   \n",
              "2                Employee              1-2yr      Lorry (41?100Q)   \n",
              "3                Employee             5-10yr  Public (> 45 seats)   \n",
              "4                Employee              2-5yr                  NaN   \n",
              "\n",
              "  Owner_of_vehicle Service_year_of_vehicle  ... Vehicle_movement  \\\n",
              "0            Owner              Above 10yr  ...   Going straight   \n",
              "1            Owner                 5-10yrs  ...   Going straight   \n",
              "2            Owner                     NaN  ...   Going straight   \n",
              "3     Governmental                     NaN  ...   Going straight   \n",
              "4            Owner                 5-10yrs  ...   Going straight   \n",
              "\n",
              "    Casualty_class Sex_of_casualty Age_band_of_casualty Casualty_severity  \\\n",
              "0               na              na                   na                na   \n",
              "1               na              na                   na                na   \n",
              "2  Driver or rider            Male                31-50                 3   \n",
              "3       Pedestrian          Female                18-30                 3   \n",
              "4               na              na                   na                na   \n",
              "\n",
              "  Work_of_casuality Fitness_of_casuality Pedestrian_movement  \\\n",
              "0               NaN                  NaN    Not a Pedestrian   \n",
              "1               NaN                  NaN    Not a Pedestrian   \n",
              "2            Driver                  NaN    Not a Pedestrian   \n",
              "3            Driver               Normal    Not a Pedestrian   \n",
              "4               NaN                  NaN    Not a Pedestrian   \n",
              "\n",
              "            Cause_of_accident Accident_severity  \n",
              "0             Moving Backward     Slight Injury  \n",
              "1                  Overtaking     Slight Injury  \n",
              "2   Changing lane to the left    Serious Injury  \n",
              "3  Changing lane to the right     Slight Injury  \n",
              "4                  Overtaking     Slight Injury  \n",
              "\n",
              "[5 rows x 32 columns]"
            ],
            "text/html": [
              "\n",
              "  <div id=\"df-3508f7da-ab70-48b1-a41b-dc1491fa5629\" class=\"colab-df-container\">\n",
              "    <div>\n",
              "<style scoped>\n",
              "    .dataframe tbody tr th:only-of-type {\n",
              "        vertical-align: middle;\n",
              "    }\n",
              "\n",
              "    .dataframe tbody tr th {\n",
              "        vertical-align: top;\n",
              "    }\n",
              "\n",
              "    .dataframe thead th {\n",
              "        text-align: right;\n",
              "    }\n",
              "</style>\n",
              "<table border=\"1\" class=\"dataframe\">\n",
              "  <thead>\n",
              "    <tr style=\"text-align: right;\">\n",
              "      <th></th>\n",
              "      <th>Time</th>\n",
              "      <th>Day_of_week</th>\n",
              "      <th>Age_band_of_driver</th>\n",
              "      <th>Sex_of_driver</th>\n",
              "      <th>Educational_level</th>\n",
              "      <th>Vehicle_driver_relation</th>\n",
              "      <th>Driving_experience</th>\n",
              "      <th>Type_of_vehicle</th>\n",
              "      <th>Owner_of_vehicle</th>\n",
              "      <th>Service_year_of_vehicle</th>\n",
              "      <th>...</th>\n",
              "      <th>Vehicle_movement</th>\n",
              "      <th>Casualty_class</th>\n",
              "      <th>Sex_of_casualty</th>\n",
              "      <th>Age_band_of_casualty</th>\n",
              "      <th>Casualty_severity</th>\n",
              "      <th>Work_of_casuality</th>\n",
              "      <th>Fitness_of_casuality</th>\n",
              "      <th>Pedestrian_movement</th>\n",
              "      <th>Cause_of_accident</th>\n",
              "      <th>Accident_severity</th>\n",
              "    </tr>\n",
              "  </thead>\n",
              "  <tbody>\n",
              "    <tr>\n",
              "      <th>0</th>\n",
              "      <td>17:02:00</td>\n",
              "      <td>Monday</td>\n",
              "      <td>18-30</td>\n",
              "      <td>Male</td>\n",
              "      <td>Above high school</td>\n",
              "      <td>Employee</td>\n",
              "      <td>1-2yr</td>\n",
              "      <td>Automobile</td>\n",
              "      <td>Owner</td>\n",
              "      <td>Above 10yr</td>\n",
              "      <td>...</td>\n",
              "      <td>Going straight</td>\n",
              "      <td>na</td>\n",
              "      <td>na</td>\n",
              "      <td>na</td>\n",
              "      <td>na</td>\n",
              "      <td>NaN</td>\n",
              "      <td>NaN</td>\n",
              "      <td>Not a Pedestrian</td>\n",
              "      <td>Moving Backward</td>\n",
              "      <td>Slight Injury</td>\n",
              "    </tr>\n",
              "    <tr>\n",
              "      <th>1</th>\n",
              "      <td>17:02:00</td>\n",
              "      <td>Monday</td>\n",
              "      <td>31-50</td>\n",
              "      <td>Male</td>\n",
              "      <td>Junior high school</td>\n",
              "      <td>Employee</td>\n",
              "      <td>Above 10yr</td>\n",
              "      <td>Public (&gt; 45 seats)</td>\n",
              "      <td>Owner</td>\n",
              "      <td>5-10yrs</td>\n",
              "      <td>...</td>\n",
              "      <td>Going straight</td>\n",
              "      <td>na</td>\n",
              "      <td>na</td>\n",
              "      <td>na</td>\n",
              "      <td>na</td>\n",
              "      <td>NaN</td>\n",
              "      <td>NaN</td>\n",
              "      <td>Not a Pedestrian</td>\n",
              "      <td>Overtaking</td>\n",
              "      <td>Slight Injury</td>\n",
              "    </tr>\n",
              "    <tr>\n",
              "      <th>2</th>\n",
              "      <td>17:02:00</td>\n",
              "      <td>Monday</td>\n",
              "      <td>18-30</td>\n",
              "      <td>Male</td>\n",
              "      <td>Junior high school</td>\n",
              "      <td>Employee</td>\n",
              "      <td>1-2yr</td>\n",
              "      <td>Lorry (41?100Q)</td>\n",
              "      <td>Owner</td>\n",
              "      <td>NaN</td>\n",
              "      <td>...</td>\n",
              "      <td>Going straight</td>\n",
              "      <td>Driver or rider</td>\n",
              "      <td>Male</td>\n",
              "      <td>31-50</td>\n",
              "      <td>3</td>\n",
              "      <td>Driver</td>\n",
              "      <td>NaN</td>\n",
              "      <td>Not a Pedestrian</td>\n",
              "      <td>Changing lane to the left</td>\n",
              "      <td>Serious Injury</td>\n",
              "    </tr>\n",
              "    <tr>\n",
              "      <th>3</th>\n",
              "      <td>1:06:00</td>\n",
              "      <td>Sunday</td>\n",
              "      <td>18-30</td>\n",
              "      <td>Male</td>\n",
              "      <td>Junior high school</td>\n",
              "      <td>Employee</td>\n",
              "      <td>5-10yr</td>\n",
              "      <td>Public (&gt; 45 seats)</td>\n",
              "      <td>Governmental</td>\n",
              "      <td>NaN</td>\n",
              "      <td>...</td>\n",
              "      <td>Going straight</td>\n",
              "      <td>Pedestrian</td>\n",
              "      <td>Female</td>\n",
              "      <td>18-30</td>\n",
              "      <td>3</td>\n",
              "      <td>Driver</td>\n",
              "      <td>Normal</td>\n",
              "      <td>Not a Pedestrian</td>\n",
              "      <td>Changing lane to the right</td>\n",
              "      <td>Slight Injury</td>\n",
              "    </tr>\n",
              "    <tr>\n",
              "      <th>4</th>\n",
              "      <td>1:06:00</td>\n",
              "      <td>Sunday</td>\n",
              "      <td>18-30</td>\n",
              "      <td>Male</td>\n",
              "      <td>Junior high school</td>\n",
              "      <td>Employee</td>\n",
              "      <td>2-5yr</td>\n",
              "      <td>NaN</td>\n",
              "      <td>Owner</td>\n",
              "      <td>5-10yrs</td>\n",
              "      <td>...</td>\n",
              "      <td>Going straight</td>\n",
              "      <td>na</td>\n",
              "      <td>na</td>\n",
              "      <td>na</td>\n",
              "      <td>na</td>\n",
              "      <td>NaN</td>\n",
              "      <td>NaN</td>\n",
              "      <td>Not a Pedestrian</td>\n",
              "      <td>Overtaking</td>\n",
              "      <td>Slight Injury</td>\n",
              "    </tr>\n",
              "  </tbody>\n",
              "</table>\n",
              "<p>5 rows × 32 columns</p>\n",
              "</div>\n",
              "    <div class=\"colab-df-buttons\">\n",
              "\n",
              "  <div class=\"colab-df-container\">\n",
              "    <button class=\"colab-df-convert\" onclick=\"convertToInteractive('df-3508f7da-ab70-48b1-a41b-dc1491fa5629')\"\n",
              "            title=\"Convert this dataframe to an interactive table.\"\n",
              "            style=\"display:none;\">\n",
              "\n",
              "  <svg xmlns=\"http://www.w3.org/2000/svg\" height=\"24px\" viewBox=\"0 -960 960 960\">\n",
              "    <path d=\"M120-120v-720h720v720H120Zm60-500h600v-160H180v160Zm220 220h160v-160H400v160Zm0 220h160v-160H400v160ZM180-400h160v-160H180v160Zm440 0h160v-160H620v160ZM180-180h160v-160H180v160Zm440 0h160v-160H620v160Z\"/>\n",
              "  </svg>\n",
              "    </button>\n",
              "\n",
              "  <style>\n",
              "    .colab-df-container {\n",
              "      display:flex;\n",
              "      gap: 12px;\n",
              "    }\n",
              "\n",
              "    .colab-df-convert {\n",
              "      background-color: #E8F0FE;\n",
              "      border: none;\n",
              "      border-radius: 50%;\n",
              "      cursor: pointer;\n",
              "      display: none;\n",
              "      fill: #1967D2;\n",
              "      height: 32px;\n",
              "      padding: 0 0 0 0;\n",
              "      width: 32px;\n",
              "    }\n",
              "\n",
              "    .colab-df-convert:hover {\n",
              "      background-color: #E2EBFA;\n",
              "      box-shadow: 0px 1px 2px rgba(60, 64, 67, 0.3), 0px 1px 3px 1px rgba(60, 64, 67, 0.15);\n",
              "      fill: #174EA6;\n",
              "    }\n",
              "\n",
              "    .colab-df-buttons div {\n",
              "      margin-bottom: 4px;\n",
              "    }\n",
              "\n",
              "    [theme=dark] .colab-df-convert {\n",
              "      background-color: #3B4455;\n",
              "      fill: #D2E3FC;\n",
              "    }\n",
              "\n",
              "    [theme=dark] .colab-df-convert:hover {\n",
              "      background-color: #434B5C;\n",
              "      box-shadow: 0px 1px 3px 1px rgba(0, 0, 0, 0.15);\n",
              "      filter: drop-shadow(0px 1px 2px rgba(0, 0, 0, 0.3));\n",
              "      fill: #FFFFFF;\n",
              "    }\n",
              "  </style>\n",
              "\n",
              "    <script>\n",
              "      const buttonEl =\n",
              "        document.querySelector('#df-3508f7da-ab70-48b1-a41b-dc1491fa5629 button.colab-df-convert');\n",
              "      buttonEl.style.display =\n",
              "        google.colab.kernel.accessAllowed ? 'block' : 'none';\n",
              "\n",
              "      async function convertToInteractive(key) {\n",
              "        const element = document.querySelector('#df-3508f7da-ab70-48b1-a41b-dc1491fa5629');\n",
              "        const dataTable =\n",
              "          await google.colab.kernel.invokeFunction('convertToInteractive',\n",
              "                                                    [key], {});\n",
              "        if (!dataTable) return;\n",
              "\n",
              "        const docLinkHtml = 'Like what you see? Visit the ' +\n",
              "          '<a target=\"_blank\" href=https://colab.research.google.com/notebooks/data_table.ipynb>data table notebook</a>'\n",
              "          + ' to learn more about interactive tables.';\n",
              "        element.innerHTML = '';\n",
              "        dataTable['output_type'] = 'display_data';\n",
              "        await google.colab.output.renderOutput(dataTable, element);\n",
              "        const docLink = document.createElement('div');\n",
              "        docLink.innerHTML = docLinkHtml;\n",
              "        element.appendChild(docLink);\n",
              "      }\n",
              "    </script>\n",
              "  </div>\n",
              "\n",
              "\n",
              "<div id=\"df-f7598ff9-2e28-4697-aa85-7c3a66bbacc2\">\n",
              "  <button class=\"colab-df-quickchart\" onclick=\"quickchart('df-f7598ff9-2e28-4697-aa85-7c3a66bbacc2')\"\n",
              "            title=\"Suggest charts\"\n",
              "            style=\"display:none;\">\n",
              "\n",
              "<svg xmlns=\"http://www.w3.org/2000/svg\" height=\"24px\"viewBox=\"0 0 24 24\"\n",
              "     width=\"24px\">\n",
              "    <g>\n",
              "        <path d=\"M19 3H5c-1.1 0-2 .9-2 2v14c0 1.1.9 2 2 2h14c1.1 0 2-.9 2-2V5c0-1.1-.9-2-2-2zM9 17H7v-7h2v7zm4 0h-2V7h2v10zm4 0h-2v-4h2v4z\"/>\n",
              "    </g>\n",
              "</svg>\n",
              "  </button>\n",
              "\n",
              "<style>\n",
              "  .colab-df-quickchart {\n",
              "      --bg-color: #E8F0FE;\n",
              "      --fill-color: #1967D2;\n",
              "      --hover-bg-color: #E2EBFA;\n",
              "      --hover-fill-color: #174EA6;\n",
              "      --disabled-fill-color: #AAA;\n",
              "      --disabled-bg-color: #DDD;\n",
              "  }\n",
              "\n",
              "  [theme=dark] .colab-df-quickchart {\n",
              "      --bg-color: #3B4455;\n",
              "      --fill-color: #D2E3FC;\n",
              "      --hover-bg-color: #434B5C;\n",
              "      --hover-fill-color: #FFFFFF;\n",
              "      --disabled-bg-color: #3B4455;\n",
              "      --disabled-fill-color: #666;\n",
              "  }\n",
              "\n",
              "  .colab-df-quickchart {\n",
              "    background-color: var(--bg-color);\n",
              "    border: none;\n",
              "    border-radius: 50%;\n",
              "    cursor: pointer;\n",
              "    display: none;\n",
              "    fill: var(--fill-color);\n",
              "    height: 32px;\n",
              "    padding: 0;\n",
              "    width: 32px;\n",
              "  }\n",
              "\n",
              "  .colab-df-quickchart:hover {\n",
              "    background-color: var(--hover-bg-color);\n",
              "    box-shadow: 0 1px 2px rgba(60, 64, 67, 0.3), 0 1px 3px 1px rgba(60, 64, 67, 0.15);\n",
              "    fill: var(--button-hover-fill-color);\n",
              "  }\n",
              "\n",
              "  .colab-df-quickchart-complete:disabled,\n",
              "  .colab-df-quickchart-complete:disabled:hover {\n",
              "    background-color: var(--disabled-bg-color);\n",
              "    fill: var(--disabled-fill-color);\n",
              "    box-shadow: none;\n",
              "  }\n",
              "\n",
              "  .colab-df-spinner {\n",
              "    border: 2px solid var(--fill-color);\n",
              "    border-color: transparent;\n",
              "    border-bottom-color: var(--fill-color);\n",
              "    animation:\n",
              "      spin 1s steps(1) infinite;\n",
              "  }\n",
              "\n",
              "  @keyframes spin {\n",
              "    0% {\n",
              "      border-color: transparent;\n",
              "      border-bottom-color: var(--fill-color);\n",
              "      border-left-color: var(--fill-color);\n",
              "    }\n",
              "    20% {\n",
              "      border-color: transparent;\n",
              "      border-left-color: var(--fill-color);\n",
              "      border-top-color: var(--fill-color);\n",
              "    }\n",
              "    30% {\n",
              "      border-color: transparent;\n",
              "      border-left-color: var(--fill-color);\n",
              "      border-top-color: var(--fill-color);\n",
              "      border-right-color: var(--fill-color);\n",
              "    }\n",
              "    40% {\n",
              "      border-color: transparent;\n",
              "      border-right-color: var(--fill-color);\n",
              "      border-top-color: var(--fill-color);\n",
              "    }\n",
              "    60% {\n",
              "      border-color: transparent;\n",
              "      border-right-color: var(--fill-color);\n",
              "    }\n",
              "    80% {\n",
              "      border-color: transparent;\n",
              "      border-right-color: var(--fill-color);\n",
              "      border-bottom-color: var(--fill-color);\n",
              "    }\n",
              "    90% {\n",
              "      border-color: transparent;\n",
              "      border-bottom-color: var(--fill-color);\n",
              "    }\n",
              "  }\n",
              "</style>\n",
              "\n",
              "  <script>\n",
              "    async function quickchart(key) {\n",
              "      const quickchartButtonEl =\n",
              "        document.querySelector('#' + key + ' button');\n",
              "      quickchartButtonEl.disabled = true;  // To prevent multiple clicks.\n",
              "      quickchartButtonEl.classList.add('colab-df-spinner');\n",
              "      try {\n",
              "        const charts = await google.colab.kernel.invokeFunction(\n",
              "            'suggestCharts', [key], {});\n",
              "      } catch (error) {\n",
              "        console.error('Error during call to suggestCharts:', error);\n",
              "      }\n",
              "      quickchartButtonEl.classList.remove('colab-df-spinner');\n",
              "      quickchartButtonEl.classList.add('colab-df-quickchart-complete');\n",
              "    }\n",
              "    (() => {\n",
              "      let quickchartButtonEl =\n",
              "        document.querySelector('#df-f7598ff9-2e28-4697-aa85-7c3a66bbacc2 button');\n",
              "      quickchartButtonEl.style.display =\n",
              "        google.colab.kernel.accessAllowed ? 'block' : 'none';\n",
              "    })();\n",
              "  </script>\n",
              "</div>\n",
              "\n",
              "    </div>\n",
              "  </div>\n"
            ],
            "application/vnd.google.colaboratory.intrinsic+json": {
              "type": "dataframe",
              "variable_name": "df"
            }
          },
          "metadata": {},
          "execution_count": 15
        }
      ]
    },
    {
      "cell_type": "code",
      "source": [
        "print(df.columns)"
      ],
      "metadata": {
        "colab": {
          "base_uri": "https://localhost:8080/"
        },
        "id": "lxD232y3jB8E",
        "outputId": "555004bb-210b-4002-a1da-2309b20880ca"
      },
      "execution_count": null,
      "outputs": [
        {
          "output_type": "stream",
          "name": "stdout",
          "text": [
            "Index(['Time', 'Day_of_week', 'Age_band_of_driver', 'Sex_of_driver',\n",
            "       'Educational_level', 'Vehicle_driver_relation', 'Driving_experience',\n",
            "       'Type_of_vehicle', 'Owner_of_vehicle', 'Service_year_of_vehicle',\n",
            "       'Defect_of_vehicle', 'Area_accident_occured', 'Lanes_or_Medians',\n",
            "       'Road_allignment', 'Types_of_Junction', 'Road_surface_type',\n",
            "       'Road_surface_conditions', 'Light_conditions', 'Weather_conditions',\n",
            "       'Type_of_collision', 'Number_of_vehicles_involved',\n",
            "       'Number_of_casualties', 'Vehicle_movement', 'Casualty_class',\n",
            "       'Sex_of_casualty', 'Age_band_of_casualty', 'Casualty_severity',\n",
            "       'Work_of_casuality', 'Fitness_of_casuality', 'Pedestrian_movement',\n",
            "       'Cause_of_accident', 'Accident_severity'],\n",
            "      dtype='object')\n"
          ]
        }
      ]
    },
    {
      "cell_type": "code",
      "source": [
        "df = df.drop(columns=['Number_of_casualties', 'Casualty_class',\n",
        "       'Sex_of_casualty', 'Age_band_of_casualty', 'Casualty_severity',\n",
        "       'Work_of_casuality', 'Fitness_of_casuality'])"
      ],
      "metadata": {
        "id": "YQudGIzDi1an"
      },
      "execution_count": null,
      "outputs": []
    },
    {
      "cell_type": "code",
      "source": [
        "df.columns"
      ],
      "metadata": {
        "colab": {
          "base_uri": "https://localhost:8080/"
        },
        "id": "SYusGgZ1jccC",
        "outputId": "ce4a8b1b-4294-4270-b957-f46231bdabf1"
      },
      "execution_count": null,
      "outputs": [
        {
          "output_type": "execute_result",
          "data": {
            "text/plain": [
              "Index(['Time', 'Day_of_week', 'Age_band_of_driver', 'Sex_of_driver',\n",
              "       'Educational_level', 'Vehicle_driver_relation', 'Driving_experience',\n",
              "       'Type_of_vehicle', 'Owner_of_vehicle', 'Service_year_of_vehicle',\n",
              "       'Defect_of_vehicle', 'Area_accident_occured', 'Lanes_or_Medians',\n",
              "       'Road_allignment', 'Types_of_Junction', 'Road_surface_type',\n",
              "       'Road_surface_conditions', 'Light_conditions', 'Weather_conditions',\n",
              "       'Type_of_collision', 'Number_of_vehicles_involved', 'Vehicle_movement',\n",
              "       'Pedestrian_movement', 'Cause_of_accident', 'Accident_severity'],\n",
              "      dtype='object')"
            ]
          },
          "metadata": {},
          "execution_count": 6
        }
      ]
    },
    {
      "cell_type": "code",
      "source": [
        "unique_counts = df.nunique()\n",
        "print(unique_counts)"
      ],
      "metadata": {
        "colab": {
          "base_uri": "https://localhost:8080/"
        },
        "id": "_1mUliCtlCc1",
        "outputId": "cf0bd3cc-f9da-4b0c-f976-a95d9d93a7c7"
      },
      "execution_count": null,
      "outputs": [
        {
          "output_type": "stream",
          "name": "stdout",
          "text": [
            "Time                           1074\n",
            "Day_of_week                       7\n",
            "Age_band_of_driver                5\n",
            "Sex_of_driver                     3\n",
            "Educational_level                 7\n",
            "Vehicle_driver_relation           4\n",
            "Driving_experience                7\n",
            "Type_of_vehicle                  17\n",
            "Owner_of_vehicle                  4\n",
            "Service_year_of_vehicle           6\n",
            "Defect_of_vehicle                 3\n",
            "Area_accident_occured            14\n",
            "Lanes_or_Medians                  7\n",
            "Road_allignment                   9\n",
            "Types_of_Junction                 8\n",
            "Road_surface_type                 5\n",
            "Road_surface_conditions           4\n",
            "Light_conditions                  4\n",
            "Weather_conditions                9\n",
            "Type_of_collision                10\n",
            "Number_of_vehicles_involved       6\n",
            "Vehicle_movement                 13\n",
            "Pedestrian_movement               9\n",
            "Cause_of_accident                20\n",
            "Accident_severity                 3\n",
            "dtype: int64\n"
          ]
        }
      ]
    },
    {
      "cell_type": "code",
      "source": [
        "print(df.isnull().sum())"
      ],
      "metadata": {
        "colab": {
          "base_uri": "https://localhost:8080/"
        },
        "id": "wI9Z-uDDjghg",
        "outputId": "11c27908-15d2-4663-e17d-de7f8e1ec116"
      },
      "execution_count": null,
      "outputs": [
        {
          "output_type": "stream",
          "name": "stdout",
          "text": [
            "Time                              0\n",
            "Day_of_week                       0\n",
            "Age_band_of_driver                0\n",
            "Sex_of_driver                     0\n",
            "Educational_level               741\n",
            "Vehicle_driver_relation         579\n",
            "Driving_experience              829\n",
            "Type_of_vehicle                 950\n",
            "Owner_of_vehicle                482\n",
            "Service_year_of_vehicle        3928\n",
            "Defect_of_vehicle              4427\n",
            "Area_accident_occured           239\n",
            "Lanes_or_Medians                385\n",
            "Road_allignment                 142\n",
            "Types_of_Junction               887\n",
            "Road_surface_type               172\n",
            "Road_surface_conditions           0\n",
            "Light_conditions                  0\n",
            "Weather_conditions                0\n",
            "Type_of_collision               155\n",
            "Number_of_vehicles_involved       0\n",
            "Vehicle_movement                308\n",
            "Pedestrian_movement               0\n",
            "Cause_of_accident                 0\n",
            "Accident_severity                 0\n",
            "dtype: int64\n"
          ]
        }
      ]
    },
    {
      "cell_type": "code",
      "source": [
        "#save the dataset\n",
        "df.to_csv('/content/drive/MyDrive/4.1/PRML Lab/Cleaned RTA Dataset.csv', index=False)"
      ],
      "metadata": {
        "id": "Y9axCTT1oQQz"
      },
      "execution_count": null,
      "outputs": []
    },
    {
      "cell_type": "markdown",
      "source": [
        "# NULL Handled"
      ],
      "metadata": {
        "id": "yGJIzCYeWft9"
      }
    },
    {
      "cell_type": "code",
      "source": [
        "def predictive_imputation(df):\n",
        "    # Create a copy to avoid modifying the original DataFrame\n",
        "    df_imputed = df.copy()\n",
        "\n",
        "    # Identify columns with missing values\n",
        "    cols_with_nan = df_imputed.columns[df_imputed.isnull().any()]\n",
        "\n",
        "    for target in cols_with_nan:\n",
        "        print(f\"Imputing column: {target}\")\n",
        "\n",
        "        # Separate rows with observed vs. missing target values\n",
        "        train_data = df_imputed[df_imputed[target].notnull()].copy()\n",
        "        test_data  = df_imputed[df_imputed[target].isnull()].copy()\n",
        "\n",
        "        # If there is nothing to predict or nothing to train on, skip\n",
        "        if train_data.empty or test_data.empty:\n",
        "            continue\n",
        "\n",
        "        # Define predictor columns (all columns except the target)\n",
        "        predictors = [col for col in df_imputed.columns if col != target]\n",
        "\n",
        "        # Impute missing values in predictors using simple strategies:\n",
        "        # Use median for numeric features and most frequent for categorical features.\n",
        "        for col in predictors:\n",
        "            if train_data[col].isnull().any():\n",
        "                if train_data[col].dtype == 'object' or train_data[col].dtype.name == 'category':\n",
        "                    imp = SimpleImputer(strategy='most_frequent')\n",
        "                else:\n",
        "                    imp = SimpleImputer(strategy='median')\n",
        "                train_data[col] = imp.fit_transform(train_data[[col]]).ravel() # ravel to flatten array\n",
        "                test_data[col] = imp.transform(test_data[[col]]).ravel() # ravel to flatten array\n",
        "\n",
        "\n",
        "        # Determine whether the target is categorical or numeric\n",
        "        is_categorical = (train_data[target].dtype == 'object' or\n",
        "                          train_data[target].dtype.name == 'category')\n",
        "\n",
        "        # Prepare predictors for model training: encode categorical features\n",
        "\n",
        "        X_train = train_data[predictors].copy()\n",
        "        X_test  = test_data[predictors].copy()\n",
        "        for col in X_train.columns:\n",
        "            if X_train[col].dtype == 'object' or X_train[col].dtype.name == 'category':\n",
        "              if col == 'Time':\n",
        "                X_train[col] = pd.to_datetime(X_train[col]).dt.hour\n",
        "                X_test[col] = pd.to_datetime(X_test[col]).dt.hour\n",
        "              else:\n",
        "\n",
        "                le = LabelEncoder()\n",
        "                # Fit on training data and transform both training and test sets\n",
        "                X_train[col] = le.fit_transform(X_train[col].astype(str))\n",
        "                try:\n",
        "                  X_test[col] = le.transform(X_test[col].astype(str))\n",
        "                except ValueError as e:\n",
        "                  unseen_labels = set(X_test[col].astype(str)) - set(le.classes_)\n",
        "                  for label in unseen_labels:\n",
        "                    le.classes_ = np.append(le.classes_, label)\n",
        "                  X_test[col] = le.transform(X_test[col].astype(str))\n",
        "\n",
        "\n",
        "\n",
        "\n",
        "        # Predict missing values using a suitable model:\n",
        "        if is_categorical:\n",
        "            # Encode the target column\n",
        "            le_target = LabelEncoder()\n",
        "            y_train = le_target.fit_transform(train_data[target].astype(str))\n",
        "            model = RandomForestClassifier(n_estimators=100, random_state=42)\n",
        "            model.fit(X_train, y_train)\n",
        "            y_pred = model.predict(X_test)\n",
        "            # Reverse the label encoding for predictions\n",
        "            predicted = le_target.inverse_transform(y_pred)\n",
        "        else:\n",
        "            y_train = train_data[target]\n",
        "            model = RandomForestRegressor(n_estimators=100, random_state=42)\n",
        "            model.fit(X_train, y_train)\n",
        "            predicted = model.predict(X_test)\n",
        "\n",
        "        # Fill the missing values in the original DataFrame\n",
        "        df_imputed.loc[df_imputed[target].isnull(), target] = predicted\n",
        "\n",
        "    return df_imputed\n",
        "\n",
        "# Example usage:\n",
        "# df = pd.read_csv('your_dataset.csv')\n",
        "df_imputed = predictive_imputation(df)\n",
        "# Check that missing values have been filled:\n",
        "print(df_imputed.isnull().sum())\n"
      ],
      "metadata": {
        "colab": {
          "base_uri": "https://localhost:8080/"
        },
        "id": "ov8QPXdexEHx",
        "outputId": "399b9797-a541-44e6-819e-9796ae9bb392"
      },
      "execution_count": null,
      "outputs": [
        {
          "output_type": "stream",
          "name": "stdout",
          "text": [
            "Imputing column: Educational_level\n"
          ]
        },
        {
          "output_type": "stream",
          "name": "stderr",
          "text": [
            "<ipython-input-18-c8aa574b9bb1>:45: UserWarning: Could not infer format, so each element will be parsed individually, falling back to `dateutil`. To ensure parsing is consistent and as-expected, please specify a format.\n",
            "  X_train[col] = pd.to_datetime(X_train[col]).dt.hour\n",
            "<ipython-input-18-c8aa574b9bb1>:46: UserWarning: Could not infer format, so each element will be parsed individually, falling back to `dateutil`. To ensure parsing is consistent and as-expected, please specify a format.\n",
            "  X_test[col] = pd.to_datetime(X_test[col]).dt.hour\n"
          ]
        },
        {
          "output_type": "stream",
          "name": "stdout",
          "text": [
            "Imputing column: Vehicle_driver_relation\n"
          ]
        },
        {
          "output_type": "stream",
          "name": "stderr",
          "text": [
            "<ipython-input-18-c8aa574b9bb1>:45: UserWarning: Could not infer format, so each element will be parsed individually, falling back to `dateutil`. To ensure parsing is consistent and as-expected, please specify a format.\n",
            "  X_train[col] = pd.to_datetime(X_train[col]).dt.hour\n",
            "<ipython-input-18-c8aa574b9bb1>:46: UserWarning: Could not infer format, so each element will be parsed individually, falling back to `dateutil`. To ensure parsing is consistent and as-expected, please specify a format.\n",
            "  X_test[col] = pd.to_datetime(X_test[col]).dt.hour\n"
          ]
        },
        {
          "output_type": "stream",
          "name": "stdout",
          "text": [
            "Imputing column: Driving_experience\n"
          ]
        },
        {
          "output_type": "stream",
          "name": "stderr",
          "text": [
            "<ipython-input-18-c8aa574b9bb1>:45: UserWarning: Could not infer format, so each element will be parsed individually, falling back to `dateutil`. To ensure parsing is consistent and as-expected, please specify a format.\n",
            "  X_train[col] = pd.to_datetime(X_train[col]).dt.hour\n",
            "<ipython-input-18-c8aa574b9bb1>:46: UserWarning: Could not infer format, so each element will be parsed individually, falling back to `dateutil`. To ensure parsing is consistent and as-expected, please specify a format.\n",
            "  X_test[col] = pd.to_datetime(X_test[col]).dt.hour\n"
          ]
        },
        {
          "output_type": "stream",
          "name": "stdout",
          "text": [
            "Imputing column: Type_of_vehicle\n"
          ]
        },
        {
          "output_type": "stream",
          "name": "stderr",
          "text": [
            "<ipython-input-18-c8aa574b9bb1>:45: UserWarning: Could not infer format, so each element will be parsed individually, falling back to `dateutil`. To ensure parsing is consistent and as-expected, please specify a format.\n",
            "  X_train[col] = pd.to_datetime(X_train[col]).dt.hour\n",
            "<ipython-input-18-c8aa574b9bb1>:46: UserWarning: Could not infer format, so each element will be parsed individually, falling back to `dateutil`. To ensure parsing is consistent and as-expected, please specify a format.\n",
            "  X_test[col] = pd.to_datetime(X_test[col]).dt.hour\n"
          ]
        },
        {
          "output_type": "stream",
          "name": "stdout",
          "text": [
            "Imputing column: Owner_of_vehicle\n"
          ]
        },
        {
          "output_type": "stream",
          "name": "stderr",
          "text": [
            "<ipython-input-18-c8aa574b9bb1>:45: UserWarning: Could not infer format, so each element will be parsed individually, falling back to `dateutil`. To ensure parsing is consistent and as-expected, please specify a format.\n",
            "  X_train[col] = pd.to_datetime(X_train[col]).dt.hour\n",
            "<ipython-input-18-c8aa574b9bb1>:46: UserWarning: Could not infer format, so each element will be parsed individually, falling back to `dateutil`. To ensure parsing is consistent and as-expected, please specify a format.\n",
            "  X_test[col] = pd.to_datetime(X_test[col]).dt.hour\n"
          ]
        },
        {
          "output_type": "stream",
          "name": "stdout",
          "text": [
            "Imputing column: Service_year_of_vehicle\n"
          ]
        },
        {
          "output_type": "stream",
          "name": "stderr",
          "text": [
            "<ipython-input-18-c8aa574b9bb1>:45: UserWarning: Could not infer format, so each element will be parsed individually, falling back to `dateutil`. To ensure parsing is consistent and as-expected, please specify a format.\n",
            "  X_train[col] = pd.to_datetime(X_train[col]).dt.hour\n",
            "<ipython-input-18-c8aa574b9bb1>:46: UserWarning: Could not infer format, so each element will be parsed individually, falling back to `dateutil`. To ensure parsing is consistent and as-expected, please specify a format.\n",
            "  X_test[col] = pd.to_datetime(X_test[col]).dt.hour\n"
          ]
        },
        {
          "output_type": "stream",
          "name": "stdout",
          "text": [
            "Imputing column: Defect_of_vehicle\n"
          ]
        },
        {
          "output_type": "stream",
          "name": "stderr",
          "text": [
            "<ipython-input-18-c8aa574b9bb1>:45: UserWarning: Could not infer format, so each element will be parsed individually, falling back to `dateutil`. To ensure parsing is consistent and as-expected, please specify a format.\n",
            "  X_train[col] = pd.to_datetime(X_train[col]).dt.hour\n",
            "<ipython-input-18-c8aa574b9bb1>:46: UserWarning: Could not infer format, so each element will be parsed individually, falling back to `dateutil`. To ensure parsing is consistent and as-expected, please specify a format.\n",
            "  X_test[col] = pd.to_datetime(X_test[col]).dt.hour\n"
          ]
        },
        {
          "output_type": "stream",
          "name": "stdout",
          "text": [
            "Imputing column: Area_accident_occured\n"
          ]
        },
        {
          "output_type": "stream",
          "name": "stderr",
          "text": [
            "<ipython-input-18-c8aa574b9bb1>:45: UserWarning: Could not infer format, so each element will be parsed individually, falling back to `dateutil`. To ensure parsing is consistent and as-expected, please specify a format.\n",
            "  X_train[col] = pd.to_datetime(X_train[col]).dt.hour\n",
            "<ipython-input-18-c8aa574b9bb1>:46: UserWarning: Could not infer format, so each element will be parsed individually, falling back to `dateutil`. To ensure parsing is consistent and as-expected, please specify a format.\n",
            "  X_test[col] = pd.to_datetime(X_test[col]).dt.hour\n"
          ]
        },
        {
          "output_type": "stream",
          "name": "stdout",
          "text": [
            "Imputing column: Lanes_or_Medians\n"
          ]
        },
        {
          "output_type": "stream",
          "name": "stderr",
          "text": [
            "<ipython-input-18-c8aa574b9bb1>:45: UserWarning: Could not infer format, so each element will be parsed individually, falling back to `dateutil`. To ensure parsing is consistent and as-expected, please specify a format.\n",
            "  X_train[col] = pd.to_datetime(X_train[col]).dt.hour\n",
            "<ipython-input-18-c8aa574b9bb1>:46: UserWarning: Could not infer format, so each element will be parsed individually, falling back to `dateutil`. To ensure parsing is consistent and as-expected, please specify a format.\n",
            "  X_test[col] = pd.to_datetime(X_test[col]).dt.hour\n"
          ]
        },
        {
          "output_type": "stream",
          "name": "stdout",
          "text": [
            "Imputing column: Road_allignment\n"
          ]
        },
        {
          "output_type": "stream",
          "name": "stderr",
          "text": [
            "<ipython-input-18-c8aa574b9bb1>:45: UserWarning: Could not infer format, so each element will be parsed individually, falling back to `dateutil`. To ensure parsing is consistent and as-expected, please specify a format.\n",
            "  X_train[col] = pd.to_datetime(X_train[col]).dt.hour\n",
            "<ipython-input-18-c8aa574b9bb1>:46: UserWarning: Could not infer format, so each element will be parsed individually, falling back to `dateutil`. To ensure parsing is consistent and as-expected, please specify a format.\n",
            "  X_test[col] = pd.to_datetime(X_test[col]).dt.hour\n"
          ]
        },
        {
          "output_type": "stream",
          "name": "stdout",
          "text": [
            "Imputing column: Types_of_Junction\n"
          ]
        },
        {
          "output_type": "stream",
          "name": "stderr",
          "text": [
            "<ipython-input-18-c8aa574b9bb1>:45: UserWarning: Could not infer format, so each element will be parsed individually, falling back to `dateutil`. To ensure parsing is consistent and as-expected, please specify a format.\n",
            "  X_train[col] = pd.to_datetime(X_train[col]).dt.hour\n",
            "<ipython-input-18-c8aa574b9bb1>:46: UserWarning: Could not infer format, so each element will be parsed individually, falling back to `dateutil`. To ensure parsing is consistent and as-expected, please specify a format.\n",
            "  X_test[col] = pd.to_datetime(X_test[col]).dt.hour\n"
          ]
        },
        {
          "output_type": "stream",
          "name": "stdout",
          "text": [
            "Imputing column: Road_surface_type\n"
          ]
        },
        {
          "output_type": "stream",
          "name": "stderr",
          "text": [
            "<ipython-input-18-c8aa574b9bb1>:45: UserWarning: Could not infer format, so each element will be parsed individually, falling back to `dateutil`. To ensure parsing is consistent and as-expected, please specify a format.\n",
            "  X_train[col] = pd.to_datetime(X_train[col]).dt.hour\n",
            "<ipython-input-18-c8aa574b9bb1>:46: UserWarning: Could not infer format, so each element will be parsed individually, falling back to `dateutil`. To ensure parsing is consistent and as-expected, please specify a format.\n",
            "  X_test[col] = pd.to_datetime(X_test[col]).dt.hour\n"
          ]
        },
        {
          "output_type": "stream",
          "name": "stdout",
          "text": [
            "Imputing column: Type_of_collision\n"
          ]
        },
        {
          "output_type": "stream",
          "name": "stderr",
          "text": [
            "<ipython-input-18-c8aa574b9bb1>:45: UserWarning: Could not infer format, so each element will be parsed individually, falling back to `dateutil`. To ensure parsing is consistent and as-expected, please specify a format.\n",
            "  X_train[col] = pd.to_datetime(X_train[col]).dt.hour\n",
            "<ipython-input-18-c8aa574b9bb1>:46: UserWarning: Could not infer format, so each element will be parsed individually, falling back to `dateutil`. To ensure parsing is consistent and as-expected, please specify a format.\n",
            "  X_test[col] = pd.to_datetime(X_test[col]).dt.hour\n"
          ]
        },
        {
          "output_type": "stream",
          "name": "stdout",
          "text": [
            "Imputing column: Vehicle_movement\n"
          ]
        },
        {
          "output_type": "stream",
          "name": "stderr",
          "text": [
            "<ipython-input-18-c8aa574b9bb1>:45: UserWarning: Could not infer format, so each element will be parsed individually, falling back to `dateutil`. To ensure parsing is consistent and as-expected, please specify a format.\n",
            "  X_train[col] = pd.to_datetime(X_train[col]).dt.hour\n",
            "<ipython-input-18-c8aa574b9bb1>:46: UserWarning: Could not infer format, so each element will be parsed individually, falling back to `dateutil`. To ensure parsing is consistent and as-expected, please specify a format.\n",
            "  X_test[col] = pd.to_datetime(X_test[col]).dt.hour\n"
          ]
        },
        {
          "output_type": "stream",
          "name": "stdout",
          "text": [
            "Time                           0\n",
            "Day_of_week                    0\n",
            "Age_band_of_driver             0\n",
            "Sex_of_driver                  0\n",
            "Educational_level              0\n",
            "Vehicle_driver_relation        0\n",
            "Driving_experience             0\n",
            "Type_of_vehicle                0\n",
            "Owner_of_vehicle               0\n",
            "Service_year_of_vehicle        0\n",
            "Defect_of_vehicle              0\n",
            "Area_accident_occured          0\n",
            "Lanes_or_Medians               0\n",
            "Road_allignment                0\n",
            "Types_of_Junction              0\n",
            "Road_surface_type              0\n",
            "Road_surface_conditions        0\n",
            "Light_conditions               0\n",
            "Weather_conditions             0\n",
            "Type_of_collision              0\n",
            "Number_of_vehicles_involved    0\n",
            "Vehicle_movement               0\n",
            "Pedestrian_movement            0\n",
            "Cause_of_accident              0\n",
            "Accident_severity              0\n",
            "dtype: int64\n"
          ]
        }
      ]
    },
    {
      "cell_type": "markdown",
      "source": [
        "# Cleaned Dataset\n",
        "\n",
        "\n",
        "\n"
      ],
      "metadata": {
        "id": "pOM5wtwFWueu"
      }
    },
    {
      "cell_type": "code",
      "source": [
        "df_imputed.to_csv('/content/drive/MyDrive/4.1/PRML Lab/Cleaned RTA Dataset.csv',index = False)"
      ],
      "metadata": {
        "id": "ZLWzgL-ZxMgF"
      },
      "execution_count": null,
      "outputs": []
    },
    {
      "cell_type": "code",
      "source": [
        "path2 = '/content/drive/MyDrive/4.1/PRML Lab/Cleaned RTA Dataset.csv'\n",
        "df2 = pd.read_csv(path2)\n",
        "print(df2.isnull().sum())"
      ],
      "metadata": {
        "colab": {
          "base_uri": "https://localhost:8080/"
        },
        "id": "cg9-5Y7-xNX9",
        "outputId": "76213f3b-76a7-437c-af83-f8798d516645"
      },
      "execution_count": null,
      "outputs": [
        {
          "output_type": "stream",
          "name": "stdout",
          "text": [
            "Time                           0\n",
            "Day_of_week                    0\n",
            "Age_band_of_driver             0\n",
            "Sex_of_driver                  0\n",
            "Educational_level              0\n",
            "Vehicle_driver_relation        0\n",
            "Driving_experience             0\n",
            "Type_of_vehicle                0\n",
            "Owner_of_vehicle               0\n",
            "Service_year_of_vehicle        0\n",
            "Defect_of_vehicle              0\n",
            "Area_accident_occured          0\n",
            "Lanes_or_Medians               0\n",
            "Road_allignment                0\n",
            "Types_of_Junction              0\n",
            "Road_surface_type              0\n",
            "Road_surface_conditions        0\n",
            "Light_conditions               0\n",
            "Weather_conditions             0\n",
            "Type_of_collision              0\n",
            "Number_of_vehicles_involved    0\n",
            "Vehicle_movement               0\n",
            "Pedestrian_movement            0\n",
            "Cause_of_accident              0\n",
            "Accident_severity              0\n",
            "dtype: int64\n"
          ]
        }
      ]
    },
    {
      "cell_type": "code",
      "source": [
        "df2.info()"
      ],
      "metadata": {
        "colab": {
          "base_uri": "https://localhost:8080/"
        },
        "id": "kwA3JMDFxSI3",
        "outputId": "cf1cf4e0-f347-4059-dfb7-f56531ac6e2f"
      },
      "execution_count": null,
      "outputs": [
        {
          "output_type": "stream",
          "name": "stdout",
          "text": [
            "<class 'pandas.core.frame.DataFrame'>\n",
            "RangeIndex: 12316 entries, 0 to 12315\n",
            "Data columns (total 25 columns):\n",
            " #   Column                       Non-Null Count  Dtype \n",
            "---  ------                       --------------  ----- \n",
            " 0   Time                         12316 non-null  object\n",
            " 1   Day_of_week                  12316 non-null  object\n",
            " 2   Age_band_of_driver           12316 non-null  object\n",
            " 3   Sex_of_driver                12316 non-null  object\n",
            " 4   Educational_level            12316 non-null  object\n",
            " 5   Vehicle_driver_relation      12316 non-null  object\n",
            " 6   Driving_experience           12316 non-null  object\n",
            " 7   Type_of_vehicle              12316 non-null  object\n",
            " 8   Owner_of_vehicle             12316 non-null  object\n",
            " 9   Service_year_of_vehicle      12316 non-null  object\n",
            " 10  Defect_of_vehicle            12316 non-null  object\n",
            " 11  Area_accident_occured        12316 non-null  object\n",
            " 12  Lanes_or_Medians             12316 non-null  object\n",
            " 13  Road_allignment              12316 non-null  object\n",
            " 14  Types_of_Junction            12316 non-null  object\n",
            " 15  Road_surface_type            12316 non-null  object\n",
            " 16  Road_surface_conditions      12316 non-null  object\n",
            " 17  Light_conditions             12316 non-null  object\n",
            " 18  Weather_conditions           12316 non-null  object\n",
            " 19  Type_of_collision            12316 non-null  object\n",
            " 20  Number_of_vehicles_involved  12316 non-null  int64 \n",
            " 21  Vehicle_movement             12316 non-null  object\n",
            " 22  Pedestrian_movement          12316 non-null  object\n",
            " 23  Cause_of_accident            12316 non-null  object\n",
            " 24  Accident_severity            12316 non-null  object\n",
            "dtypes: int64(1), object(24)\n",
            "memory usage: 2.3+ MB\n"
          ]
        }
      ]
    },
    {
      "cell_type": "code",
      "source": [
        "categorical_columns = df2.select_dtypes(include=['object', 'category']).columns.tolist()\n",
        "print(\"Categorical Columns:\", categorical_columns)"
      ],
      "metadata": {
        "colab": {
          "base_uri": "https://localhost:8080/"
        },
        "id": "aex2TDhA8yrE",
        "outputId": "13fdf4bc-7ada-4817-e411-f9bf3e1a1951"
      },
      "execution_count": null,
      "outputs": [
        {
          "output_type": "stream",
          "name": "stdout",
          "text": [
            "Categorical Columns: ['Time', 'Day_of_week', 'Age_band_of_driver', 'Sex_of_driver', 'Educational_level', 'Vehicle_driver_relation', 'Driving_experience', 'Type_of_vehicle', 'Owner_of_vehicle', 'Service_year_of_vehicle', 'Defect_of_vehicle', 'Area_accident_occured', 'Lanes_or_Medians', 'Road_allignment', 'Types_of_Junction', 'Road_surface_type', 'Road_surface_conditions', 'Light_conditions', 'Weather_conditions', 'Type_of_collision', 'Vehicle_movement', 'Pedestrian_movement', 'Cause_of_accident', 'Accident_severity']\n"
          ]
        }
      ]
    },
    {
      "cell_type": "code",
      "source": [
        "df2['Time'] = pd.to_datetime(df2['Time'], format='%H:%M:%S')\n"
      ],
      "metadata": {
        "id": "cm1jMGTX5jv5"
      },
      "execution_count": null,
      "outputs": []
    },
    {
      "cell_type": "code",
      "source": [
        "df2['hour'] = df2['Time'].dt.hour\n",
        "df2['minute'] = df2['Time'].dt.minute\n",
        "df2['second'] = df2['Time'].dt.second"
      ],
      "metadata": {
        "id": "LuhpNBcd59GP"
      },
      "execution_count": null,
      "outputs": []
    },
    {
      "cell_type": "code",
      "source": [
        "df2 = df2.drop(columns=['Time'])"
      ],
      "metadata": {
        "id": "B9qkseCE6B5x"
      },
      "execution_count": null,
      "outputs": []
    },
    {
      "cell_type": "code",
      "source": [
        "df2['total_seconds'] = df2['hour'] * 3600 + df2['minute'] * 60 + df2['second']"
      ],
      "metadata": {
        "id": "7j0vMzBY6JTL"
      },
      "execution_count": null,
      "outputs": []
    },
    {
      "cell_type": "markdown",
      "source": [
        "# Numerical Tranformation"
      ],
      "metadata": {
        "id": "h_4D4f6UW-5b"
      }
    },
    {
      "cell_type": "code",
      "source": [
        "from sklearn.preprocessing import LabelEncoder\n",
        "\n",
        "from sklearn.preprocessing import LabelEncoder\n",
        "df2[['Day_of_week', 'Age_band_of_driver', 'Sex_of_driver', 'Educational_level', 'Vehicle_driver_relation',\n",
        "    'Driving_experience', 'Type_of_vehicle', 'Owner_of_vehicle', 'Service_year_of_vehicle', 'Defect_of_vehicle',\n",
        "    'Area_accident_occured', 'Lanes_or_Medians', 'Road_allignment', 'Types_of_Junction', 'Road_surface_type',\n",
        "    'Road_surface_conditions', 'Light_conditions', 'Weather_conditions', 'Type_of_collision', 'Vehicle_movement',\n",
        "    'Pedestrian_movement', 'Cause_of_accident', 'Accident_severity']]=df[['Day_of_week', 'Age_band_of_driver',\n",
        "    'Sex_of_driver', 'Educational_level', 'Vehicle_driver_relation', 'Driving_experience', 'Type_of_vehicle', 'Owner_of_vehicle',\n",
        "    'Service_year_of_vehicle', 'Defect_of_vehicle', 'Area_accident_occured', 'Lanes_or_Medians', 'Road_allignment', 'Types_of_Junction',\n",
        "    'Road_surface_type', 'Road_surface_conditions', 'Light_conditions', 'Weather_conditions', 'Type_of_collision', 'Vehicle_movement',\n",
        "    'Pedestrian_movement', 'Cause_of_accident', 'Accident_severity']].apply(LabelEncoder().fit_transform)"
      ],
      "metadata": {
        "id": "juDzd3dW86J-"
      },
      "execution_count": null,
      "outputs": []
    },
    {
      "cell_type": "code",
      "source": [
        "categorical_columns = df2.select_dtypes(include=['object', 'category']).columns.tolist()\n",
        "print(\"Categorical Columns:\", categorical_columns)"
      ],
      "metadata": {
        "colab": {
          "base_uri": "https://localhost:8080/"
        },
        "id": "x8cA5MXO8-jG",
        "outputId": "d7c6091f-556e-4c50-d9ff-fc123f15026e"
      },
      "execution_count": null,
      "outputs": [
        {
          "output_type": "stream",
          "name": "stdout",
          "text": [
            "Categorical Columns: []\n"
          ]
        }
      ]
    },
    {
      "cell_type": "code",
      "source": [
        "print(df2.columns.tolist())"
      ],
      "metadata": {
        "id": "TnMkUpCoQKop",
        "colab": {
          "base_uri": "https://localhost:8080/"
        },
        "outputId": "1d1d61a8-798f-4226-aa3e-9c891a0644e8"
      },
      "execution_count": null,
      "outputs": [
        {
          "output_type": "stream",
          "name": "stdout",
          "text": [
            "['Day_of_week', 'Age_band_of_driver', 'Sex_of_driver', 'Educational_level', 'Vehicle_driver_relation', 'Driving_experience', 'Type_of_vehicle', 'Owner_of_vehicle', 'Service_year_of_vehicle', 'Defect_of_vehicle', 'Area_accident_occured', 'Lanes_or_Medians', 'Road_allignment', 'Types_of_Junction', 'Road_surface_type', 'Road_surface_conditions', 'Light_conditions', 'Weather_conditions', 'Type_of_collision', 'Number_of_vehicles_involved', 'Vehicle_movement', 'Pedestrian_movement', 'Cause_of_accident', 'Accident_severity', 'hour', 'minute', 'second', 'total_seconds']\n"
          ]
        }
      ]
    },
    {
      "cell_type": "code",
      "source": [
        "len(df2)"
      ],
      "metadata": {
        "colab": {
          "base_uri": "https://localhost:8080/"
        },
        "id": "YQmTGIygLfxA",
        "outputId": "a6aba324-edb0-451f-e65f-42e1927978c3"
      },
      "execution_count": null,
      "outputs": [
        {
          "output_type": "execute_result",
          "data": {
            "text/plain": [
              "12316"
            ]
          },
          "metadata": {},
          "execution_count": 23
        }
      ]
    },
    {
      "cell_type": "markdown",
      "source": [
        "# Splitting"
      ],
      "metadata": {
        "id": "PVKjPwfxhl0T"
      }
    },
    {
      "cell_type": "code",
      "source": [
        "features = df2.drop(columns=['Accident_severity'])\n",
        "labels = df2['Accident_severity']\n",
        "\n",
        "\n",
        "encoder = LabelEncoder()\n",
        "labels = encoder.fit_transform(labels)"
      ],
      "metadata": {
        "id": "evGQklXR7Usx"
      },
      "execution_count": null,
      "outputs": []
    },
    {
      "cell_type": "code",
      "source": [
        "# Train-test split\n",
        "X_train, X_test, y_train, y_test = train_test_split(features, labels, test_size=0.2, random_state=42)\n",
        "\n",
        "# Convert to PyTorch tensors\n",
        "train_features = torch.tensor(X_train.values, dtype=torch.float32)\n",
        "test_features = torch.tensor(X_test.values, dtype=torch.float32)\n",
        "train_labels = torch.tensor(y_train, dtype=torch.long)\n",
        "test_labels = torch.tensor(y_test, dtype=torch.long)\n"
      ],
      "metadata": {
        "id": "doYTQjNGzLl5"
      },
      "execution_count": null,
      "outputs": []
    },
    {
      "cell_type": "code",
      "source": [
        "y_train_df = pd.DataFrame(y_train, columns=[\"Accident_severity\"])\n",
        "print(y_train_df.head())"
      ],
      "metadata": {
        "colab": {
          "base_uri": "https://localhost:8080/"
        },
        "id": "Ox6QCYPfaYfF",
        "outputId": "51793f0b-6510-4b21-d764-e922811f41f0"
      },
      "execution_count": null,
      "outputs": [
        {
          "output_type": "stream",
          "name": "stdout",
          "text": [
            "   Accident_severity\n",
            "0                  2\n",
            "1                  1\n",
            "2                  2\n",
            "3                  1\n",
            "4                  1\n"
          ]
        }
      ]
    },
    {
      "cell_type": "code",
      "source": [
        "print(y_train_df[\"Accident_severity\"].value_counts())"
      ],
      "metadata": {
        "colab": {
          "base_uri": "https://localhost:8080/"
        },
        "id": "SD8QL6EqafjR",
        "outputId": "f0560d9f-32ca-4343-de58-e3755e41afcc"
      },
      "execution_count": null,
      "outputs": [
        {
          "output_type": "stream",
          "name": "stdout",
          "text": [
            "Accident_severity\n",
            "2    8351\n",
            "1    1380\n",
            "0     121\n",
            "Name: count, dtype: int64\n"
          ]
        }
      ]
    },
    {
      "cell_type": "code",
      "source": [
        "class_counts = y_train_df[\"Accident_severity\"].value_counts()\n",
        "imbalance_ratio = class_counts.max() / class_counts.min()\n",
        "print(f\"Imbalance Ratio: {imbalance_ratio:.2f}\")"
      ],
      "metadata": {
        "colab": {
          "base_uri": "https://localhost:8080/"
        },
        "id": "NxRQqYLzayZd",
        "outputId": "6c236700-f607-4e1a-adde-a0dbe96fc004"
      },
      "execution_count": null,
      "outputs": [
        {
          "output_type": "stream",
          "name": "stdout",
          "text": [
            "Imbalance Ratio: 69.02\n"
          ]
        }
      ]
    },
    {
      "cell_type": "code",
      "source": [
        "import matplotlib.pyplot as plt\n",
        "import seaborn as sns\n",
        "\n",
        "plt.figure(figsize=(8, 5))\n",
        "sns.countplot(x=y_train_df[\"Accident_severity\"], palette=\"viridis\")\n",
        "plt.xlabel(\"Accident Severity Classes\")\n",
        "plt.ylabel(\"Number of Samples\")\n",
        "plt.title(\"Class Distribution in Train Set\")\n",
        "plt.show()"
      ],
      "metadata": {
        "colab": {
          "base_uri": "https://localhost:8080/",
          "height": 591
        },
        "id": "VM9ivMGGahWY",
        "outputId": "259864b3-1718-4115-9c29-0252d31ccc21"
      },
      "execution_count": null,
      "outputs": [
        {
          "output_type": "stream",
          "name": "stderr",
          "text": [
            "<ipython-input-31-d9c631faec5f>:5: FutureWarning: \n",
            "\n",
            "Passing `palette` without assigning `hue` is deprecated and will be removed in v0.14.0. Assign the `x` variable to `hue` and set `legend=False` for the same effect.\n",
            "\n",
            "  sns.countplot(x=y_train_df[\"Accident_severity\"], palette=\"viridis\")\n"
          ]
        },
        {
          "output_type": "display_data",
          "data": {
            "text/plain": [
              "<Figure size 800x500 with 1 Axes>"
            ],
            "image/png": "[encoded data removed]"
          },
          "metadata": {}
        }
      ]
    },
    {
      "cell_type": "code",
      "source": [
        "from imblearn.over_sampling import SMOTE\n",
        "\n",
        "smote = SMOTE(random_state=42)\n",
        "X_train_resampled, y_train_resampled = smote.fit_resample(X_train, y_train)\n",
        "\n",
        "print(\"Before SMOTE:\", pd.Series(y_train).value_counts())\n",
        "print(\"After SMOTE:\", pd.Series(y_train_resampled).value_counts())"
      ],
      "metadata": {
        "colab": {
          "base_uri": "https://localhost:8080/"
        },
        "id": "DDAWLryeaxau",
        "outputId": "e558a916-aa17-43d3-8aef-493b49328d58"
      },
      "execution_count": null,
      "outputs": [
        {
          "output_type": "stream",
          "name": "stdout",
          "text": [
            "Before SMOTE: 2    8351\n",
            "1    1380\n",
            "0     121\n",
            "Name: count, dtype: int64\n",
            "After SMOTE: 2    8351\n",
            "1    8351\n",
            "0    8351\n",
            "Name: count, dtype: int64\n"
          ]
        }
      ]
    },
    {
      "cell_type": "code",
      "source": [
        "print(pd.Series(y_train_resampled).value_counts())"
      ],
      "metadata": {
        "colab": {
          "base_uri": "https://localhost:8080/"
        },
        "id": "KAGoLPHdb7nD",
        "outputId": "29afcb0c-7887-4033-fa85-cd1945f372cb"
      },
      "execution_count": null,
      "outputs": [
        {
          "output_type": "stream",
          "name": "stdout",
          "text": [
            "2    8351\n",
            "1    8351\n",
            "0    8351\n",
            "Name: count, dtype: int64\n"
          ]
        }
      ]
    },
    {
      "cell_type": "code",
      "source": [
        "class_counts = pd.Series(y_train_resampled).value_counts()\n",
        "new_imbalance_ratio = class_counts.max() / class_counts.min()\n",
        "print(f\"New Imbalance Ratio: {new_imbalance_ratio:.2f}\")"
      ],
      "metadata": {
        "colab": {
          "base_uri": "https://localhost:8080/"
        },
        "id": "FE5xrM_Ibc0C",
        "outputId": "448412c8-7a08-4750-de84-64fdbd14d6e0"
      },
      "execution_count": null,
      "outputs": [
        {
          "output_type": "stream",
          "name": "stdout",
          "text": [
            "New Imbalance Ratio: 1.00\n"
          ]
        }
      ]
    },
    {
      "cell_type": "code",
      "source": [
        "plt.figure(figsize=(8, 5))\n",
        "sns.countplot(x=y_train_resampled, palette=\"viridis\")\n",
        "plt.xlabel(\"Accident Severity Classes\")\n",
        "plt.ylabel(\"Number of Samples\")\n",
        "plt.title(\"Class Distribution After SMOTE\")\n",
        "plt.show()"
      ],
      "metadata": {
        "colab": {
          "base_uri": "https://localhost:8080/",
          "height": 591
        },
        "id": "Uc5TY9Ekbk4z",
        "outputId": "3fb1148e-52bf-48a7-a4c1-1e321a3584f9"
      },
      "execution_count": null,
      "outputs": [
        {
          "output_type": "stream",
          "name": "stderr",
          "text": [
            "<ipython-input-33-03d6260832ea>:2: FutureWarning: \n",
            "\n",
            "Passing `palette` without assigning `hue` is deprecated and will be removed in v0.14.0. Assign the `x` variable to `hue` and set `legend=False` for the same effect.\n",
            "\n",
            "  sns.countplot(x=y_train_resampled, palette=\"viridis\")\n"
          ]
        },
        {
          "output_type": "display_data",
          "data": {
            "text/plain": [
              "<Figure size 800x500 with 1 Axes>"
            ],
            "image/png": "[encoded data removed]"
          },
          "metadata": {}
        }
      ]
    },
    {
      "cell_type": "markdown",
      "source": [
        "# ANN"
      ],
      "metadata": {
        "id": "8_Ds52lqXDEK"
      }
    },
    {
      "cell_type": "code",
      "source": [
        "device = torch.device(\"cuda\" if torch.cuda.is_available() else \"cpu\")\n",
        "print(f\"Using device: {device}\")"
      ],
      "metadata": {
        "colab": {
          "base_uri": "https://localhost:8080/"
        },
        "id": "0wEmYRWE7ZIK",
        "outputId": "ebbce3c7-fa5a-490e-e04a-5fb4fcf46509"
      },
      "execution_count": null,
      "outputs": [
        {
          "output_type": "stream",
          "name": "stdout",
          "text": [
            "Using device: cuda\n"
          ]
        }
      ]
    },
    {
      "cell_type": "code",
      "source": [
        "!pip install --upgrade pandas torch"
      ],
      "metadata": {
        "colab": {
          "base_uri": "https://localhost:8080/",
          "height": 1000
        },
        "id": "WC-RbVMu7-aW",
        "outputId": "f92462a8-e397-4444-b989-9dbf16aaa853"
      },
      "execution_count": null,
      "outputs": [
        {
          "output_type": "stream",
          "name": "stdout",
          "text": [
            "Requirement already satisfied: pandas in /usr/local/lib/python3.11/dist-packages (2.2.2)\n",
            "Collecting pandas\n",
            "  Downloading pandas-2.2.3-cp311-cp311-manylinux_2_17_x86_64.manylinux2014_x86_64.whl.metadata (89 kB)\n",
            "\u001b[2K     \u001b[90m━━━━━━━━━━━━━━━━━━━━━━━━━━━━━━━━━━━━━━━━\u001b[0m \u001b[32m89.9/89.9 kB\u001b[0m \u001b[31m8.8 MB/s\u001b[0m eta \u001b[36m0:00:00\u001b[0m\n",
            "\u001b[?25hRequirement already satisfied: torch in /usr/local/lib/python3.11/dist-packages (2.5.1+cu124)\n",
            "Collecting torch\n",
            "  Downloading torch-2.6.0-cp311-cp311-manylinux1_x86_64.whl.metadata (28 kB)\n",
            "Requirement already satisfied: numpy>=1.23.2 in /usr/local/lib/python3.11/dist-packages (from pandas) (1.26.4)\n",
            "Requirement already satisfied: python-dateutil>=2.8.2 in /usr/local/lib/python3.11/dist-packages (from pandas) (2.8.2)\n",
            "Requirement already satisfied: pytz>=2020.1 in /usr/local/lib/python3.11/dist-packages (from pandas) (2025.1)\n",
            "Requirement already satisfied: tzdata>=2022.7 in /usr/local/lib/python3.11/dist-packages (from pandas) (2025.1)\n",
            "Requirement already satisfied: filelock in /usr/local/lib/python3.11/dist-packages (from torch) (3.17.0)\n",
            "Requirement already satisfied: typing-extensions>=4.10.0 in /usr/local/lib/python3.11/dist-packages (from torch) (4.12.2)\n",
            "Requirement already satisfied: networkx in /usr/local/lib/python3.11/dist-packages (from torch) (3.4.2)\n",
            "Requirement already satisfied: jinja2 in /usr/local/lib/python3.11/dist-packages (from torch) (3.1.5)\n",
            "Requirement already satisfied: fsspec in /usr/local/lib/python3.11/dist-packages (from torch) (2024.10.0)\n",
            "Collecting nvidia-cuda-nvrtc-cu12==12.4.127 (from torch)\n",
            "  Downloading nvidia_cuda_nvrtc_cu12-12.4.127-py3-none-manylinux2014_x86_64.whl.metadata (1.5 kB)\n",
            "Collecting nvidia-cuda-runtime-cu12==12.4.127 (from torch)\n",
            "  Downloading nvidia_cuda_runtime_cu12-12.4.127-py3-none-manylinux2014_x86_64.whl.metadata (1.5 kB)\n",
            "Collecting nvidia-cuda-cupti-cu12==12.4.127 (from torch)\n",
            "  Downloading nvidia_cuda_cupti_cu12-12.4.127-py3-none-manylinux2014_x86_64.whl.metadata (1.6 kB)\n",
            "Collecting nvidia-cudnn-cu12==9.1.0.70 (from torch)\n",
            "  Downloading nvidia_cudnn_cu12-9.1.0.70-py3-none-manylinux2014_x86_64.whl.metadata (1.6 kB)\n",
            "Collecting nvidia-cublas-cu12==12.4.5.8 (from torch)\n",
            "  Downloading nvidia_cublas_cu12-12.4.5.8-py3-none-manylinux2014_x86_64.whl.metadata (1.5 kB)\n",
            "Collecting nvidia-cufft-cu12==11.2.1.3 (from torch)\n",
            "  Downloading nvidia_cufft_cu12-11.2.1.3-py3-none-manylinux2014_x86_64.whl.metadata (1.5 kB)\n",
            "Collecting nvidia-curand-cu12==10.3.5.147 (from torch)\n",
            "  Downloading nvidia_curand_cu12-10.3.5.147-py3-none-manylinux2014_x86_64.whl.metadata (1.5 kB)\n",
            "Collecting nvidia-cusolver-cu12==11.6.1.9 (from torch)\n",
            "  Downloading nvidia_cusolver_cu12-11.6.1.9-py3-none-manylinux2014_x86_64.whl.metadata (1.6 kB)\n",
            "Collecting nvidia-cusparse-cu12==12.3.1.170 (from torch)\n",
            "  Downloading nvidia_cusparse_cu12-12.3.1.170-py3-none-manylinux2014_x86_64.whl.metadata (1.6 kB)\n",
            "Collecting nvidia-cusparselt-cu12==0.6.2 (from torch)\n",
            "  Downloading nvidia_cusparselt_cu12-0.6.2-py3-none-manylinux2014_x86_64.whl.metadata (6.8 kB)\n",
            "Requirement already satisfied: nvidia-nccl-cu12==2.21.5 in /usr/local/lib/python3.11/dist-packages (from torch) (2.21.5)\n",
            "Requirement already satisfied: nvidia-nvtx-cu12==12.4.127 in /usr/local/lib/python3.11/dist-packages (from torch) (12.4.127)\n",
            "Collecting nvidia-nvjitlink-cu12==12.4.127 (from torch)\n",
            "  Downloading nvidia_nvjitlink_cu12-12.4.127-py3-none-manylinux2014_x86_64.whl.metadata (1.5 kB)\n",
            "Collecting triton==3.2.0 (from torch)\n",
            "  Downloading triton-3.2.0-cp311-cp311-manylinux_2_17_x86_64.manylinux2014_x86_64.whl.metadata (1.4 kB)\n",
            "Requirement already satisfied: sympy==1.13.1 in /usr/local/lib/python3.11/dist-packages (from torch) (1.13.1)\n",
            "Requirement already satisfied: mpmath<1.4,>=1.1.0 in /usr/local/lib/python3.11/dist-packages (from sympy==1.13.1->torch) (1.3.0)\n",
            "Requirement already satisfied: six>=1.5 in /usr/local/lib/python3.11/dist-packages (from python-dateutil>=2.8.2->pandas) (1.17.0)\n",
            "Requirement already satisfied: MarkupSafe>=2.0 in /usr/local/lib/python3.11/dist-packages (from jinja2->torch) (3.0.2)\n",
            "Downloading pandas-2.2.3-cp311-cp311-manylinux_2_17_x86_64.manylinux2014_x86_64.whl (13.1 MB)\n",
            "\u001b[2K   \u001b[90m━━━━━━━━━━━━━━━━━━━━━━━━━━━━━━━━━━━━━━━━\u001b[0m \u001b[32m13.1/13.1 MB\u001b[0m \u001b[31m99.8 MB/s\u001b[0m eta \u001b[36m0:00:00\u001b[0m\n",
            "\u001b[?25hDownloading torch-2.6.0-cp311-cp311-manylinux1_x86_64.whl (766.7 MB)\n",
            "\u001b[2K   \u001b[90m━━━━━━━━━━━━━━━━━━━━━━━━━━━━━━━━━━━━━━━━\u001b[0m \u001b[32m766.7/766.7 MB\u001b[0m \u001b[31m1.2 MB/s\u001b[0m eta \u001b[36m0:00:00\u001b[0m\n",
            "\u001b[?25hDownloading nvidia_cublas_cu12-12.4.5.8-py3-none-manylinux2014_x86_64.whl (363.4 MB)\n",
            "\u001b[2K   \u001b[90m━━━━━━━━━━━━━━━━━━━━━━━━━━━━━━━━━━━━━━━━\u001b[0m \u001b[32m363.4/363.4 MB\u001b[0m \u001b[31m4.5 MB/s\u001b[0m eta \u001b[36m0:00:00\u001b[0m\n",
            "\u001b[?25hDownloading nvidia_cuda_cupti_cu12-12.4.127-py3-none-manylinux2014_x86_64.whl (13.8 MB)\n",
            "\u001b[2K   \u001b[90m━━━━━━━━━━━━━━━━━━━━━━━━━━━━━━━━━━━━━━━━\u001b[0m \u001b[32m13.8/13.8 MB\u001b[0m \u001b[31m97.5 MB/s\u001b[0m eta \u001b[36m0:00:00\u001b[0m\n",
            "\u001b[?25hDownloading nvidia_cuda_nvrtc_cu12-12.4.127-py3-none-manylinux2014_x86_64.whl (24.6 MB)\n",
            "\u001b[2K   \u001b[90m━━━━━━━━━━━━━━━━━━━━━━━━━━━━━━━━━━━━━━━━\u001b[0m \u001b[32m24.6/24.6 MB\u001b[0m \u001b[31m69.4 MB/s\u001b[0m eta \u001b[36m0:00:00\u001b[0m\n",
            "\u001b[?25hDownloading nvidia_cuda_runtime_cu12-12.4.127-py3-none-manylinux2014_x86_64.whl (883 kB)\n",
            "\u001b[2K   \u001b[90m━━━━━━━━━━━━━━━━━━━━━━━━━━━━━━━━━━━━━━━━\u001b[0m \u001b[32m883.7/883.7 kB\u001b[0m \u001b[31m47.8 MB/s\u001b[0m eta \u001b[36m0:00:00\u001b[0m\n",
            "\u001b[?25hDownloading nvidia_cudnn_cu12-9.1.0.70-py3-none-manylinux2014_x86_64.whl (664.8 MB)\n",
            "\u001b[2K   \u001b[90m━━━━━━━━━━━━━━━━━━━━━━━━━━━━━━━━━━━━━━━━\u001b[0m \u001b[32m664.8/664.8 MB\u001b[0m \u001b[31m1.9 MB/s\u001b[0m eta \u001b[36m0:00:00\u001b[0m\n",
            "\u001b[?25hDownloading nvidia_cufft_cu12-11.2.1.3-py3-none-manylinux2014_x86_64.whl (211.5 MB)\n",
            "\u001b[2K   \u001b[90m━━━━━━━━━━━━━━━━━━━━━━━━━━━━━━━━━━━━━━━━\u001b[0m \u001b[32m211.5/211.5 MB\u001b[0m \u001b[31m5.8 MB/s\u001b[0m eta \u001b[36m0:00:00\u001b[0m\n",
            "\u001b[?25hDownloading nvidia_curand_cu12-10.3.5.147-py3-none-manylinux2014_x86_64.whl (56.3 MB)\n",
            "\u001b[2K   \u001b[90m━━━━━━━━━━━━━━━━━━━━━━━━━━━━━━━━━━━━━━━━\u001b[0m \u001b[32m56.3/56.3 MB\u001b[0m \u001b[31m14.4 MB/s\u001b[0m eta \u001b[36m0:00:00\u001b[0m\n",
            "\u001b[?25hDownloading nvidia_cusolver_cu12-11.6.1.9-py3-none-manylinux2014_x86_64.whl (127.9 MB)\n",
            "\u001b[2K   \u001b[90m━━━━━━━━━━━━━━━━━━━━━━━━━━━━━━━━━━━━━━━━\u001b[0m \u001b[32m127.9/127.9 MB\u001b[0m \u001b[31m7.6 MB/s\u001b[0m eta \u001b[36m0:00:00\u001b[0m\n",
            "\u001b[?25hDownloading nvidia_cusparse_cu12-12.3.1.170-py3-none-manylinux2014_x86_64.whl (207.5 MB)\n",
            "\u001b[2K   \u001b[90m━━━━━━━━━━━━━━━━━━━━━━━━━━━━━━━━━━━━━━━━\u001b[0m \u001b[32m207.5/207.5 MB\u001b[0m \u001b[31m6.0 MB/s\u001b[0m eta \u001b[36m0:00:00\u001b[0m\n",
            "\u001b[?25hDownloading nvidia_cusparselt_cu12-0.6.2-py3-none-manylinux2014_x86_64.whl (150.1 MB)\n",
            "\u001b[2K   \u001b[90m━━━━━━━━━━━━━━━━━━━━━━━━━━━━━━━━━━━━━━━━\u001b[0m \u001b[32m150.1/150.1 MB\u001b[0m \u001b[31m7.8 MB/s\u001b[0m eta \u001b[36m0:00:00\u001b[0m\n",
            "\u001b[?25hDownloading nvidia_nvjitlink_cu12-12.4.127-py3-none-manylinux2014_x86_64.whl (21.1 MB)\n",
            "\u001b[2K   \u001b[90m━━━━━━━━━━━━━━━━━━━━━━━━━━━━━━━━━━━━━━━━\u001b[0m \u001b[32m21.1/21.1 MB\u001b[0m \u001b[31m57.7 MB/s\u001b[0m eta \u001b[36m0:00:00\u001b[0m\n",
            "\u001b[?25hDownloading triton-3.2.0-cp311-cp311-manylinux_2_17_x86_64.manylinux2014_x86_64.whl (253.2 MB)\n",
            "\u001b[2K   \u001b[90m━━━━━━━━━━━━━━━━━━━━━━━━━━━━━━━━━━━━━━━━\u001b[0m \u001b[32m253.2/253.2 MB\u001b[0m \u001b[31m5.5 MB/s\u001b[0m eta \u001b[36m0:00:00\u001b[0m\n",
            "\u001b[?25hInstalling collected packages: triton, nvidia-cusparselt-cu12, nvidia-nvjitlink-cu12, nvidia-curand-cu12, nvidia-cufft-cu12, nvidia-cuda-runtime-cu12, nvidia-cuda-nvrtc-cu12, nvidia-cuda-cupti-cu12, nvidia-cublas-cu12, pandas, nvidia-cusparse-cu12, nvidia-cudnn-cu12, nvidia-cusolver-cu12, torch\n",
            "  Attempting uninstall: triton\n",
            "    Found existing installation: triton 3.1.0\n",
            "    Uninstalling triton-3.1.0:\n",
            "      Successfully uninstalled triton-3.1.0\n",
            "  Attempting uninstall: nvidia-nvjitlink-cu12\n",
            "    Found existing installation: nvidia-nvjitlink-cu12 12.5.82\n",
            "    Uninstalling nvidia-nvjitlink-cu12-12.5.82:\n",
            "      Successfully uninstalled nvidia-nvjitlink-cu12-12.5.82\n",
            "  Attempting uninstall: nvidia-curand-cu12\n",
            "    Found existing installation: nvidia-curand-cu12 10.3.6.82\n",
            "    Uninstalling nvidia-curand-cu12-10.3.6.82:\n",
            "      Successfully uninstalled nvidia-curand-cu12-10.3.6.82\n",
            "  Attempting uninstall: nvidia-cufft-cu12\n",
            "    Found existing installation: nvidia-cufft-cu12 11.2.3.61\n",
            "    Uninstalling nvidia-cufft-cu12-11.2.3.61:\n",
            "      Successfully uninstalled nvidia-cufft-cu12-11.2.3.61\n",
            "  Attempting uninstall: nvidia-cuda-runtime-cu12\n",
            "    Found existing installation: nvidia-cuda-runtime-cu12 12.5.82\n",
            "    Uninstalling nvidia-cuda-runtime-cu12-12.5.82:\n",
            "      Successfully uninstalled nvidia-cuda-runtime-cu12-12.5.82\n",
            "  Attempting uninstall: nvidia-cuda-nvrtc-cu12\n",
            "    Found existing installation: nvidia-cuda-nvrtc-cu12 12.5.82\n",
            "    Uninstalling nvidia-cuda-nvrtc-cu12-12.5.82:\n",
            "      Successfully uninstalled nvidia-cuda-nvrtc-cu12-12.5.82\n",
            "  Attempting uninstall: nvidia-cuda-cupti-cu12\n",
            "    Found existing installation: nvidia-cuda-cupti-cu12 12.5.82\n",
            "    Uninstalling nvidia-cuda-cupti-cu12-12.5.82:\n",
            "      Successfully uninstalled nvidia-cuda-cupti-cu12-12.5.82\n",
            "  Attempting uninstall: nvidia-cublas-cu12\n",
            "    Found existing installation: nvidia-cublas-cu12 12.5.3.2\n",
            "    Uninstalling nvidia-cublas-cu12-12.5.3.2:\n",
            "      Successfully uninstalled nvidia-cublas-cu12-12.5.3.2\n",
            "  Attempting uninstall: pandas\n",
            "    Found existing installation: pandas 2.2.2\n",
            "    Uninstalling pandas-2.2.2:\n",
            "      Successfully uninstalled pandas-2.2.2\n",
            "  Attempting uninstall: nvidia-cusparse-cu12\n",
            "    Found existing installation: nvidia-cusparse-cu12 12.5.1.3\n",
            "    Uninstalling nvidia-cusparse-cu12-12.5.1.3:\n",
            "      Successfully uninstalled nvidia-cusparse-cu12-12.5.1.3\n",
            "  Attempting uninstall: nvidia-cudnn-cu12\n",
            "    Found existing installation: nvidia-cudnn-cu12 9.3.0.75\n",
            "    Uninstalling nvidia-cudnn-cu12-9.3.0.75:\n",
            "      Successfully uninstalled nvidia-cudnn-cu12-9.3.0.75\n",
            "  Attempting uninstall: nvidia-cusolver-cu12\n",
            "    Found existing installation: nvidia-cusolver-cu12 11.6.3.83\n",
            "    Uninstalling nvidia-cusolver-cu12-11.6.3.83:\n",
            "      Successfully uninstalled nvidia-cusolver-cu12-11.6.3.83\n",
            "  Attempting uninstall: torch\n",
            "    Found existing installation: torch 2.5.1+cu124\n",
            "    Uninstalling torch-2.5.1+cu124:\n",
            "      Successfully uninstalled torch-2.5.1+cu124\n",
            "\u001b[31mERROR: pip's dependency resolver does not currently take into account all the packages that are installed. This behaviour is the source of the following dependency conflicts.\n",
            "google-colab 1.0.0 requires pandas==2.2.2, but you have pandas 2.2.3 which is incompatible.\n",
            "fastai 2.7.18 requires torch<2.6,>=1.10, but you have torch 2.6.0 which is incompatible.\n",
            "torchaudio 2.5.1+cu124 requires torch==2.5.1, but you have torch 2.6.0 which is incompatible.\n",
            "torchvision 0.20.1+cu124 requires torch==2.5.1, but you have torch 2.6.0 which is incompatible.\u001b[0m\u001b[31m\n",
            "\u001b[0mSuccessfully installed nvidia-cublas-cu12-12.4.5.8 nvidia-cuda-cupti-cu12-12.4.127 nvidia-cuda-nvrtc-cu12-12.4.127 nvidia-cuda-runtime-cu12-12.4.127 nvidia-cudnn-cu12-9.1.0.70 nvidia-cufft-cu12-11.2.1.3 nvidia-curand-cu12-10.3.5.147 nvidia-cusolver-cu12-11.6.1.9 nvidia-cusparse-cu12-12.3.1.170 nvidia-cusparselt-cu12-0.6.2 nvidia-nvjitlink-cu12-12.4.127 pandas-2.2.3 torch-2.6.0 triton-3.2.0\n"
          ]
        },
        {
          "output_type": "display_data",
          "data": {
            "application/vnd.colab-display-data+json": {
              "pip_warning": {
                "packages": [
                  "torch",
                  "torchgen"
                ]
              },
              "id": "350c2ba5622c42de8f87f8cc2057c8d0"
            }
          },
          "metadata": {}
        }
      ]
    },
    {
      "cell_type": "code",
      "source": [
        "print(train_features.shape[1])"
      ],
      "metadata": {
        "colab": {
          "base_uri": "https://localhost:8080/"
        },
        "id": "mWq9_qWeaW8x",
        "outputId": "be6200b3-5cfd-4b39-f26f-56a3cb018475"
      },
      "execution_count": null,
      "outputs": [
        {
          "output_type": "stream",
          "name": "stdout",
          "text": [
            "27\n"
          ]
        }
      ]
    },
    {
      "cell_type": "code",
      "source": [
        "input_size = 27\n",
        "hidden_size = 128\n",
        "num_classes = 3\n",
        "batch_size = 64\n",
        "num_epochs = 100\n",
        "learning_rate = 0.0005\n",
        "\n"
      ],
      "metadata": {
        "id": "uhDx_fFdygo7"
      },
      "execution_count": null,
      "outputs": []
    },
    {
      "cell_type": "code",
      "source": [
        "class ANN(nn.Module):\n",
        "    def __init__(self, input_size, hidden_size, num_classes):\n",
        "        super(ANN, self).__init__()\n",
        "        self.fc1 = nn.Linear(input_size, hidden_size)\n",
        "        self.relu = nn.ReLU()\n",
        "        self.fc2 = nn.Linear(hidden_size, hidden_size)\n",
        "        self.fc3 = nn.Linear(hidden_size, num_classes)\n",
        "\n",
        "    def forward(self, x):\n",
        "        x = self.fc1(x)\n",
        "        x = self.relu(x)\n",
        "        x = self.fc2(x)\n",
        "        x = self.relu(x)\n",
        "        x = self.fc3(x)\n",
        "        return x\n",
        "\n",
        "\n",
        "criterion = nn.CrossEntropyLoss()\n",
        "optimizer = optim.SGD(model.parameters(), lr=learning_rate, momentum=0.9)\n",
        "\n",
        "\n",
        "iter_count = 0\n",
        "for epoch in range(num_epochs):\n",
        "    for i in range(0, len(train_features), batch_size):\n",
        "        inputs = train_features[i:i+batch_size].to(device)\n",
        "        labels = train_labels[i:i+batch_size].to(device)\n",
        "\n",
        "\n",
        "        # Check if labels are within the valid range\n",
        "        if labels.min() < 0 or labels.max() >= num_classes:\n",
        "            #print(f\"Error: Invalid labels detected! Min: {labels.min()}, Max: {labels.max()}\")\n",
        "\n",
        "            # Adjust labels\n",
        "            labels = torch.clamp(labels, 0, num_classes - 1)\n",
        "\n",
        "        optimizer.zero_grad()\n",
        "        outputs = model(inputs)\n",
        "        loss = criterion(outputs, labels)\n",
        "        loss.backward()\n",
        "        optimizer.step()\n",
        "\n",
        "        iter_count += 1\n",
        "        if iter_count % 300 == 0:\n",
        "            all_preds = []\n",
        "            all_labels = []\n",
        "            correct, total = 0, 0\n",
        "            with torch.no_grad():\n",
        "                for i in range(0, len(test_features), batch_size):\n",
        "                    inputs = test_features[i:i+batch_size].to(device)\n",
        "                    labels = test_labels[i:i+batch_size].to(device)\n",
        "\n",
        "                    outputs = model(inputs)\n",
        "                    _, predicted = torch.max(outputs, 1)\n",
        "\n",
        "                    all_preds.extend(predicted.cpu().numpy())\n",
        "                    all_labels.extend(labels.cpu().numpy())\n",
        "\n",
        "                    total += labels.size(0)\n",
        "                    correct += (predicted == labels).sum().item()\n",
        "\n",
        "\n",
        "            accuracy = accuracy_score(all_labels, all_preds) * 100\n",
        "            precision = precision_score(all_labels, all_preds, average='weighted', zero_division=0)\n",
        "            recall = recall_score(all_labels, all_preds, average='weighted', zero_division=0)\n",
        "            f1 = f1_score(all_labels, all_preds, average='weighted')\n",
        "\n",
        "            print(f\"Iteration: {iter_count}. Loss: {loss.item():.4f}. Accuracy: {accuracy:.2f}% . Precision: {precision:.4f}. Recall: {recall:.4f}. F1 Score:{f1:.4f}\\n\" )"
      ],
      "metadata": {
        "id": "RPhdsSpG03m2",
        "colab": {
          "base_uri": "https://localhost:8080/"
        },
        "outputId": "ceba38fc-9779-4fb6-e377-e41e14b24004"
      },
      "execution_count": null,
      "outputs": [
        {
          "output_type": "stream",
          "name": "stdout",
          "text": [
            "Iteration: 300. Loss: 0.5665. Accuracy: 83.16% . Precision: 0.7253. Recall: 0.8316. F1 Score:0.7640\n",
            "\n",
            "Iteration: 600. Loss: 0.9329. Accuracy: 83.77% . Precision: 0.7017. Recall: 0.8377. F1 Score:0.7637\n",
            "\n",
            "Iteration: 900. Loss: 0.5487. Accuracy: 83.77% . Precision: 0.7017. Recall: 0.8377. F1 Score:0.7637\n",
            "\n",
            "Iteration: 1200. Loss: 0.6170. Accuracy: 83.77% . Precision: 0.7017. Recall: 0.8377. F1 Score:0.7637\n",
            "\n",
            "Iteration: 1500. Loss: 0.3775. Accuracy: 83.77% . Precision: 0.7017. Recall: 0.8377. F1 Score:0.7637\n",
            "\n"
          ]
        }
      ]
    },
    {
      "cell_type": "markdown",
      "source": [
        "# KNN"
      ],
      "metadata": {
        "id": "6MYMjIiLINXI"
      }
    },
    {
      "cell_type": "code",
      "source": [
        "# Standardize features\n",
        "scaler = StandardScaler()\n",
        "features_scaled = scaler.fit_transform(features)\n",
        "\n",
        "# Train-test split\n",
        "X_train, X_test, y_train, y_test = train_test_split(features_scaled, labels, test_size=0.2, random_state=42)\n",
        "\n",
        "# Convert to PyTorch tensors\n",
        "train_features = torch.tensor(X_train, dtype=torch.float32)\n",
        "test_features = torch.tensor(X_test, dtype=torch.float32)\n",
        "train_labels = torch.tensor(y_train, dtype=torch.long)\n",
        "test_labels = torch.tensor(y_test, dtype=torch.long)\n"
      ],
      "metadata": {
        "id": "OmbVOlCSLzbk"
      },
      "execution_count": null,
      "outputs": []
    },
    {
      "cell_type": "code",
      "source": [
        "import numpy as np\n",
        "import torch\n",
        "import pandas as pd\n",
        "from sklearn.model_selection import train_test_split\n",
        "from sklearn.preprocessing import StandardScaler\n",
        "from sklearn.neighbors import KNeighborsClassifier\n",
        "from sklearn.metrics import accuracy_score, precision_score, recall_score, f1_score\n",
        "\n",
        "\n",
        "# Initialize KNN classifier\n",
        "k = 5\n",
        "knn = KNeighborsClassifier(n_neighbors=k)\n",
        "\n",
        "# Train KNN\n",
        "knn.fit(X_train, y_train)\n",
        "\n",
        "\n",
        "batch_size = 64\n",
        "iter_count = 0\n",
        "\n",
        "for i in range(0, len(X_test), batch_size):\n",
        "    iter_count += 1\n",
        "\n",
        "    # Get batch\n",
        "    batch_X = X_test[i:i + batch_size]\n",
        "    batch_y = y_test[i:i + batch_size]\n",
        "\n",
        "    # Predictions\n",
        "    y_pred = knn.predict(batch_X)\n",
        "\n",
        "    # Compute Metrics\n",
        "    accuracy = accuracy_score(batch_y, y_pred) * 100\n",
        "    precision = precision_score(batch_y, y_pred, average='weighted', zero_division=0)\n",
        "    recall = recall_score(batch_y, y_pred, average='weighted', zero_division=0)\n",
        "    f1 = f1_score(batch_y, y_pred, average='weighted')\n",
        "\n",
        "\n",
        "# Final evaluation on the full test set\n",
        "y_pred_full = knn.predict(X_test)\n",
        "\n",
        "accuracy = accuracy_score(y_test, y_pred_full) * 100\n",
        "precision = precision_score(y_test, y_pred_full, average='weighted', zero_division=0)\n",
        "recall = recall_score(y_test, y_pred_full, average='weighted', zero_division=0)\n",
        "f1 = f1_score(y_test, y_pred_full, average='weighted')\n",
        "\n",
        "print(\"Final Evaluation:\")\n",
        "print(f\"Accuracy: {accuracy:.2f}% . Precision: {precision:.4f}. Recall: {recall:.4f}. F1 Score:{f1:.4f}\\n\")\n"
      ],
      "metadata": {
        "colab": {
          "base_uri": "https://localhost:8080/"
        },
        "id": "M2IGGMGGIO6p",
        "outputId": "c6d66196-912f-430d-b66d-48bac5ccbffa"
      },
      "execution_count": null,
      "outputs": [
        {
          "output_type": "stream",
          "name": "stdout",
          "text": [
            "Final Evaluation:\n",
            "Accuracy: 82.14% . Precision: 0.7334. Recall: 0.8214. F1 Score:0.7641\n",
            "\n"
          ]
        }
      ]
    },
    {
      "cell_type": "code",
      "source": [
        "# Initialize KNN classifier\n",
        "k = 7\n",
        "knn = KNeighborsClassifier(n_neighbors=k)\n",
        "\n",
        "# Train KNN\n",
        "knn.fit(X_train, y_train)\n",
        "\n",
        "batch_size = 64\n",
        "iter_count = 0\n",
        "\n",
        "for i in range(0, len(X_test), batch_size):\n",
        "    iter_count += 1\n",
        "\n",
        "    # Get batch\n",
        "    batch_X = X_test[i:i + batch_size]\n",
        "    batch_y = y_test[i:i + batch_size]\n",
        "\n",
        "    # Predictions\n",
        "    y_pred = knn.predict(batch_X)\n",
        "\n",
        "    # Compute Metrics\n",
        "    accuracy = accuracy_score(batch_y, y_pred) * 100\n",
        "    precision = precision_score(batch_y, y_pred, average='weighted', zero_division=0)\n",
        "    recall = recall_score(batch_y, y_pred, average='weighted', zero_division=0)\n",
        "    f1 = f1_score(batch_y, y_pred, average='weighted')\n",
        "\n",
        "\n",
        "# Final evaluation on the full test set\n",
        "y_pred_full = knn.predict(X_test)\n",
        "\n",
        "accuracy = accuracy_score(y_test, y_pred_full) * 100\n",
        "precision = precision_score(y_test, y_pred_full, average='weighted', zero_division=0)\n",
        "recall = recall_score(y_test, y_pred_full, average='weighted', zero_division=0)\n",
        "f1 = f1_score(y_test, y_pred_full, average='weighted')\n",
        "\n",
        "print(\"Final Evaluation:\")\n",
        "print(f\"Accuracy: {accuracy:.2f}% . Precision: {precision:.4f}. Recall: {recall:.4f}. F1 Score:{f1:.4f}\\n\")\n"
      ],
      "metadata": {
        "colab": {
          "base_uri": "https://localhost:8080/"
        },
        "id": "6Ikn2tz5Mz1p",
        "outputId": "edea139a-799e-4934-a4f6-7095a0237480"
      },
      "execution_count": null,
      "outputs": [
        {
          "output_type": "stream",
          "name": "stdout",
          "text": [
            "Final Evaluation:\n",
            "Accuracy: 83.44% . Precision: 0.7578. Recall: 0.8344. F1 Score:0.7699\n",
            "\n"
          ]
        }
      ]
    },
    {
      "cell_type": "code",
      "source": [
        "# Initialize KNN classifier\n",
        "k = 9\n",
        "knn = KNeighborsClassifier(n_neighbors=k)\n",
        "\n",
        "# Train KNN\n",
        "knn.fit(X_train, y_train)\n",
        "\n",
        "\n",
        "batch_size = 64\n",
        "iter_count = 0\n",
        "\n",
        "for i in range(0, len(X_test), batch_size):\n",
        "    iter_count += 1\n",
        "\n",
        "    # Get batch\n",
        "    batch_X = X_test[i:i + batch_size]\n",
        "    batch_y = y_test[i:i + batch_size]\n",
        "\n",
        "    # Predictions\n",
        "    y_pred = knn.predict(batch_X)\n",
        "\n",
        "    # Compute Metrics\n",
        "    accuracy = accuracy_score(batch_y, y_pred) * 100\n",
        "    precision = precision_score(batch_y, y_pred, average='weighted', zero_division=0)\n",
        "    recall = recall_score(batch_y, y_pred, average='weighted', zero_division=0)\n",
        "    f1 = f1_score(batch_y, y_pred, average='weighted')\n",
        "\n",
        "\n",
        "# Final evaluation on the full test set\n",
        "y_pred_full = knn.predict(X_test)\n",
        "\n",
        "accuracy = accuracy_score(y_test, y_pred_full) * 100\n",
        "precision = precision_score(y_test, y_pred_full, average='weighted', zero_division=0)\n",
        "recall = recall_score(y_test, y_pred_full, average='weighted', zero_division=0)\n",
        "f1 = f1_score(y_test, y_pred_full, average='weighted')\n",
        "\n",
        "print(\"Final Evaluation:\")\n",
        "print(f\"Accuracy: {accuracy:.2f}% . Precision: {precision:.4f}. Recall: {recall:.4f}. F1 Score:{f1:.4f}\\n\")\n"
      ],
      "metadata": {
        "colab": {
          "base_uri": "https://localhost:8080/"
        },
        "id": "0r_aRGKXM-pW",
        "outputId": "219f42fb-6392-45e3-e3d7-e335263751ef"
      },
      "execution_count": null,
      "outputs": [
        {
          "output_type": "stream",
          "name": "stdout",
          "text": [
            "Final Evaluation:\n",
            "Accuracy: 83.64% . Precision: 0.7618. Recall: 0.8364. F1 Score:0.7675\n",
            "\n"
          ]
        }
      ]
    },
    {
      "cell_type": "code",
      "source": [
        "# Initialize KNN classifier\n",
        "k = 10\n",
        "knn = KNeighborsClassifier(n_neighbors=k)\n",
        "\n",
        "# Train KNN\n",
        "knn.fit(X_train, y_train)\n",
        "\n",
        "\n",
        "batch_size = 64\n",
        "iter_count = 0\n",
        "\n",
        "for i in range(0, len(X_test), batch_size):\n",
        "    iter_count += 1\n",
        "\n",
        "    # Get batch\n",
        "    batch_X = X_test[i:i + batch_size]\n",
        "    batch_y = y_test[i:i + batch_size]\n",
        "\n",
        "    # Predictions\n",
        "    y_pred = knn.predict(batch_X)\n",
        "\n",
        "    # Compute Metrics\n",
        "    accuracy = accuracy_score(batch_y, y_pred) * 100\n",
        "    precision = precision_score(batch_y, y_pred, average='weighted', zero_division=0)\n",
        "    recall = recall_score(batch_y, y_pred, average='weighted', zero_division=0)\n",
        "    f1 = f1_score(batch_y, y_pred, average='weighted')\n",
        "\n",
        "\n",
        "# Final evaluation on the full test set\n",
        "y_pred_full = knn.predict(X_test)\n",
        "\n",
        "accuracy = accuracy_score(y_test, y_pred_full) * 100\n",
        "precision = precision_score(y_test, y_pred_full, average='weighted', zero_division=0)\n",
        "recall = recall_score(y_test, y_pred_full, average='weighted', zero_division=0)\n",
        "f1 = f1_score(y_test, y_pred_full, average='weighted')\n",
        "\n",
        "print(\"Final Evaluation:\")\n",
        "print(f\"Accuracy: {accuracy:.2f}% . Precision: {precision:.4f}. Recall: {recall:.4f}. F1 Score:{f1:.4f}\\n\")\n"
      ],
      "metadata": {
        "colab": {
          "base_uri": "https://localhost:8080/"
        },
        "id": "SFzvOaEiM7fC",
        "outputId": "f7cb5e7a-8912-49bb-8328-6d277a67cd7d"
      },
      "execution_count": null,
      "outputs": [
        {
          "output_type": "stream",
          "name": "stdout",
          "text": [
            "Final Evaluation:\n",
            "Accuracy: 83.40% . Precision: 0.7447. Recall: 0.8340. F1 Score:0.7663\n",
            "\n"
          ]
        }
      ]
    },
    {
      "cell_type": "code",
      "source": [
        "# Initialize KNN classifier\n",
        "k = 11\n",
        "knn = KNeighborsClassifier(n_neighbors=k)\n",
        "\n",
        "# Train KNN\n",
        "knn.fit(X_train, y_train)\n",
        "\n",
        "\n",
        "batch_size = 64\n",
        "\n",
        "for i in range(0, len(X_test), batch_size):\n",
        "    iter_count += 1\n",
        "\n",
        "    # Get batch\n",
        "    batch_X = X_test[i:i + batch_size]\n",
        "    batch_y = y_test[i:i + batch_size]\n",
        "\n",
        "    # Predictions\n",
        "    y_pred = knn.predict(batch_X)\n",
        "\n",
        "    # Compute Metrics\n",
        "    accuracy = accuracy_score(batch_y, y_pred) * 100\n",
        "    precision = precision_score(batch_y, y_pred, average='weighted', zero_division=0)\n",
        "    recall = recall_score(batch_y, y_pred, average='weighted', zero_division=0)\n",
        "    f1 = f1_score(batch_y, y_pred, average='weighted')\n",
        "\n",
        "\n",
        "# Final evaluation on the full test set\n",
        "y_pred_full = knn.predict(X_test)\n",
        "\n",
        "accuracy = accuracy_score(y_test, y_pred_full) * 100\n",
        "precision = precision_score(y_test, y_pred_full, average='weighted', zero_division=0)\n",
        "recall = recall_score(y_test, y_pred_full, average='weighted', zero_division=0)\n",
        "f1 = f1_score(y_test, y_pred_full, average='weighted')\n",
        "\n",
        "print(\"Final Evaluation:\")\n",
        "print(f\"Accuracy: {accuracy:.2f}% . Precision: {precision:.4f}. Recall: {recall:.4f}. F1 Score:{f1:.4f}\\n\")\n"
      ],
      "metadata": {
        "colab": {
          "base_uri": "https://localhost:8080/"
        },
        "id": "IEi9ZxLjNn0L",
        "outputId": "a2498ba1-665f-4f4a-d425-9bb7cfa22579"
      },
      "execution_count": null,
      "outputs": [
        {
          "output_type": "stream",
          "name": "stdout",
          "text": [
            "Final Evaluation:\n",
            "Accuracy: 83.77% . Precision: 0.7758. Recall: 0.8377. F1 Score:0.7652\n",
            "\n"
          ]
        }
      ]
    },
    {
      "cell_type": "code",
      "source": [
        "# Initialize KNN classifier\n",
        "k = 13\n",
        "knn = KNeighborsClassifier(n_neighbors=k)\n",
        "\n",
        "# Train KNN\n",
        "knn.fit(X_train, y_train)\n",
        "\n",
        "\n",
        "batch_size = 64\n",
        "iter_count = 0\n",
        "\n",
        "for i in range(0, len(X_test), batch_size):\n",
        "    iter_count += 1\n",
        "\n",
        "    # Get batch\n",
        "    batch_X = X_test[i:i + batch_size]\n",
        "    batch_y = y_test[i:i + batch_size]\n",
        "\n",
        "    # Predictions\n",
        "    y_pred = knn.predict(batch_X)\n",
        "\n",
        "    # Compute Metrics\n",
        "    accuracy = accuracy_score(batch_y, y_pred) * 100\n",
        "    precision = precision_score(batch_y, y_pred, average='weighted', zero_division=0)\n",
        "    recall = recall_score(batch_y, y_pred, average='weighted', zero_division=0)\n",
        "    f1 = f1_score(batch_y, y_pred, average='weighted')\n",
        "\n",
        "\n",
        "# Final evaluation on the full test set\n",
        "y_pred_full = knn.predict(X_test)\n",
        "\n",
        "accuracy = accuracy_score(y_test, y_pred_full) * 100\n",
        "precision = precision_score(y_test, y_pred_full, average='weighted', zero_division=0)\n",
        "recall = recall_score(y_test, y_pred_full, average='weighted', zero_division=0)\n",
        "f1 = f1_score(y_test, y_pred_full, average='weighted')\n",
        "\n",
        "print(\"Final Evaluation:\")\n",
        "print(f\"Accuracy: {accuracy:.2f}% . Precision: {precision:.4f}. Recall: {recall:.4f}. F1 Score:{f1:.4f}\\n\")\n"
      ],
      "metadata": {
        "colab": {
          "base_uri": "https://localhost:8080/"
        },
        "id": "Ahmf93JuNqjr",
        "outputId": "bd850ad8-f7e2-4aa1-9839-2ad7c5932d39"
      },
      "execution_count": null,
      "outputs": [
        {
          "output_type": "stream",
          "name": "stdout",
          "text": [
            "Final Evaluation:\n",
            "Accuracy: 83.73% . Precision: 0.7016. Recall: 0.8373. F1 Score:0.7635\n",
            "\n"
          ]
        }
      ]
    },
    {
      "cell_type": "markdown",
      "source": [
        "# SVM"
      ],
      "metadata": {
        "id": "NxqTu5OrKMvl"
      }
    },
    {
      "cell_type": "code",
      "source": [
        "import numpy as np\n",
        "import torch\n",
        "import pandas as pd\n",
        "from sklearn.model_selection import train_test_split\n",
        "from sklearn.preprocessing import StandardScaler\n",
        "from sklearn.svm import SVC\n",
        "from sklearn.metrics import accuracy_score, precision_score, recall_score, f1_score\n",
        "\n",
        "# Initialize SVM classifier\n",
        "svm_model = SVC(kernel='linear', C=1.0)  #\n",
        "\n",
        "# Train SVM\n",
        "svm_model.fit(X_train, y_train)\n",
        "\n",
        "\n",
        "batch_size = 64\n",
        "iter_count = 0\n",
        "\n",
        "for i in range(0, len(X_test), batch_size):\n",
        "    iter_count += 1\n",
        "\n",
        "    # Get batch\n",
        "    batch_X = X_test[i:i + batch_size]\n",
        "    batch_y = y_test[i:i + batch_size]\n",
        "\n",
        "    # Predictions\n",
        "    y_pred = svm_model.predict(batch_X)\n",
        "\n",
        "    # Compute Metrics\n",
        "    accuracy = accuracy_score(batch_y, y_pred) * 100\n",
        "    precision = precision_score(batch_y, y_pred, average='weighted', zero_division=0)\n",
        "    recall = recall_score(batch_y, y_pred, average='weighted', zero_division=0)\n",
        "    f1 = f1_score(batch_y, y_pred, average='weighted')\n",
        "\n",
        "\n",
        "# Final evaluation on the full test set\n",
        "y_pred_full = svm_model.predict(X_test)\n",
        "\n",
        "accuracy = accuracy_score(y_test, y_pred_full) * 100\n",
        "precision = precision_score(y_test, y_pred_full, average='weighted', zero_division=0)\n",
        "recall = recall_score(y_test, y_pred_full, average='weighted', zero_division=0)\n",
        "f1 = f1_score(y_test, y_pred_full, average='weighted')\n",
        "\n",
        "print(\"Final Evaluation:\")\n",
        "print(f\"Accuracy: {accuracy:.2f}% . Precision: {precision:.4f}. Recall: {recall:.4f}. F1 Score:{f1:.4f}\\n\")\n"
      ],
      "metadata": {
        "colab": {
          "base_uri": "https://localhost:8080/"
        },
        "id": "F6tb_Y9DKOgQ",
        "outputId": "2fe520da-e8a4-471e-9e0a-cab9866710bc"
      },
      "execution_count": null,
      "outputs": [
        {
          "output_type": "stream",
          "name": "stdout",
          "text": [
            "Final Evaluation:\n",
            "Accuracy: 83.77% . Precision: 0.7017. Recall: 0.8377. F1 Score:0.7637\n",
            "\n"
          ]
        }
      ]
    }
  ]
}