{
  "nbformat": 4,
  "nbformat_minor": 0,
  "metadata": {
    "colab": {
      "provenance": [],
      "gpuType": "T4"
    },
    "kernelspec": {
      "name": "python3",
      "display_name": "Python 3"
    },
    "language_info": {
      "name": "python"
    },
    "accelerator": "GPU"
  },
  "cells": [
    {
      "cell_type": "code",
      "execution_count": null,
      "metadata": {
        "id": "Rvh6Z950-TF2"
      },
      "outputs": [],
      "source": [
        "import pandas as pd\n",
        "import numpy as np\n",
        "import torch\n",
        "import torch.nn as nn\n",
        "import torch.optim as optim\n",
        "from torchvision import datasets, transforms\n",
        "import torch.nn.functional as F\n",
        "from torch.utils.data import Dataset, DataLoader\n",
        "from sklearn.model_selection import train_test_split\n",
        "from collections import Counter\n",
        "from torch.optim.lr_scheduler import ReduceLROnPlateau\n",
        "from sklearn.metrics import accuracy_score, precision_score, recall_score, f1_score, confusion_matrix, classification_report\n",
        "from sklearn.ensemble import RandomForestClassifier, RandomForestRegressor\n",
        "from sklearn.preprocessing import LabelEncoder\n",
        "from sklearn.impute import SimpleImputer\n",
        "from sklearn.utils.class_weight import compute_class_weight\n",
        "from sklearn.preprocessing import MinMaxScaler\n",
        "from imblearn.over_sampling import ADASYN\n",
        "from sklearn.model_selection import GridSearchCV\n",
        "from torch.optim.lr_scheduler import StepLR\n",
        "import random\n",
        "import seaborn as sns\n",
        "import matplotlib.pyplot as plt"
      ]
    },
    {
      "cell_type": "code",
      "source": [
        "!pip install catboost\n"
      ],
      "metadata": {
        "colab": {
          "base_uri": "https://localhost:8080/"
        },
        "collapsed": true,
        "id": "MSPAAIQKRmRA",
        "outputId": "f34e4d6a-19e4-4be2-a3bf-ea743aadd0ee"
      },
      "execution_count": null,
      "outputs": [
        {
          "output_type": "stream",
          "name": "stdout",
          "text": [
            "Collecting catboost\n",
            "  Downloading catboost-1.2.7-cp311-cp311-manylinux2014_x86_64.whl.metadata (1.2 kB)\n",
            "Requirement already satisfied: graphviz in /usr/local/lib/python3.11/dist-packages (from catboost) (0.20.3)\n",
            "Requirement already satisfied: matplotlib in /usr/local/lib/python3.11/dist-packages (from catboost) (3.10.0)\n",
            "Requirement already satisfied: numpy<2.0,>=1.16.0 in /usr/local/lib/python3.11/dist-packages (from catboost) (1.26.4)\n",
            "Requirement already satisfied: pandas>=0.24 in /usr/local/lib/python3.11/dist-packages (from catboost) (2.2.2)\n",
            "Requirement already satisfied: scipy in /usr/local/lib/python3.11/dist-packages (from catboost) (1.13.1)\n",
            "Requirement already satisfied: plotly in /usr/local/lib/python3.11/dist-packages (from catboost) (5.24.1)\n",
            "Requirement already satisfied: six in /usr/local/lib/python3.11/dist-packages (from catboost) (1.17.0)\n",
            "Requirement already satisfied: python-dateutil>=2.8.2 in /usr/local/lib/python3.11/dist-packages (from pandas>=0.24->catboost) (2.8.2)\n",
            "Requirement already satisfied: pytz>=2020.1 in /usr/local/lib/python3.11/dist-packages (from pandas>=0.24->catboost) (2025.1)\n",
            "Requirement already satisfied: tzdata>=2022.7 in /usr/local/lib/python3.11/dist-packages (from pandas>=0.24->catboost) (2025.1)\n",
            "Requirement already satisfied: contourpy>=1.0.1 in /usr/local/lib/python3.11/dist-packages (from matplotlib->catboost) (1.3.1)\n",
            "Requirement already satisfied: cycler>=0.10 in /usr/local/lib/python3.11/dist-packages (from matplotlib->catboost) (0.12.1)\n",
            "Requirement already satisfied: fonttools>=4.22.0 in /usr/local/lib/python3.11/dist-packages (from matplotlib->catboost) (4.56.0)\n",
            "Requirement already satisfied: kiwisolver>=1.3.1 in /usr/local/lib/python3.11/dist-packages (from matplotlib->catboost) (1.4.8)\n",
            "Requirement already satisfied: packaging>=20.0 in /usr/local/lib/python3.11/dist-packages (from matplotlib->catboost) (24.2)\n",
            "Requirement already satisfied: pillow>=8 in /usr/local/lib/python3.11/dist-packages (from matplotlib->catboost) (11.1.0)\n",
            "Requirement already satisfied: pyparsing>=2.3.1 in /usr/local/lib/python3.11/dist-packages (from matplotlib->catboost) (3.2.1)\n",
            "Requirement already satisfied: tenacity>=6.2.0 in /usr/local/lib/python3.11/dist-packages (from plotly->catboost) (9.0.0)\n",
            "Downloading catboost-1.2.7-cp311-cp311-manylinux2014_x86_64.whl (98.7 MB)\n",
            "\u001b[2K   \u001b[90m━━━━━━━━━━━━━━━━━━━━━━━━━━━━━━━━━━━━━━━━\u001b[0m \u001b[32m98.7/98.7 MB\u001b[0m \u001b[31m6.6 MB/s\u001b[0m eta \u001b[36m0:00:00\u001b[0m\n",
            "\u001b[?25hInstalling collected packages: catboost\n",
            "Successfully installed catboost-1.2.7\n"
          ]
        }
      ]
    },
    {
      "cell_type": "code",
      "source": [
        "from catboost import CatBoostClassifier\n"
      ],
      "metadata": {
        "id": "KwDGWXbpRnTI"
      },
      "execution_count": null,
      "outputs": []
    },
    {
      "cell_type": "code",
      "source": [
        "datapath = '/content/drive/MyDrive/Pattern Assignment/RTA Dataset.csv'\n",
        "df = pd.read_csv(datapath)\n",
        "\n",
        "df.head()"
      ],
      "metadata": {
        "colab": {
          "base_uri": "https://localhost:8080/",
          "height": 307
        },
        "id": "7tec9pfc-ZT2",
        "outputId": "11bab8a0-eb42-4d55-f5cc-0289371db854"
      },
      "execution_count": null,
      "outputs": [
        {
          "output_type": "execute_result",
          "data": {
            "text/plain": [
              "       Time Day_of_week Age_band_of_driver Sex_of_driver   Educational_level  \\\n",
              "0  17:02:00      Monday              18-30          Male   Above high school   \n",
              "1  17:02:00      Monday              31-50          Male  Junior high school   \n",
              "2  17:02:00      Monday              18-30          Male  Junior high school   \n",
              "3   1:06:00      Sunday              18-30          Male  Junior high school   \n",
              "4   1:06:00      Sunday              18-30          Male  Junior high school   \n",
              "\n",
              "  Vehicle_driver_relation Driving_experience      Type_of_vehicle  \\\n",
              "0                Employee              1-2yr           Automobile   \n",
              "1                Employee         Above 10yr  Public (> 45 seats)   \n",
              "2                Employee              1-2yr      Lorry (41?100Q)   \n",
              "3                Employee             5-10yr  Public (> 45 seats)   \n",
              "4                Employee              2-5yr                  NaN   \n",
              "\n",
              "  Owner_of_vehicle Service_year_of_vehicle  ... Vehicle_movement  \\\n",
              "0            Owner              Above 10yr  ...   Going straight   \n",
              "1            Owner                 5-10yrs  ...   Going straight   \n",
              "2            Owner                     NaN  ...   Going straight   \n",
              "3     Governmental                     NaN  ...   Going straight   \n",
              "4            Owner                 5-10yrs  ...   Going straight   \n",
              "\n",
              "    Casualty_class Sex_of_casualty Age_band_of_casualty Casualty_severity  \\\n",
              "0               na              na                   na                na   \n",
              "1               na              na                   na                na   \n",
              "2  Driver or rider            Male                31-50                 3   \n",
              "3       Pedestrian          Female                18-30                 3   \n",
              "4               na              na                   na                na   \n",
              "\n",
              "  Work_of_casuality Fitness_of_casuality Pedestrian_movement  \\\n",
              "0               NaN                  NaN    Not a Pedestrian   \n",
              "1               NaN                  NaN    Not a Pedestrian   \n",
              "2            Driver                  NaN    Not a Pedestrian   \n",
              "3            Driver               Normal    Not a Pedestrian   \n",
              "4               NaN                  NaN    Not a Pedestrian   \n",
              "\n",
              "            Cause_of_accident Accident_severity  \n",
              "0             Moving Backward     Slight Injury  \n",
              "1                  Overtaking     Slight Injury  \n",
              "2   Changing lane to the left    Serious Injury  \n",
              "3  Changing lane to the right     Slight Injury  \n",
              "4                  Overtaking     Slight Injury  \n",
              "\n",
              "[5 rows x 32 columns]"
            ],
            "text/html": [
              "\n",
              "  <div id=\"df-992a6ecf-a5d1-404a-8b5d-e6c55128fd2a\" class=\"colab-df-container\">\n",
              "    <div>\n",
              "<style scoped>\n",
              "    .dataframe tbody tr th:only-of-type {\n",
              "        vertical-align: middle;\n",
              "    }\n",
              "\n",
              "    .dataframe tbody tr th {\n",
              "        vertical-align: top;\n",
              "    }\n",
              "\n",
              "    .dataframe thead th {\n",
              "        text-align: right;\n",
              "    }\n",
              "</style>\n",
              "<table border=\"1\" class=\"dataframe\">\n",
              "  <thead>\n",
              "    <tr style=\"text-align: right;\">\n",
              "      <th></th>\n",
              "      <th>Time</th>\n",
              "      <th>Day_of_week</th>\n",
              "      <th>Age_band_of_driver</th>\n",
              "      <th>Sex_of_driver</th>\n",
              "      <th>Educational_level</th>\n",
              "      <th>Vehicle_driver_relation</th>\n",
              "      <th>Driving_experience</th>\n",
              "      <th>Type_of_vehicle</th>\n",
              "      <th>Owner_of_vehicle</th>\n",
              "      <th>Service_year_of_vehicle</th>\n",
              "      <th>...</th>\n",
              "      <th>Vehicle_movement</th>\n",
              "      <th>Casualty_class</th>\n",
              "      <th>Sex_of_casualty</th>\n",
              "      <th>Age_band_of_casualty</th>\n",
              "      <th>Casualty_severity</th>\n",
              "      <th>Work_of_casuality</th>\n",
              "      <th>Fitness_of_casuality</th>\n",
              "      <th>Pedestrian_movement</th>\n",
              "      <th>Cause_of_accident</th>\n",
              "      <th>Accident_severity</th>\n",
              "    </tr>\n",
              "  </thead>\n",
              "  <tbody>\n",
              "    <tr>\n",
              "      <th>0</th>\n",
              "      <td>17:02:00</td>\n",
              "      <td>Monday</td>\n",
              "      <td>18-30</td>\n",
              "      <td>Male</td>\n",
              "      <td>Above high school</td>\n",
              "      <td>Employee</td>\n",
              "      <td>1-2yr</td>\n",
              "      <td>Automobile</td>\n",
              "      <td>Owner</td>\n",
              "      <td>Above 10yr</td>\n",
              "      <td>...</td>\n",
              "      <td>Going straight</td>\n",
              "      <td>na</td>\n",
              "      <td>na</td>\n",
              "      <td>na</td>\n",
              "      <td>na</td>\n",
              "      <td>NaN</td>\n",
              "      <td>NaN</td>\n",
              "      <td>Not a Pedestrian</td>\n",
              "      <td>Moving Backward</td>\n",
              "      <td>Slight Injury</td>\n",
              "    </tr>\n",
              "    <tr>\n",
              "      <th>1</th>\n",
              "      <td>17:02:00</td>\n",
              "      <td>Monday</td>\n",
              "      <td>31-50</td>\n",
              "      <td>Male</td>\n",
              "      <td>Junior high school</td>\n",
              "      <td>Employee</td>\n",
              "      <td>Above 10yr</td>\n",
              "      <td>Public (&gt; 45 seats)</td>\n",
              "      <td>Owner</td>\n",
              "      <td>5-10yrs</td>\n",
              "      <td>...</td>\n",
              "      <td>Going straight</td>\n",
              "      <td>na</td>\n",
              "      <td>na</td>\n",
              "      <td>na</td>\n",
              "      <td>na</td>\n",
              "      <td>NaN</td>\n",
              "      <td>NaN</td>\n",
              "      <td>Not a Pedestrian</td>\n",
              "      <td>Overtaking</td>\n",
              "      <td>Slight Injury</td>\n",
              "    </tr>\n",
              "    <tr>\n",
              "      <th>2</th>\n",
              "      <td>17:02:00</td>\n",
              "      <td>Monday</td>\n",
              "      <td>18-30</td>\n",
              "      <td>Male</td>\n",
              "      <td>Junior high school</td>\n",
              "      <td>Employee</td>\n",
              "      <td>1-2yr</td>\n",
              "      <td>Lorry (41?100Q)</td>\n",
              "      <td>Owner</td>\n",
              "      <td>NaN</td>\n",
              "      <td>...</td>\n",
              "      <td>Going straight</td>\n",
              "      <td>Driver or rider</td>\n",
              "      <td>Male</td>\n",
              "      <td>31-50</td>\n",
              "      <td>3</td>\n",
              "      <td>Driver</td>\n",
              "      <td>NaN</td>\n",
              "      <td>Not a Pedestrian</td>\n",
              "      <td>Changing lane to the left</td>\n",
              "      <td>Serious Injury</td>\n",
              "    </tr>\n",
              "    <tr>\n",
              "      <th>3</th>\n",
              "      <td>1:06:00</td>\n",
              "      <td>Sunday</td>\n",
              "      <td>18-30</td>\n",
              "      <td>Male</td>\n",
              "      <td>Junior high school</td>\n",
              "      <td>Employee</td>\n",
              "      <td>5-10yr</td>\n",
              "      <td>Public (&gt; 45 seats)</td>\n",
              "      <td>Governmental</td>\n",
              "      <td>NaN</td>\n",
              "      <td>...</td>\n",
              "      <td>Going straight</td>\n",
              "      <td>Pedestrian</td>\n",
              "      <td>Female</td>\n",
              "      <td>18-30</td>\n",
              "      <td>3</td>\n",
              "      <td>Driver</td>\n",
              "      <td>Normal</td>\n",
              "      <td>Not a Pedestrian</td>\n",
              "      <td>Changing lane to the right</td>\n",
              "      <td>Slight Injury</td>\n",
              "    </tr>\n",
              "    <tr>\n",
              "      <th>4</th>\n",
              "      <td>1:06:00</td>\n",
              "      <td>Sunday</td>\n",
              "      <td>18-30</td>\n",
              "      <td>Male</td>\n",
              "      <td>Junior high school</td>\n",
              "      <td>Employee</td>\n",
              "      <td>2-5yr</td>\n",
              "      <td>NaN</td>\n",
              "      <td>Owner</td>\n",
              "      <td>5-10yrs</td>\n",
              "      <td>...</td>\n",
              "      <td>Going straight</td>\n",
              "      <td>na</td>\n",
              "      <td>na</td>\n",
              "      <td>na</td>\n",
              "      <td>na</td>\n",
              "      <td>NaN</td>\n",
              "      <td>NaN</td>\n",
              "      <td>Not a Pedestrian</td>\n",
              "      <td>Overtaking</td>\n",
              "      <td>Slight Injury</td>\n",
              "    </tr>\n",
              "  </tbody>\n",
              "</table>\n",
              "<p>5 rows × 32 columns</p>\n",
              "</div>\n",
              "    <div class=\"colab-df-buttons\">\n",
              "\n",
              "  <div class=\"colab-df-container\">\n",
              "    <button class=\"colab-df-convert\" onclick=\"convertToInteractive('df-992a6ecf-a5d1-404a-8b5d-e6c55128fd2a')\"\n",
              "            title=\"Convert this dataframe to an interactive table.\"\n",
              "            style=\"display:none;\">\n",
              "\n",
              "  <svg xmlns=\"http://www.w3.org/2000/svg\" height=\"24px\" viewBox=\"0 -960 960 960\">\n",
              "    <path d=\"M120-120v-720h720v720H120Zm60-500h600v-160H180v160Zm220 220h160v-160H400v160Zm0 220h160v-160H400v160ZM180-400h160v-160H180v160Zm440 0h160v-160H620v160ZM180-180h160v-160H180v160Zm440 0h160v-160H620v160Z\"/>\n",
              "  </svg>\n",
              "    </button>\n",
              "\n",
              "  <style>\n",
              "    .colab-df-container {\n",
              "      display:flex;\n",
              "      gap: 12px;\n",
              "    }\n",
              "\n",
              "    .colab-df-convert {\n",
              "      background-color: #E8F0FE;\n",
              "      border: none;\n",
              "      border-radius: 50%;\n",
              "      cursor: pointer;\n",
              "      display: none;\n",
              "      fill: #1967D2;\n",
              "      height: 32px;\n",
              "      padding: 0 0 0 0;\n",
              "      width: 32px;\n",
              "    }\n",
              "\n",
              "    .colab-df-convert:hover {\n",
              "      background-color: #E2EBFA;\n",
              "      box-shadow: 0px 1px 2px rgba(60, 64, 67, 0.3), 0px 1px 3px 1px rgba(60, 64, 67, 0.15);\n",
              "      fill: #174EA6;\n",
              "    }\n",
              "\n",
              "    .colab-df-buttons div {\n",
              "      margin-bottom: 4px;\n",
              "    }\n",
              "\n",
              "    [theme=dark] .colab-df-convert {\n",
              "      background-color: #3B4455;\n",
              "      fill: #D2E3FC;\n",
              "    }\n",
              "\n",
              "    [theme=dark] .colab-df-convert:hover {\n",
              "      background-color: #434B5C;\n",
              "      box-shadow: 0px 1px 3px 1px rgba(0, 0, 0, 0.15);\n",
              "      filter: drop-shadow(0px 1px 2px rgba(0, 0, 0, 0.3));\n",
              "      fill: #FFFFFF;\n",
              "    }\n",
              "  </style>\n",
              "\n",
              "    <script>\n",
              "      const buttonEl =\n",
              "        document.querySelector('#df-992a6ecf-a5d1-404a-8b5d-e6c55128fd2a button.colab-df-convert');\n",
              "      buttonEl.style.display =\n",
              "        google.colab.kernel.accessAllowed ? 'block' : 'none';\n",
              "\n",
              "      async function convertToInteractive(key) {\n",
              "        const element = document.querySelector('#df-992a6ecf-a5d1-404a-8b5d-e6c55128fd2a');\n",
              "        const dataTable =\n",
              "          await google.colab.kernel.invokeFunction('convertToInteractive',\n",
              "                                                    [key], {});\n",
              "        if (!dataTable) return;\n",
              "\n",
              "        const docLinkHtml = 'Like what you see? Visit the ' +\n",
              "          '<a target=\"_blank\" href=https://colab.research.google.com/notebooks/data_table.ipynb>data table notebook</a>'\n",
              "          + ' to learn more about interactive tables.';\n",
              "        element.innerHTML = '';\n",
              "        dataTable['output_type'] = 'display_data';\n",
              "        await google.colab.output.renderOutput(dataTable, element);\n",
              "        const docLink = document.createElement('div');\n",
              "        docLink.innerHTML = docLinkHtml;\n",
              "        element.appendChild(docLink);\n",
              "      }\n",
              "    </script>\n",
              "  </div>\n",
              "\n",
              "\n",
              "<div id=\"df-30911c12-61d1-466c-80fe-1c66909b83f4\">\n",
              "  <button class=\"colab-df-quickchart\" onclick=\"quickchart('df-30911c12-61d1-466c-80fe-1c66909b83f4')\"\n",
              "            title=\"Suggest charts\"\n",
              "            style=\"display:none;\">\n",
              "\n",
              "<svg xmlns=\"http://www.w3.org/2000/svg\" height=\"24px\"viewBox=\"0 0 24 24\"\n",
              "     width=\"24px\">\n",
              "    <g>\n",
              "        <path d=\"M19 3H5c-1.1 0-2 .9-2 2v14c0 1.1.9 2 2 2h14c1.1 0 2-.9 2-2V5c0-1.1-.9-2-2-2zM9 17H7v-7h2v7zm4 0h-2V7h2v10zm4 0h-2v-4h2v4z\"/>\n",
              "    </g>\n",
              "</svg>\n",
              "  </button>\n",
              "\n",
              "<style>\n",
              "  .colab-df-quickchart {\n",
              "      --bg-color: #E8F0FE;\n",
              "      --fill-color: #1967D2;\n",
              "      --hover-bg-color: #E2EBFA;\n",
              "      --hover-fill-color: #174EA6;\n",
              "      --disabled-fill-color: #AAA;\n",
              "      --disabled-bg-color: #DDD;\n",
              "  }\n",
              "\n",
              "  [theme=dark] .colab-df-quickchart {\n",
              "      --bg-color: #3B4455;\n",
              "      --fill-color: #D2E3FC;\n",
              "      --hover-bg-color: #434B5C;\n",
              "      --hover-fill-color: #FFFFFF;\n",
              "      --disabled-bg-color: #3B4455;\n",
              "      --disabled-fill-color: #666;\n",
              "  }\n",
              "\n",
              "  .colab-df-quickchart {\n",
              "    background-color: var(--bg-color);\n",
              "    border: none;\n",
              "    border-radius: 50%;\n",
              "    cursor: pointer;\n",
              "    display: none;\n",
              "    fill: var(--fill-color);\n",
              "    height: 32px;\n",
              "    padding: 0;\n",
              "    width: 32px;\n",
              "  }\n",
              "\n",
              "  .colab-df-quickchart:hover {\n",
              "    background-color: var(--hover-bg-color);\n",
              "    box-shadow: 0 1px 2px rgba(60, 64, 67, 0.3), 0 1px 3px 1px rgba(60, 64, 67, 0.15);\n",
              "    fill: var(--button-hover-fill-color);\n",
              "  }\n",
              "\n",
              "  .colab-df-quickchart-complete:disabled,\n",
              "  .colab-df-quickchart-complete:disabled:hover {\n",
              "    background-color: var(--disabled-bg-color);\n",
              "    fill: var(--disabled-fill-color);\n",
              "    box-shadow: none;\n",
              "  }\n",
              "\n",
              "  .colab-df-spinner {\n",
              "    border: 2px solid var(--fill-color);\n",
              "    border-color: transparent;\n",
              "    border-bottom-color: var(--fill-color);\n",
              "    animation:\n",
              "      spin 1s steps(1) infinite;\n",
              "  }\n",
              "\n",
              "  @keyframes spin {\n",
              "    0% {\n",
              "      border-color: transparent;\n",
              "      border-bottom-color: var(--fill-color);\n",
              "      border-left-color: var(--fill-color);\n",
              "    }\n",
              "    20% {\n",
              "      border-color: transparent;\n",
              "      border-left-color: var(--fill-color);\n",
              "      border-top-color: var(--fill-color);\n",
              "    }\n",
              "    30% {\n",
              "      border-color: transparent;\n",
              "      border-left-color: var(--fill-color);\n",
              "      border-top-color: var(--fill-color);\n",
              "      border-right-color: var(--fill-color);\n",
              "    }\n",
              "    40% {\n",
              "      border-color: transparent;\n",
              "      border-right-color: var(--fill-color);\n",
              "      border-top-color: var(--fill-color);\n",
              "    }\n",
              "    60% {\n",
              "      border-color: transparent;\n",
              "      border-right-color: var(--fill-color);\n",
              "    }\n",
              "    80% {\n",
              "      border-color: transparent;\n",
              "      border-right-color: var(--fill-color);\n",
              "      border-bottom-color: var(--fill-color);\n",
              "    }\n",
              "    90% {\n",
              "      border-color: transparent;\n",
              "      border-bottom-color: var(--fill-color);\n",
              "    }\n",
              "  }\n",
              "</style>\n",
              "\n",
              "  <script>\n",
              "    async function quickchart(key) {\n",
              "      const quickchartButtonEl =\n",
              "        document.querySelector('#' + key + ' button');\n",
              "      quickchartButtonEl.disabled = true;  // To prevent multiple clicks.\n",
              "      quickchartButtonEl.classList.add('colab-df-spinner');\n",
              "      try {\n",
              "        const charts = await google.colab.kernel.invokeFunction(\n",
              "            'suggestCharts', [key], {});\n",
              "      } catch (error) {\n",
              "        console.error('Error during call to suggestCharts:', error);\n",
              "      }\n",
              "      quickchartButtonEl.classList.remove('colab-df-spinner');\n",
              "      quickchartButtonEl.classList.add('colab-df-quickchart-complete');\n",
              "    }\n",
              "    (() => {\n",
              "      let quickchartButtonEl =\n",
              "        document.querySelector('#df-30911c12-61d1-466c-80fe-1c66909b83f4 button');\n",
              "      quickchartButtonEl.style.display =\n",
              "        google.colab.kernel.accessAllowed ? 'block' : 'none';\n",
              "    })();\n",
              "  </script>\n",
              "</div>\n",
              "\n",
              "    </div>\n",
              "  </div>\n"
            ],
            "application/vnd.google.colaboratory.intrinsic+json": {
              "type": "dataframe",
              "variable_name": "df"
            }
          },
          "metadata": {},
          "execution_count": 4
        }
      ]
    },
    {
      "cell_type": "code",
      "source": [
        "print(df.columns)"
      ],
      "metadata": {
        "colab": {
          "base_uri": "https://localhost:8080/"
        },
        "id": "bEDdjqZ6AZbx",
        "outputId": "f2d2c496-051a-4937-f5b4-d8f795dcc64d"
      },
      "execution_count": null,
      "outputs": [
        {
          "output_type": "stream",
          "name": "stdout",
          "text": [
            "Index(['Time', 'Day_of_week', 'Age_band_of_driver', 'Sex_of_driver',\n",
            "       'Educational_level', 'Vehicle_driver_relation', 'Driving_experience',\n",
            "       'Type_of_vehicle', 'Owner_of_vehicle', 'Service_year_of_vehicle',\n",
            "       'Defect_of_vehicle', 'Area_accident_occured', 'Lanes_or_Medians',\n",
            "       'Road_allignment', 'Types_of_Junction', 'Road_surface_type',\n",
            "       'Road_surface_conditions', 'Light_conditions', 'Weather_conditions',\n",
            "       'Type_of_collision', 'Number_of_vehicles_involved',\n",
            "       'Number_of_casualties', 'Vehicle_movement', 'Casualty_class',\n",
            "       'Sex_of_casualty', 'Age_band_of_casualty', 'Casualty_severity',\n",
            "       'Work_of_casuality', 'Fitness_of_casuality', 'Pedestrian_movement',\n",
            "       'Cause_of_accident', 'Accident_severity'],\n",
            "      dtype='object')\n"
          ]
        }
      ]
    },
    {
      "cell_type": "code",
      "source": [
        "# Prepare data for Random Forest\n",
        "X = df.drop(columns=[\"Accident_severity\"])  # Features\n",
        "y = df[\"Accident_severity\"]  # Target variable\n",
        "\n",
        "X['Time'] = pd.to_datetime(X['Time']).dt.hour  # Extract hour as a numerical feature\n",
        "\n",
        "for col in X.select_dtypes(include=['object']).columns:\n",
        "    le = LabelEncoder()\n",
        "    X[col] = le.fit_transform(X[col])\n",
        "\n",
        "X_train, X_test, y_train, y_test = train_test_split(X, y, test_size=0.2, random_state=42)\n",
        "\n",
        "rf_model = RandomForestClassifier(n_estimators=100, random_state=42)\n",
        "rf_model.fit(X_train, y_train)\n",
        "\n",
        "feature_importances = pd.Series(rf_model.feature_importances_, index=X.columns).sort_values(ascending=False)\n",
        "\n",
        "feature_importances[[\"Number_of_casualties\", \"Casualty_class\", \"Sex_of_casualty\",\n",
        "                     \"Age_band_of_casualty\", \"Casualty_severity\", \"Work_of_casuality\",\n",
        "                     \"Fitness_of_casuality\"]]"
      ],
      "metadata": {
        "colab": {
          "base_uri": "https://localhost:8080/",
          "height": 359
        },
        "id": "GFWJwD0sVdNY",
        "outputId": "85a31364-1a1d-4399-aa42-9ea76c0392ff"
      },
      "execution_count": null,
      "outputs": [
        {
          "output_type": "stream",
          "name": "stderr",
          "text": [
            "<ipython-input-6-c19c1ae4d84d>:7: UserWarning: Could not infer format, so each element will be parsed individually, falling back to `dateutil`. To ensure parsing is consistent and as-expected, please specify a format.\n",
            "  X['Time'] = pd.to_datetime(X['Time']).dt.hour  # Extract hour as a numerical feature\n"
          ]
        },
        {
          "output_type": "execute_result",
          "data": {
            "text/plain": [
              "Number_of_casualties    0.032627\n",
              "Casualty_class          0.022301\n",
              "Sex_of_casualty         0.019087\n",
              "Age_band_of_casualty    0.030239\n",
              "Casualty_severity       0.014659\n",
              "Work_of_casuality       0.032462\n",
              "Fitness_of_casuality    0.013913\n",
              "dtype: float64"
            ],
            "text/html": [
              "<div>\n",
              "<style scoped>\n",
              "    .dataframe tbody tr th:only-of-type {\n",
              "        vertical-align: middle;\n",
              "    }\n",
              "\n",
              "    .dataframe tbody tr th {\n",
              "        vertical-align: top;\n",
              "    }\n",
              "\n",
              "    .dataframe thead th {\n",
              "        text-align: right;\n",
              "    }\n",
              "</style>\n",
              "<table border=\"1\" class=\"dataframe\">\n",
              "  <thead>\n",
              "    <tr style=\"text-align: right;\">\n",
              "      <th></th>\n",
              "      <th>0</th>\n",
              "    </tr>\n",
              "  </thead>\n",
              "  <tbody>\n",
              "    <tr>\n",
              "      <th>Number_of_casualties</th>\n",
              "      <td>0.032627</td>\n",
              "    </tr>\n",
              "    <tr>\n",
              "      <th>Casualty_class</th>\n",
              "      <td>0.022301</td>\n",
              "    </tr>\n",
              "    <tr>\n",
              "      <th>Sex_of_casualty</th>\n",
              "      <td>0.019087</td>\n",
              "    </tr>\n",
              "    <tr>\n",
              "      <th>Age_band_of_casualty</th>\n",
              "      <td>0.030239</td>\n",
              "    </tr>\n",
              "    <tr>\n",
              "      <th>Casualty_severity</th>\n",
              "      <td>0.014659</td>\n",
              "    </tr>\n",
              "    <tr>\n",
              "      <th>Work_of_casuality</th>\n",
              "      <td>0.032462</td>\n",
              "    </tr>\n",
              "    <tr>\n",
              "      <th>Fitness_of_casuality</th>\n",
              "      <td>0.013913</td>\n",
              "    </tr>\n",
              "  </tbody>\n",
              "</table>\n",
              "</div><br><label><b>dtype:</b> float64</label>"
            ]
          },
          "metadata": {},
          "execution_count": 6
        }
      ]
    },
    {
      "cell_type": "code",
      "source": [
        "df = df.drop(columns=['Number_of_casualties', 'Casualty_class',\n",
        "       'Sex_of_casualty', 'Age_band_of_casualty', 'Casualty_severity',\n",
        "       'Work_of_casuality', 'Fitness_of_casuality'])"
      ],
      "metadata": {
        "id": "2tR8ypY4AaZQ"
      },
      "execution_count": null,
      "outputs": []
    },
    {
      "cell_type": "code",
      "source": [
        "df.columns"
      ],
      "metadata": {
        "colab": {
          "base_uri": "https://localhost:8080/"
        },
        "id": "EISc_lqtAcWH",
        "outputId": "80899353-ed1d-4a54-9f8d-27dbd1391704"
      },
      "execution_count": null,
      "outputs": [
        {
          "output_type": "execute_result",
          "data": {
            "text/plain": [
              "Index(['Time', 'Day_of_week', 'Age_band_of_driver', 'Sex_of_driver',\n",
              "       'Educational_level', 'Vehicle_driver_relation', 'Driving_experience',\n",
              "       'Type_of_vehicle', 'Owner_of_vehicle', 'Service_year_of_vehicle',\n",
              "       'Defect_of_vehicle', 'Area_accident_occured', 'Lanes_or_Medians',\n",
              "       'Road_allignment', 'Types_of_Junction', 'Road_surface_type',\n",
              "       'Road_surface_conditions', 'Light_conditions', 'Weather_conditions',\n",
              "       'Type_of_collision', 'Number_of_vehicles_involved', 'Vehicle_movement',\n",
              "       'Pedestrian_movement', 'Cause_of_accident', 'Accident_severity'],\n",
              "      dtype='object')"
            ]
          },
          "metadata": {},
          "execution_count": 8
        }
      ]
    },
    {
      "cell_type": "code",
      "source": [
        "unique_counts = df.nunique()\n",
        "print(unique_counts)"
      ],
      "metadata": {
        "colab": {
          "base_uri": "https://localhost:8080/"
        },
        "id": "BE_1Qs1gAfGK",
        "outputId": "bdaab5d4-3229-47a5-a733-e7e7d63c37db"
      },
      "execution_count": null,
      "outputs": [
        {
          "output_type": "stream",
          "name": "stdout",
          "text": [
            "Time                           1074\n",
            "Day_of_week                       7\n",
            "Age_band_of_driver                5\n",
            "Sex_of_driver                     3\n",
            "Educational_level                 7\n",
            "Vehicle_driver_relation           4\n",
            "Driving_experience                7\n",
            "Type_of_vehicle                  17\n",
            "Owner_of_vehicle                  4\n",
            "Service_year_of_vehicle           6\n",
            "Defect_of_vehicle                 3\n",
            "Area_accident_occured            14\n",
            "Lanes_or_Medians                  7\n",
            "Road_allignment                   9\n",
            "Types_of_Junction                 8\n",
            "Road_surface_type                 5\n",
            "Road_surface_conditions           4\n",
            "Light_conditions                  4\n",
            "Weather_conditions                9\n",
            "Type_of_collision                10\n",
            "Number_of_vehicles_involved       6\n",
            "Vehicle_movement                 13\n",
            "Pedestrian_movement               9\n",
            "Cause_of_accident                20\n",
            "Accident_severity                 3\n",
            "dtype: int64\n"
          ]
        }
      ]
    },
    {
      "cell_type": "code",
      "source": [
        "categorical_columns = df.select_dtypes(include=['object', 'category']).columns.tolist()\n",
        "print(\"Categorical Columns:\", categorical_columns)"
      ],
      "metadata": {
        "colab": {
          "base_uri": "https://localhost:8080/"
        },
        "id": "DJ70T5JyAhJf",
        "outputId": "5836b1e6-dcc7-4a20-f2f1-b0f8ce5b170d"
      },
      "execution_count": null,
      "outputs": [
        {
          "output_type": "stream",
          "name": "stdout",
          "text": [
            "Categorical Columns: ['Time', 'Day_of_week', 'Age_band_of_driver', 'Sex_of_driver', 'Educational_level', 'Vehicle_driver_relation', 'Driving_experience', 'Type_of_vehicle', 'Owner_of_vehicle', 'Service_year_of_vehicle', 'Defect_of_vehicle', 'Area_accident_occured', 'Lanes_or_Medians', 'Road_allignment', 'Types_of_Junction', 'Road_surface_type', 'Road_surface_conditions', 'Light_conditions', 'Weather_conditions', 'Type_of_collision', 'Vehicle_movement', 'Pedestrian_movement', 'Cause_of_accident', 'Accident_severity']\n"
          ]
        }
      ]
    },
    {
      "cell_type": "code",
      "source": [
        "print(df.isnull().sum())"
      ],
      "metadata": {
        "colab": {
          "base_uri": "https://localhost:8080/"
        },
        "id": "fR7Zew-lAjZK",
        "outputId": "c5fb2ca3-37f4-450c-9fe6-8eb5a6828425"
      },
      "execution_count": null,
      "outputs": [
        {
          "output_type": "stream",
          "name": "stdout",
          "text": [
            "Time                              0\n",
            "Day_of_week                       0\n",
            "Age_band_of_driver                0\n",
            "Sex_of_driver                     0\n",
            "Educational_level               741\n",
            "Vehicle_driver_relation         579\n",
            "Driving_experience              829\n",
            "Type_of_vehicle                 950\n",
            "Owner_of_vehicle                482\n",
            "Service_year_of_vehicle        3928\n",
            "Defect_of_vehicle              4427\n",
            "Area_accident_occured           239\n",
            "Lanes_or_Medians                385\n",
            "Road_allignment                 142\n",
            "Types_of_Junction               887\n",
            "Road_surface_type               172\n",
            "Road_surface_conditions           0\n",
            "Light_conditions                  0\n",
            "Weather_conditions                0\n",
            "Type_of_collision               155\n",
            "Number_of_vehicles_involved       0\n",
            "Vehicle_movement                308\n",
            "Pedestrian_movement               0\n",
            "Cause_of_accident                 0\n",
            "Accident_severity                 0\n",
            "dtype: int64\n"
          ]
        }
      ]
    },
    {
      "cell_type": "code",
      "source": [
        "def predictive_imputation(df):\n",
        "    df_imputed = df.copy()\n",
        "\n",
        "    cols_with_nan = df_imputed.columns[df_imputed.isnull().any()]\n",
        "\n",
        "    for target in cols_with_nan:\n",
        "        print(f\"Imputing column: {target}\")\n",
        "\n",
        "        train_data = df_imputed[df_imputed[target].notnull()].copy()\n",
        "        test_data  = df_imputed[df_imputed[target].isnull()].copy()\n",
        "\n",
        "        if train_data.empty or test_data.empty:\n",
        "            continue\n",
        "\n",
        "        predictors = [col for col in df_imputed.columns if col != target]\n",
        "\n",
        "\n",
        "        for col in predictors:\n",
        "            if train_data[col].isnull().any():\n",
        "                if train_data[col].dtype == 'object' or train_data[col].dtype.name == 'category':\n",
        "                    imp = SimpleImputer(strategy='most_frequent')\n",
        "                else:\n",
        "                    imp = SimpleImputer(strategy='median')\n",
        "                train_data[col] = imp.fit_transform(train_data[[col]]).ravel() # ravel to flatten array\n",
        "                test_data[col] = imp.transform(test_data[[col]]).ravel() # ravel to flatten array\n",
        "\n",
        "\n",
        "        is_categorical = (train_data[target].dtype == 'object' or\n",
        "                          train_data[target].dtype.name == 'category')\n",
        "\n",
        "\n",
        "        X_train = train_data[predictors].copy()\n",
        "        X_test  = test_data[predictors].copy()\n",
        "        for col in X_train.columns:\n",
        "            if X_train[col].dtype == 'object' or X_train[col].dtype.name == 'category':\n",
        "              if col == 'Time':\n",
        "                X_train[col] = pd.to_datetime(X_train[col]).dt.hour\n",
        "                X_test[col] = pd.to_datetime(X_test[col]).dt.hour\n",
        "              else:\n",
        "\n",
        "                le = LabelEncoder()\n",
        "                # Fit on training data and transform both training and test sets\n",
        "                X_train[col] = le.fit_transform(X_train[col].astype(str))\n",
        "                try:\n",
        "                  X_test[col] = le.transform(X_test[col].astype(str))\n",
        "                except ValueError as e:\n",
        "                  unseen_labels = set(X_test[col].astype(str)) - set(le.classes_)\n",
        "                  for label in unseen_labels:\n",
        "                    le.classes_ = np.append(le.classes_, label)\n",
        "                  X_test[col] = le.transform(X_test[col].astype(str))\n",
        "\n",
        "\n",
        "\n",
        "\n",
        "        # Predict missing values using a suitable model:\n",
        "        if is_categorical:\n",
        "            # Encode the target column\n",
        "            le_target = LabelEncoder()\n",
        "            y_train = le_target.fit_transform(train_data[target].astype(str))\n",
        "            model = RandomForestClassifier(n_estimators=100, random_state=42)\n",
        "            model.fit(X_train, y_train)\n",
        "            y_pred = model.predict(X_test)\n",
        "            # Reverse the label encoding for predictions\n",
        "            predicted = le_target.inverse_transform(y_pred)\n",
        "        else:\n",
        "            y_train = train_data[target]\n",
        "            model = RandomForestRegressor(n_estimators=100, random_state=42)\n",
        "            model.fit(X_train, y_train)\n",
        "            predicted = model.predict(X_test)\n",
        "\n",
        "        # Fill the missing values in the original DataFrame\n",
        "        df_imputed.loc[df_imputed[target].isnull(), target] = predicted\n",
        "\n",
        "    return df_imputed\n",
        "\n",
        "df_imputed = predictive_imputation(df)\n",
        "print(df_imputed.isnull().sum())\n"
      ],
      "metadata": {
        "colab": {
          "base_uri": "https://localhost:8080/"
        },
        "id": "p4aFpJLCBdD0",
        "outputId": "d3823255-dabc-4e72-ec04-63533b392f74",
        "collapsed": true
      },
      "execution_count": null,
      "outputs": [
        {
          "output_type": "stream",
          "name": "stdout",
          "text": [
            "Imputing column: Educational_level\n"
          ]
        },
        {
          "output_type": "stream",
          "name": "stderr",
          "text": [
            "<ipython-input-12-c8aa574b9bb1>:45: UserWarning: Could not infer format, so each element will be parsed individually, falling back to `dateutil`. To ensure parsing is consistent and as-expected, please specify a format.\n",
            "  X_train[col] = pd.to_datetime(X_train[col]).dt.hour\n",
            "<ipython-input-12-c8aa574b9bb1>:46: UserWarning: Could not infer format, so each element will be parsed individually, falling back to `dateutil`. To ensure parsing is consistent and as-expected, please specify a format.\n",
            "  X_test[col] = pd.to_datetime(X_test[col]).dt.hour\n"
          ]
        },
        {
          "output_type": "stream",
          "name": "stdout",
          "text": [
            "Imputing column: Vehicle_driver_relation\n"
          ]
        },
        {
          "output_type": "stream",
          "name": "stderr",
          "text": [
            "<ipython-input-12-c8aa574b9bb1>:45: UserWarning: Could not infer format, so each element will be parsed individually, falling back to `dateutil`. To ensure parsing is consistent and as-expected, please specify a format.\n",
            "  X_train[col] = pd.to_datetime(X_train[col]).dt.hour\n",
            "<ipython-input-12-c8aa574b9bb1>:46: UserWarning: Could not infer format, so each element will be parsed individually, falling back to `dateutil`. To ensure parsing is consistent and as-expected, please specify a format.\n",
            "  X_test[col] = pd.to_datetime(X_test[col]).dt.hour\n"
          ]
        },
        {
          "output_type": "stream",
          "name": "stdout",
          "text": [
            "Imputing column: Driving_experience\n"
          ]
        },
        {
          "output_type": "stream",
          "name": "stderr",
          "text": [
            "<ipython-input-12-c8aa574b9bb1>:45: UserWarning: Could not infer format, so each element will be parsed individually, falling back to `dateutil`. To ensure parsing is consistent and as-expected, please specify a format.\n",
            "  X_train[col] = pd.to_datetime(X_train[col]).dt.hour\n",
            "<ipython-input-12-c8aa574b9bb1>:46: UserWarning: Could not infer format, so each element will be parsed individually, falling back to `dateutil`. To ensure parsing is consistent and as-expected, please specify a format.\n",
            "  X_test[col] = pd.to_datetime(X_test[col]).dt.hour\n"
          ]
        },
        {
          "output_type": "stream",
          "name": "stdout",
          "text": [
            "Imputing column: Type_of_vehicle\n"
          ]
        },
        {
          "output_type": "stream",
          "name": "stderr",
          "text": [
            "<ipython-input-12-c8aa574b9bb1>:45: UserWarning: Could not infer format, so each element will be parsed individually, falling back to `dateutil`. To ensure parsing is consistent and as-expected, please specify a format.\n",
            "  X_train[col] = pd.to_datetime(X_train[col]).dt.hour\n",
            "<ipython-input-12-c8aa574b9bb1>:46: UserWarning: Could not infer format, so each element will be parsed individually, falling back to `dateutil`. To ensure parsing is consistent and as-expected, please specify a format.\n",
            "  X_test[col] = pd.to_datetime(X_test[col]).dt.hour\n"
          ]
        },
        {
          "output_type": "stream",
          "name": "stdout",
          "text": [
            "Imputing column: Owner_of_vehicle\n"
          ]
        },
        {
          "output_type": "stream",
          "name": "stderr",
          "text": [
            "<ipython-input-12-c8aa574b9bb1>:45: UserWarning: Could not infer format, so each element will be parsed individually, falling back to `dateutil`. To ensure parsing is consistent and as-expected, please specify a format.\n",
            "  X_train[col] = pd.to_datetime(X_train[col]).dt.hour\n",
            "<ipython-input-12-c8aa574b9bb1>:46: UserWarning: Could not infer format, so each element will be parsed individually, falling back to `dateutil`. To ensure parsing is consistent and as-expected, please specify a format.\n",
            "  X_test[col] = pd.to_datetime(X_test[col]).dt.hour\n"
          ]
        },
        {
          "output_type": "stream",
          "name": "stdout",
          "text": [
            "Imputing column: Service_year_of_vehicle\n"
          ]
        },
        {
          "output_type": "stream",
          "name": "stderr",
          "text": [
            "<ipython-input-12-c8aa574b9bb1>:45: UserWarning: Could not infer format, so each element will be parsed individually, falling back to `dateutil`. To ensure parsing is consistent and as-expected, please specify a format.\n",
            "  X_train[col] = pd.to_datetime(X_train[col]).dt.hour\n",
            "<ipython-input-12-c8aa574b9bb1>:46: UserWarning: Could not infer format, so each element will be parsed individually, falling back to `dateutil`. To ensure parsing is consistent and as-expected, please specify a format.\n",
            "  X_test[col] = pd.to_datetime(X_test[col]).dt.hour\n"
          ]
        },
        {
          "output_type": "stream",
          "name": "stdout",
          "text": [
            "Imputing column: Defect_of_vehicle\n"
          ]
        },
        {
          "output_type": "stream",
          "name": "stderr",
          "text": [
            "<ipython-input-12-c8aa574b9bb1>:45: UserWarning: Could not infer format, so each element will be parsed individually, falling back to `dateutil`. To ensure parsing is consistent and as-expected, please specify a format.\n",
            "  X_train[col] = pd.to_datetime(X_train[col]).dt.hour\n",
            "<ipython-input-12-c8aa574b9bb1>:46: UserWarning: Could not infer format, so each element will be parsed individually, falling back to `dateutil`. To ensure parsing is consistent and as-expected, please specify a format.\n",
            "  X_test[col] = pd.to_datetime(X_test[col]).dt.hour\n"
          ]
        },
        {
          "output_type": "stream",
          "name": "stdout",
          "text": [
            "Imputing column: Area_accident_occured\n"
          ]
        },
        {
          "output_type": "stream",
          "name": "stderr",
          "text": [
            "<ipython-input-12-c8aa574b9bb1>:45: UserWarning: Could not infer format, so each element will be parsed individually, falling back to `dateutil`. To ensure parsing is consistent and as-expected, please specify a format.\n",
            "  X_train[col] = pd.to_datetime(X_train[col]).dt.hour\n",
            "<ipython-input-12-c8aa574b9bb1>:46: UserWarning: Could not infer format, so each element will be parsed individually, falling back to `dateutil`. To ensure parsing is consistent and as-expected, please specify a format.\n",
            "  X_test[col] = pd.to_datetime(X_test[col]).dt.hour\n"
          ]
        },
        {
          "output_type": "stream",
          "name": "stdout",
          "text": [
            "Imputing column: Lanes_or_Medians\n"
          ]
        },
        {
          "output_type": "stream",
          "name": "stderr",
          "text": [
            "<ipython-input-12-c8aa574b9bb1>:45: UserWarning: Could not infer format, so each element will be parsed individually, falling back to `dateutil`. To ensure parsing is consistent and as-expected, please specify a format.\n",
            "  X_train[col] = pd.to_datetime(X_train[col]).dt.hour\n",
            "<ipython-input-12-c8aa574b9bb1>:46: UserWarning: Could not infer format, so each element will be parsed individually, falling back to `dateutil`. To ensure parsing is consistent and as-expected, please specify a format.\n",
            "  X_test[col] = pd.to_datetime(X_test[col]).dt.hour\n"
          ]
        },
        {
          "output_type": "stream",
          "name": "stdout",
          "text": [
            "Imputing column: Road_allignment\n"
          ]
        },
        {
          "output_type": "stream",
          "name": "stderr",
          "text": [
            "<ipython-input-12-c8aa574b9bb1>:45: UserWarning: Could not infer format, so each element will be parsed individually, falling back to `dateutil`. To ensure parsing is consistent and as-expected, please specify a format.\n",
            "  X_train[col] = pd.to_datetime(X_train[col]).dt.hour\n",
            "<ipython-input-12-c8aa574b9bb1>:46: UserWarning: Could not infer format, so each element will be parsed individually, falling back to `dateutil`. To ensure parsing is consistent and as-expected, please specify a format.\n",
            "  X_test[col] = pd.to_datetime(X_test[col]).dt.hour\n"
          ]
        },
        {
          "output_type": "stream",
          "name": "stdout",
          "text": [
            "Imputing column: Types_of_Junction\n"
          ]
        },
        {
          "output_type": "stream",
          "name": "stderr",
          "text": [
            "<ipython-input-12-c8aa574b9bb1>:45: UserWarning: Could not infer format, so each element will be parsed individually, falling back to `dateutil`. To ensure parsing is consistent and as-expected, please specify a format.\n",
            "  X_train[col] = pd.to_datetime(X_train[col]).dt.hour\n",
            "<ipython-input-12-c8aa574b9bb1>:46: UserWarning: Could not infer format, so each element will be parsed individually, falling back to `dateutil`. To ensure parsing is consistent and as-expected, please specify a format.\n",
            "  X_test[col] = pd.to_datetime(X_test[col]).dt.hour\n"
          ]
        },
        {
          "output_type": "stream",
          "name": "stdout",
          "text": [
            "Imputing column: Road_surface_type\n"
          ]
        },
        {
          "output_type": "stream",
          "name": "stderr",
          "text": [
            "<ipython-input-12-c8aa574b9bb1>:45: UserWarning: Could not infer format, so each element will be parsed individually, falling back to `dateutil`. To ensure parsing is consistent and as-expected, please specify a format.\n",
            "  X_train[col] = pd.to_datetime(X_train[col]).dt.hour\n",
            "<ipython-input-12-c8aa574b9bb1>:46: UserWarning: Could not infer format, so each element will be parsed individually, falling back to `dateutil`. To ensure parsing is consistent and as-expected, please specify a format.\n",
            "  X_test[col] = pd.to_datetime(X_test[col]).dt.hour\n"
          ]
        },
        {
          "output_type": "stream",
          "name": "stdout",
          "text": [
            "Imputing column: Type_of_collision\n"
          ]
        },
        {
          "output_type": "stream",
          "name": "stderr",
          "text": [
            "<ipython-input-12-c8aa574b9bb1>:45: UserWarning: Could not infer format, so each element will be parsed individually, falling back to `dateutil`. To ensure parsing is consistent and as-expected, please specify a format.\n",
            "  X_train[col] = pd.to_datetime(X_train[col]).dt.hour\n",
            "<ipython-input-12-c8aa574b9bb1>:46: UserWarning: Could not infer format, so each element will be parsed individually, falling back to `dateutil`. To ensure parsing is consistent and as-expected, please specify a format.\n",
            "  X_test[col] = pd.to_datetime(X_test[col]).dt.hour\n"
          ]
        },
        {
          "output_type": "stream",
          "name": "stdout",
          "text": [
            "Imputing column: Vehicle_movement\n"
          ]
        },
        {
          "output_type": "stream",
          "name": "stderr",
          "text": [
            "<ipython-input-12-c8aa574b9bb1>:45: UserWarning: Could not infer format, so each element will be parsed individually, falling back to `dateutil`. To ensure parsing is consistent and as-expected, please specify a format.\n",
            "  X_train[col] = pd.to_datetime(X_train[col]).dt.hour\n",
            "<ipython-input-12-c8aa574b9bb1>:46: UserWarning: Could not infer format, so each element will be parsed individually, falling back to `dateutil`. To ensure parsing is consistent and as-expected, please specify a format.\n",
            "  X_test[col] = pd.to_datetime(X_test[col]).dt.hour\n"
          ]
        },
        {
          "output_type": "stream",
          "name": "stdout",
          "text": [
            "Time                           0\n",
            "Day_of_week                    0\n",
            "Age_band_of_driver             0\n",
            "Sex_of_driver                  0\n",
            "Educational_level              0\n",
            "Vehicle_driver_relation        0\n",
            "Driving_experience             0\n",
            "Type_of_vehicle                0\n",
            "Owner_of_vehicle               0\n",
            "Service_year_of_vehicle        0\n",
            "Defect_of_vehicle              0\n",
            "Area_accident_occured          0\n",
            "Lanes_or_Medians               0\n",
            "Road_allignment                0\n",
            "Types_of_Junction              0\n",
            "Road_surface_type              0\n",
            "Road_surface_conditions        0\n",
            "Light_conditions               0\n",
            "Weather_conditions             0\n",
            "Type_of_collision              0\n",
            "Number_of_vehicles_involved    0\n",
            "Vehicle_movement               0\n",
            "Pedestrian_movement            0\n",
            "Cause_of_accident              0\n",
            "Accident_severity              0\n",
            "dtype: int64\n"
          ]
        }
      ]
    },
    {
      "cell_type": "code",
      "source": [
        "df_imputed.to_csv('/content/drive/MyDrive/Pattern Assignment/RTA Dataset_Cleaned.csv',index = False)"
      ],
      "metadata": {
        "id": "wK0IFWw9ECka"
      },
      "execution_count": null,
      "outputs": []
    },
    {
      "cell_type": "code",
      "source": [
        "device = torch.device(\"cuda:0\" if torch.cuda.is_available() else \"cpu\")"
      ],
      "metadata": {
        "id": "f2YcsVB6VD5-"
      },
      "execution_count": null,
      "outputs": []
    },
    {
      "cell_type": "code",
      "source": [
        "path2 = '/content/drive/MyDrive/Pattern Assignment/RTA Dataset_Cleaned.csv'\n",
        "df2 = pd.read_csv(path2)\n",
        "print(df2.isnull().sum())"
      ],
      "metadata": {
        "colab": {
          "base_uri": "https://localhost:8080/"
        },
        "id": "cBG9gDRAEp47",
        "outputId": "f535ba93-d16f-47bb-d28f-ecdadd678a8e"
      },
      "execution_count": null,
      "outputs": [
        {
          "output_type": "stream",
          "name": "stdout",
          "text": [
            "Time                           0\n",
            "Day_of_week                    0\n",
            "Age_band_of_driver             0\n",
            "Sex_of_driver                  0\n",
            "Educational_level              0\n",
            "Vehicle_driver_relation        0\n",
            "Driving_experience             0\n",
            "Type_of_vehicle                0\n",
            "Owner_of_vehicle               0\n",
            "Service_year_of_vehicle        0\n",
            "Defect_of_vehicle              0\n",
            "Area_accident_occured          0\n",
            "Lanes_or_Medians               0\n",
            "Road_allignment                0\n",
            "Types_of_Junction              0\n",
            "Road_surface_type              0\n",
            "Road_surface_conditions        0\n",
            "Light_conditions               0\n",
            "Weather_conditions             0\n",
            "Type_of_collision              0\n",
            "Number_of_vehicles_involved    0\n",
            "Vehicle_movement               0\n",
            "Pedestrian_movement            0\n",
            "Cause_of_accident              0\n",
            "Accident_severity              0\n",
            "dtype: int64\n"
          ]
        }
      ]
    },
    {
      "cell_type": "code",
      "source": [
        "df2.info()"
      ],
      "metadata": {
        "colab": {
          "base_uri": "https://localhost:8080/"
        },
        "id": "BeZk7SinQDFD",
        "outputId": "f3abefb0-0e4a-4b01-8e3f-38957e6b2831"
      },
      "execution_count": null,
      "outputs": [
        {
          "output_type": "stream",
          "name": "stdout",
          "text": [
            "<class 'pandas.core.frame.DataFrame'>\n",
            "RangeIndex: 12316 entries, 0 to 12315\n",
            "Data columns (total 25 columns):\n",
            " #   Column                       Non-Null Count  Dtype \n",
            "---  ------                       --------------  ----- \n",
            " 0   Time                         12316 non-null  object\n",
            " 1   Day_of_week                  12316 non-null  object\n",
            " 2   Age_band_of_driver           12316 non-null  object\n",
            " 3   Sex_of_driver                12316 non-null  object\n",
            " 4   Educational_level            12316 non-null  object\n",
            " 5   Vehicle_driver_relation      12316 non-null  object\n",
            " 6   Driving_experience           12316 non-null  object\n",
            " 7   Type_of_vehicle              12316 non-null  object\n",
            " 8   Owner_of_vehicle             12316 non-null  object\n",
            " 9   Service_year_of_vehicle      12316 non-null  object\n",
            " 10  Defect_of_vehicle            12316 non-null  object\n",
            " 11  Area_accident_occured        12316 non-null  object\n",
            " 12  Lanes_or_Medians             12316 non-null  object\n",
            " 13  Road_allignment              12316 non-null  object\n",
            " 14  Types_of_Junction            12316 non-null  object\n",
            " 15  Road_surface_type            12316 non-null  object\n",
            " 16  Road_surface_conditions      12316 non-null  object\n",
            " 17  Light_conditions             12316 non-null  object\n",
            " 18  Weather_conditions           12316 non-null  object\n",
            " 19  Type_of_collision            12316 non-null  object\n",
            " 20  Number_of_vehicles_involved  12316 non-null  int64 \n",
            " 21  Vehicle_movement             12316 non-null  object\n",
            " 22  Pedestrian_movement          12316 non-null  object\n",
            " 23  Cause_of_accident            12316 non-null  object\n",
            " 24  Accident_severity            12316 non-null  object\n",
            "dtypes: int64(1), object(24)\n",
            "memory usage: 2.3+ MB\n"
          ]
        }
      ]
    },
    {
      "cell_type": "code",
      "source": [
        "sns.countplot(x='Accident_severity', data=df2)\n",
        "plt.title('Target Variable Distribution')\n",
        "plt.show()"
      ],
      "metadata": {
        "id": "9kp7UwHubL3N",
        "colab": {
          "base_uri": "https://localhost:8080/",
          "height": 472
        },
        "outputId": "a962b15f-1a8e-461b-8d06-84bdc804dcdd"
      },
      "execution_count": null,
      "outputs": [
        {
          "output_type": "display_data",
          "data": {
            "text/plain": [
              "<Figure size 640x480 with 1 Axes>"
            ],
            "image/png": "[encoded data removed]"
          },
          "metadata": {}
        }
      ]
    },
    {
      "cell_type": "code",
      "source": [
        "df2['Time'] = pd.to_datetime(df2['Time'], format='%H:%M:%S')"
      ],
      "metadata": {
        "id": "y6FHoSG1Orsw"
      },
      "execution_count": null,
      "outputs": []
    },
    {
      "cell_type": "code",
      "source": [
        "df2['hour'] = df2['Time'].dt.hour\n",
        "df2['minute'] = df2['Time'].dt.minute\n",
        "df2['second'] = df2['Time'].dt.second"
      ],
      "metadata": {
        "id": "dI_XsFplO1Is"
      },
      "execution_count": null,
      "outputs": []
    },
    {
      "cell_type": "code",
      "source": [
        "df2 = df2.drop(columns=['Time'])"
      ],
      "metadata": {
        "id": "X0KBMv3eO3EP"
      },
      "execution_count": null,
      "outputs": []
    },
    {
      "cell_type": "code",
      "source": [
        "df2['total_seconds'] = df2['hour'] * 3600 + df2['minute'] * 60 + df2['second']"
      ],
      "metadata": {
        "id": "EZYag2fZO4-D"
      },
      "execution_count": null,
      "outputs": []
    },
    {
      "cell_type": "code",
      "source": [
        "# Apply LabelEncoder to each categorical column separately\n",
        "label_encoders = {}  # Dictionary to store encoders if needed for inverse transformation later\n",
        "\n",
        "categorical_cols = ['Day_of_week', 'Age_band_of_driver', 'Sex_of_driver', 'Educational_level', 'Vehicle_driver_relation',\n",
        "                    'Driving_experience', 'Type_of_vehicle', 'Owner_of_vehicle', 'Service_year_of_vehicle',\n",
        "                    'Defect_of_vehicle', 'Area_accident_occured', 'Lanes_or_Medians', 'Road_allignment',\n",
        "                    'Types_of_Junction', 'Road_surface_type', 'Road_surface_conditions', 'Light_conditions',\n",
        "                    'Weather_conditions', 'Type_of_collision', 'Vehicle_movement', 'Pedestrian_movement',\n",
        "                    'Cause_of_accident', 'Accident_severity']\n",
        "\n",
        "for col in categorical_cols:\n",
        "    le = LabelEncoder()\n",
        "    df2[col] = le.fit_transform(df[col])  # Encode the column\n",
        "    label_encoders[col] = le  # Store the encoder if needed for decoding later\n"
      ],
      "metadata": {
        "id": "ql_-YdiPO64K"
      },
      "execution_count": null,
      "outputs": []
    },
    {
      "cell_type": "code",
      "source": [
        "categorical_columns = df2.select_dtypes(include=['object', 'category']).columns.tolist()\n",
        "print(\"Categorical Columns:\", categorical_columns)"
      ],
      "metadata": {
        "colab": {
          "base_uri": "https://localhost:8080/"
        },
        "id": "WM-nAL9APEGu",
        "outputId": "c19d1ff8-5717-4ec9-c321-4a4635295dfa"
      },
      "execution_count": null,
      "outputs": [
        {
          "output_type": "stream",
          "name": "stdout",
          "text": [
            "Categorical Columns: []\n"
          ]
        }
      ]
    },
    {
      "cell_type": "code",
      "source": [
        "print(df2['Accident_severity'].value_counts())"
      ],
      "metadata": {
        "colab": {
          "base_uri": "https://localhost:8080/"
        },
        "id": "bN8BPdyIY3N9",
        "outputId": "9d3d8c5f-80df-4ca9-e8ac-71d19485949d"
      },
      "execution_count": null,
      "outputs": [
        {
          "output_type": "stream",
          "name": "stdout",
          "text": [
            "Accident_severity\n",
            "2    10415\n",
            "1     1743\n",
            "0      158\n",
            "Name: count, dtype: int64\n"
          ]
        }
      ]
    },
    {
      "cell_type": "code",
      "source": [
        "X = df2.drop(columns=['Accident_severity'])\n",
        "y = df2['Accident_severity']\n",
        "categorical_features = X.select_dtypes(include=[\"object\", \"category\"]).columns.tolist()"
      ],
      "metadata": {
        "id": "0FFNICTXV2RX"
      },
      "execution_count": null,
      "outputs": []
    },
    {
      "cell_type": "code",
      "source": [
        "X_train, X_test, y_train, y_test = train_test_split(X, y, test_size=0.2, random_state=42, stratify=y)\n",
        "\n",
        "adasyn = ADASYN(sampling_strategy='not majority', random_state=42)\n",
        "X_resampled, y_resampled = adasyn.fit_resample(X_train, y_train)\n",
        "print(pd.Series(y_resampled).value_counts())"
      ],
      "metadata": {
        "colab": {
          "base_uri": "https://localhost:8080/"
        },
        "id": "q2me49EZPDpu",
        "outputId": "cb460ee8-8be0-4af8-9b3d-0cc45644b7be"
      },
      "execution_count": null,
      "outputs": [
        {
          "output_type": "stream",
          "name": "stdout",
          "text": [
            "Accident_severity\n",
            "0    8353\n",
            "2    8331\n",
            "1    8324\n",
            "Name: count, dtype: int64\n"
          ]
        }
      ]
    },
    {
      "cell_type": "code",
      "source": [
        "fig, axes = plt.subplots(1, 2, figsize=(12, 5))\n",
        "y_train_counts = pd.Series(y_train).value_counts()\n",
        "y_resampled_counts = pd.Series(y_resampled).value_counts()\n",
        "# Before Oversampling\n",
        "sns.barplot(x=y_train_counts.index, y=y_train_counts.values, ax=axes[0], palette=\"coolwarm\")\n",
        "axes[0].set_title(\"Class Distribution Before Oversampling\")\n",
        "axes[0].set_xlabel(\"Classes\")\n",
        "axes[0].set_ylabel(\"Count\")\n",
        "\n",
        "# After Oversampling\n",
        "sns.barplot(x=y_resampled_counts.index, y=y_resampled_counts.values, ax=axes[1], palette=\"coolwarm\")\n",
        "axes[1].set_title(\"Class Distribution After ADASYN Oversampling\")\n",
        "axes[1].set_xlabel(\"Classes\")\n",
        "axes[1].set_ylabel(\"Count\")\n",
        "\n",
        "plt.tight_layout()\n",
        "plt.show()"
      ],
      "metadata": {
        "colab": {
          "base_uri": "https://localhost:8080/",
          "height": 708
        },
        "id": "FlLlWFxnIbVk",
        "outputId": "1a0d2507-19ca-4929-afed-69c2db6a5e87"
      },
      "execution_count": null,
      "outputs": [
        {
          "output_type": "stream",
          "name": "stderr",
          "text": [
            "<ipython-input-37-a1e617e40b1d>:5: FutureWarning: \n",
            "\n",
            "Passing `palette` without assigning `hue` is deprecated and will be removed in v0.14.0. Assign the `x` variable to `hue` and set `legend=False` for the same effect.\n",
            "\n",
            "  sns.barplot(x=y_train_counts.index, y=y_train_counts.values, ax=axes[0], palette=\"coolwarm\")\n",
            "<ipython-input-37-a1e617e40b1d>:11: FutureWarning: \n",
            "\n",
            "Passing `palette` without assigning `hue` is deprecated and will be removed in v0.14.0. Assign the `x` variable to `hue` and set `legend=False` for the same effect.\n",
            "\n",
            "  sns.barplot(x=y_resampled_counts.index, y=y_resampled_counts.values, ax=axes[1], palette=\"coolwarm\")\n"
          ]
        },
        {
          "output_type": "display_data",
          "data": {
            "text/plain": [
              "<Figure size 1200x500 with 2 Axes>"
            ],
            "image/png": "[encoded data removed]"
          },
          "metadata": {}
        }
      ]
    },
    {
      "cell_type": "markdown",
      "source": [
        "**Random Forest**"
      ],
      "metadata": {
        "id": "vLxD9jdWPRr2"
      }
    },
    {
      "cell_type": "code",
      "source": [
        "param_grid = {\n",
        "    'n_estimators': [100, 200, 300],  # Number of trees in the forest\n",
        "    'max_depth': [None, 5, 10, 20],  # Maximum depth of the tree\n",
        "    'min_samples_split': [2, 5, 10], # Minimum number of samples required to split an internal node\n",
        "    'min_samples_leaf': [1, 2, 4]   # Minimum number of samples required to be at a leaf node\n",
        "}\n",
        "grid_search = GridSearchCV(RandomForestClassifier(random_state=42), param_grid, cv=5)\n",
        "grid_search.fit(X_resampled, y_resampled)\n",
        "print(f\"Best Parameters: {grid_search.best_params_}\")\n",
        "\n",
        "# Step 5: Train the model with the best parameters\n",
        "best_rf = grid_search.best_estimator_\n",
        "best_rf.fit(X_resampled, y_resampled)\n",
        "\n",
        "# Step 6: Make predictions on the test set\n",
        "y_pred = best_rf.predict(X_test)\n",
        "\n",
        "# Step 7: Evaluate the model\n",
        "accuracy = accuracy_score(y_test, y_pred)\n",
        "print(f\"Accuracy: {accuracy * 100:.2f}%\")\n",
        "\n",
        "print(\"\\nPrecision:\")\n",
        "print(precision_score(y_test,y_pred,average='weighted'))\n",
        "print(\"\\nRecall:\")\n",
        "print(recall_score(y_test,y_pred,average='weighted'))\n",
        "print(\"\\nF1 Score:\")\n",
        "print(f1_score(y_test,y_pred,average='weighted'))\n",
        "print(classification_report(y_test, y_pred))\n",
        "print(\"\\nClassification Report:\")\n",
        "print(classification_report(y_test, y_pred))\n",
        "\n",
        "print(\"\\nConfusion Matrix:\")\n",
        "print(confusion_matrix(y_test, y_pred))\n"
      ],
      "metadata": {
        "colab": {
          "base_uri": "https://localhost:8080/"
        },
        "id": "vmTrvqvbaBH7",
        "outputId": "ae7f5729-4700-4af0-a80f-dc8b353741bb"
      },
      "execution_count": null,
      "outputs": [
        {
          "output_type": "stream",
          "name": "stdout",
          "text": [
            "Best Parameters: {'max_depth': None, 'min_samples_leaf': 1, 'min_samples_split': 2, 'n_estimators': 300}\n",
            "Accuracy: 82.59%\n",
            "\n",
            "Precision:\n",
            "0.7858285832573515\n",
            "\n",
            "Recall:\n",
            "0.8258928571428571\n",
            "\n",
            "F1 Score:\n",
            "0.7976577989970709\n",
            "              precision    recall  f1-score   support\n",
            "\n",
            "           0       0.50      0.03      0.06        31\n",
            "           1       0.35      0.18      0.24       349\n",
            "           2       0.86      0.95      0.90      2084\n",
            "\n",
            "    accuracy                           0.83      2464\n",
            "   macro avg       0.57      0.39      0.40      2464\n",
            "weighted avg       0.79      0.83      0.80      2464\n",
            "\n",
            "\n",
            "Classification Report:\n",
            "              precision    recall  f1-score   support\n",
            "\n",
            "           0       0.50      0.03      0.06        31\n",
            "           1       0.35      0.18      0.24       349\n",
            "           2       0.86      0.95      0.90      2084\n",
            "\n",
            "    accuracy                           0.83      2464\n",
            "   macro avg       0.57      0.39      0.40      2464\n",
            "weighted avg       0.79      0.83      0.80      2464\n",
            "\n",
            "\n",
            "Confusion Matrix:\n",
            "[[   1    4   26]\n",
            " [   0   62  287]\n",
            " [   1  111 1972]]\n"
          ]
        }
      ]
    },
    {
      "cell_type": "markdown",
      "source": [
        "**CatBoost**"
      ],
      "metadata": {
        "id": "FXcZ7y6isLY-"
      }
    },
    {
      "cell_type": "code",
      "source": [
        "X_train, X_test, y_train, y_test = train_test_split(\n",
        "    X, y, test_size=0.2, random_state=42, stratify=y\n",
        ")\n",
        "\n",
        "cat_feature_indices = []\n",
        "for col in categorical_features:\n",
        "    le = LabelEncoder()\n",
        "    X_train[col] = le.fit_transform(X_train[col])\n",
        "    X_test[col] = le.transform(X_test[col])\n",
        "    cat_feature_indices.append(X_train.columns.get_loc(col))\n",
        "\n",
        "# Apply ADASYN to the training set to handle severe class imbalance\n",
        "adasyn = ADASYN(sampling_strategy='minority', random_state=42)\n",
        "X_train_res, y_train_res = adasyn.fit_resample(X_train, y_train)\n",
        "\n",
        "# Define a hyperparameter grid for CatBoostClassifier\n",
        "param_grid = {\n",
        "    'iterations': [500, 1000],\n",
        "    'learning_rate': [0.01, 0.1],\n",
        "    'depth': [4, 6, 8],\n",
        "    'l2_leaf_reg': [1, 3, 5]\n",
        "}\n",
        "\n",
        "# Initialize CatBoostClassifier with the categorical feature indices.\n",
        "# verbose=0 is set to suppress the detailed training logs during grid search.\n",
        "catboost_model = CatBoostClassifier(\n",
        "    cat_features=cat_feature_indices,\n",
        "    random_seed=42,\n",
        "    verbose=0\n",
        ")\n",
        "\n",
        "# Set up GridSearchCV using 3-fold cross-validation\n",
        "grid_search = GridSearchCV(catboost_model, param_grid, cv=3, scoring='accuracy', n_jobs=-1)\n",
        "grid_search.fit(X_train_res, y_train_res)\n",
        "\n",
        "print(\"Best parameters found:\", grid_search.best_params_)\n",
        "print(\"Best cross-validation accuracy:\", grid_search.best_score_)\n",
        "\n",
        "# Use the best estimator from the grid search\n",
        "best_model = grid_search.best_estimator_\n",
        "\n",
        "# Evaluate the best model on the test set\n",
        "y_pred = best_model.predict(X_test)\n",
        "accuracy = accuracy_score(y_test, y_pred)\n",
        "print(f\"Test Set Accuracy: {accuracy * 100:.2f}%\\n\")\n",
        "\n",
        "print(\"Precision:\")\n",
        "print(precision_score(y_test, y_pred, average='weighted'))\n",
        "print(\"Recall:\")\n",
        "print(recall_score(y_test, y_pred, average='weighted'))\n",
        "print(\"F1 Score:\")\n",
        "print(f1_score(y_test, y_pred, average='weighted'))\n",
        "print(\"Classification Report:\")\n",
        "print(classification_report(y_test, y_pred))\n",
        "\n",
        "print(\"Confusion Matrix:\")\n",
        "print(confusion_matrix(y_test, y_pred))\n"
      ],
      "metadata": {
        "colab": {
          "base_uri": "https://localhost:8080/"
        },
        "id": "GV1KNpnRT9EU",
        "outputId": "d2517bcf-d328-4c52-8f3c-7eb762d84a46"
      },
      "execution_count": null,
      "outputs": [
        {
          "output_type": "stream",
          "name": "stdout",
          "text": [
            "Best parameters found: {'depth': 8, 'iterations': 1000, 'l2_leaf_reg': 1, 'learning_rate': 0.1}\n",
            "Best cross-validation accuracy: 0.9135413209425822\n",
            "Test Set Accuracy: 84.46%\n",
            "\n",
            "Precision:\n",
            "0.7981844147504342\n",
            "Recall:\n",
            "0.8445616883116883\n",
            "F1 Score:\n",
            "0.7913718343178028\n",
            "Classification Report:\n",
            "              precision    recall  f1-score   support\n",
            "\n",
            "           0       0.17      0.06      0.09        31\n",
            "           1       0.52      0.06      0.11       349\n",
            "           2       0.85      0.99      0.92      2084\n",
            "\n",
            "    accuracy                           0.84      2464\n",
            "   macro avg       0.51      0.37      0.37      2464\n",
            "weighted avg       0.80      0.84      0.79      2464\n",
            "\n",
            "Confusion Matrix:\n",
            "[[   2    1   28]\n",
            " [   2   22  325]\n",
            " [   8   19 2057]]\n"
          ]
        }
      ]
    },
    {
      "cell_type": "markdown",
      "source": [
        "**CNN_LSTM**"
      ],
      "metadata": {
        "id": "t6GtKR_mT8DQ"
      }
    },
    {
      "cell_type": "code",
      "source": [
        "X = df2.drop(columns=['Accident_severity'])\n",
        "y = df2['Accident_severity']\n",
        "\n",
        "categorical_columns = X.columns.tolist()\n",
        "vocab_sizes = {}\n",
        "for col in categorical_columns:\n",
        "    le = LabelEncoder()\n",
        "    X[col] = le.fit_transform(X[col])\n",
        "    vocab_sizes[col] = X[col].nunique()\n",
        "\n",
        "le_target = LabelEncoder()\n",
        "y = le_target.fit_transform(y)\n",
        "num_classes = len(np.unique(y))\n",
        "\n",
        "X = X.values\n",
        "\n",
        "X_train, X_test, y_train, y_test = train_test_split(\n",
        "    X, y, test_size=0.2, random_state=42, stratify=y\n",
        ")\n",
        "\n",
        "adasyn = ADASYN(sampling_strategy='not majority', random_state=42)\n",
        "X_train_res, y_train_res = adasyn.fit_resample(X_train, y_train)\n",
        "\n",
        "# Since SMOTE produces continuous values, round them to the nearest integer.\n",
        "X_train_res = np.rint(X_train_res).astype(int)\n",
        "\n",
        "class TabularDataset(Dataset):\n",
        "    def __init__(self, X, y):\n",
        "        self.X = torch.tensor(X, dtype=torch.long)\n",
        "        self.y = torch.tensor(y, dtype=torch.long)\n",
        "\n",
        "    def __len__(self):\n",
        "        return len(self.y)\n",
        "\n",
        "    def __getitem__(self, idx):\n",
        "        return self.X[idx], self.y[idx]\n",
        "\n",
        "train_dataset = TabularDataset(X_train_res, y_train_res)\n",
        "test_dataset = TabularDataset(X_test, y_test)\n",
        "\n",
        "batch_size = 100\n",
        "train_loader = DataLoader(train_dataset, batch_size=batch_size, shuffle=True)\n",
        "test_loader = DataLoader(test_dataset, batch_size=batch_size, shuffle=False)\n",
        "\n",
        "# 6. Define the CNN-BiLSTM Model\n",
        "class CNN_BiLSTM(nn.Module):\n",
        "    def __init__(self, vocab_sizes, embedding_dim, num_filters, kernel_size, lstm_hidden, num_classes):\n",
        "        super(CNN_BiLSTM, self).__init__()\n",
        "        # Embedding layers for categorical features\n",
        "        self.embeddings = nn.ModuleList([\n",
        "            nn.Embedding(num_embeddings=vocab_sizes[col] + 1, embedding_dim=embedding_dim)\n",
        "            for col in vocab_sizes\n",
        "        ])\n",
        "\n",
        "        # CNN Layer\n",
        "        self.conv1d = nn.Conv1d(in_channels=embedding_dim, out_channels=num_filters, kernel_size=kernel_size)\n",
        "        self.pool = nn.AdaptiveMaxPool1d(1)  # Global max pooling\n",
        "\n",
        "        # BiLSTM Layer\n",
        "        self.lstm = nn.LSTM(input_size=num_filters, hidden_size=lstm_hidden,\n",
        "                            num_layers=2, batch_first=True, bidirectional=True)\n",
        "\n",
        "        # Fully Connected Layers\n",
        "        self.fc1 = nn.Linear(lstm_hidden * 2, 64)  # BiLSTM is bidirectional\n",
        "        self.dropout = nn.Dropout(0.5)\n",
        "        self.layer_norm = nn.LayerNorm(64)\n",
        "        self.fc2 = nn.Linear(64, num_classes)\n",
        "\n",
        "    def forward(self, x):\n",
        "        embeddings = []\n",
        "        for i, emb_layer in enumerate(self.embeddings):\n",
        "            embeddings.append(emb_layer(x[:, i]))  # (batch, embedding_dim)\n",
        "\n",
        "        # Stack embeddings: (batch, num_features, embedding_dim)\n",
        "        x_emb = torch.stack(embeddings, dim=1)\n",
        "\n",
        "        # --- CNN Branch ---\n",
        "        x_cnn = x_emb.transpose(1, 2)\n",
        "        x_conv = self.conv1d(x_cnn)\n",
        "        x_pool = self.pool(x_conv)\n",
        "        x_pool = x_pool.squeeze(2)\n",
        "\n",
        "        # --- BiLSTM Branch ---\n",
        "        x_lstm_input = x_pool.unsqueeze(1)\n",
        "        lstm_out, _ = self.lstm(x_lstm_input)\n",
        "        lstm_out = lstm_out.squeeze(1)\n",
        "\n",
        "        # Fully Connected Layer\n",
        "        x_fc = self.fc1(lstm_out)\n",
        "        x_fc = torch.relu(x_fc)\n",
        "        x_fc = self.dropout(x_fc)\n",
        "        logits = self.fc2(x_fc)\n",
        "\n",
        "        return logits\n",
        "def set_seed(seed):\n",
        "    random.seed(seed)\n",
        "    np.random.seed(seed)\n",
        "    torch.manual_seed(seed)\n",
        "    torch.cuda.manual_seed_all(seed)\n",
        "    torch.backends.cudnn.deterministic = True\n",
        "    torch.backends.cudnn.benchmark = False\n",
        "\n",
        "# set_seed(42)\n",
        "embedding_dim = 30\n",
        "num_filters = 64\n",
        "kernel_size = 3\n",
        "lstm_hidden = 128\n",
        "num_epochs = 20\n",
        "learning_rate = 0.001\n",
        "\n",
        "model = CNN_BiLSTM(vocab_sizes=vocab_sizes,\n",
        "                    embedding_dim=embedding_dim,\n",
        "                    num_filters=num_filters,\n",
        "                    kernel_size=kernel_size,\n",
        "                    lstm_hidden=lstm_hidden,\n",
        "                    num_classes=num_classes)\n",
        "\n",
        "criterion = nn.CrossEntropyLoss()\n",
        "optimizer = optim.Adam(model.parameters(), lr=learning_rate)\n",
        "scheduler = torch.optim.lr_scheduler.StepLR(optimizer, step_size=10, gamma=0.5)\n",
        "\n",
        "# 8. Training the Model\n",
        "for epoch in range(num_epochs):\n",
        "    model.train()\n",
        "    running_loss = 0.0\n",
        "    for batch_x, batch_y in train_loader:\n",
        "        optimizer.zero_grad()\n",
        "        outputs = model(batch_x)\n",
        "        loss = criterion(outputs, batch_y)\n",
        "        loss.backward()\n",
        "        optimizer.step()\n",
        "        running_loss += loss.item() * batch_x.size(0)\n",
        "    scheduler.step()\n",
        "\n",
        "    epoch_loss = running_loss / len(train_dataset)\n",
        "    print(f\"Epoch {epoch+1}/{num_epochs}, Loss: {epoch_loss:.4f}\")\n",
        "\n",
        "# 9. Evaluate the model on the test set\n",
        "model.eval()\n",
        "all_preds = []\n",
        "all_labels = []\n",
        "with torch.no_grad():\n",
        "    for batch_x, batch_y in test_loader:\n",
        "        outputs = model(batch_x)\n",
        "        _, preds = torch.max(outputs, 1)\n",
        "        all_preds.append(preds.cpu().numpy())\n",
        "        all_labels.append(batch_y.cpu().numpy())\n",
        "\n",
        "all_preds = np.concatenate(all_preds)\n",
        "all_labels = np.concatenate(all_labels)\n",
        "\n",
        "# Calculate accuracy\n",
        "accuracy = (all_preds == all_labels).mean()\n",
        "print(f\"Test Accuracy: {accuracy * 100:.2f}%\")\n",
        "print(\"Precision:\")\n",
        "print(precision_score(all_labels, all_preds, average='weighted'))\n",
        "print(\"Recall:\")\n",
        "print(recall_score(all_labels, all_preds, average='weighted'))\n",
        "print(\"F1 score:\")\n",
        "print(f1_score(all_labels, all_preds, average='weighted'))\n",
        "\n",
        "# Print classification report and confusion matrix\n",
        "print(\"Classification Report:\")\n",
        "print(classification_report(all_labels, all_preds))\n",
        "print(\"Confusion Matrix:\")\n",
        "print(confusion_matrix(all_labels, all_preds))\n"
      ],
      "metadata": {
        "colab": {
          "base_uri": "https://localhost:8080/"
        },
        "id": "3rs_cRIC8U4T",
        "outputId": "2b3ea72f-6459-4ee6-cc2b-145af7242dfa"
      },
      "execution_count": null,
      "outputs": [
        {
          "output_type": "stream",
          "name": "stdout",
          "text": [
            "Epoch 1/20, Loss: 0.7808\n",
            "Epoch 2/20, Loss: 0.5411\n",
            "Epoch 3/20, Loss: 0.4162\n",
            "Epoch 4/20, Loss: 0.3593\n",
            "Epoch 5/20, Loss: 0.3252\n",
            "Epoch 6/20, Loss: 0.2878\n",
            "Epoch 7/20, Loss: 0.2767\n",
            "Epoch 8/20, Loss: 0.2602\n",
            "Epoch 9/20, Loss: 0.2382\n",
            "Epoch 10/20, Loss: 0.2369\n",
            "Epoch 11/20, Loss: 0.1944\n",
            "Epoch 12/20, Loss: 0.1885\n",
            "Epoch 13/20, Loss: 0.1833\n",
            "Epoch 14/20, Loss: 0.1742\n",
            "Epoch 15/20, Loss: 0.1753\n",
            "Epoch 16/20, Loss: 0.1651\n",
            "Epoch 17/20, Loss: 0.1661\n",
            "Epoch 18/20, Loss: 0.1664\n",
            "Epoch 19/20, Loss: 0.1528\n",
            "Epoch 20/20, Loss: 0.1545\n",
            "Test Accuracy: 82.22%\n",
            "Precision:\n",
            "0.773341047229876\n",
            "Recall:\n",
            "0.8222402597402597\n",
            "F1 score:\n",
            "0.7900372350367105\n",
            "Classification Report:\n",
            "              precision    recall  f1-score   support\n",
            "\n",
            "           0       0.14      0.10      0.11        31\n",
            "           1       0.32      0.13      0.18       349\n",
            "           2       0.86      0.95      0.90      2084\n",
            "\n",
            "    accuracy                           0.82      2464\n",
            "   macro avg       0.44      0.39      0.40      2464\n",
            "weighted avg       0.77      0.82      0.79      2464\n",
            "\n",
            "Confusion Matrix:\n",
            "[[   3    5   23]\n",
            " [   4   44  301]\n",
            " [  15   90 1979]]\n"
          ]
        }
      ]
    },
    {
      "cell_type": "markdown",
      "source": [
        "**CNN**"
      ],
      "metadata": {
        "id": "bXi_sR2LT30U"
      }
    },
    {
      "cell_type": "code",
      "source": [
        "categorical_columns = X.columns.tolist()\n",
        "vocab_sizes = {}\n",
        "for col in categorical_columns:\n",
        "    le = LabelEncoder()\n",
        "    X[col] = le.fit_transform(X[col])\n",
        "    vocab_sizes[col] = X[col].nunique()\n",
        "\n",
        "le_target = LabelEncoder()\n",
        "y = le_target.fit_transform(y)\n",
        "num_classes = len(np.unique(y))\n",
        "\n",
        "X = X.values\n",
        "\n",
        "=X_train, X_test, y_train, y_test = train_test_split(\n",
        "    X, y, test_size=0.2, random_state=42, stratify=y\n",
        ")\n",
        "\n",
        "adasyn = ADASYN(sampling_strategy='not majority', random_state=42)\n",
        "X_train_res, y_train_res = adasyn.fit_resample(X_train, y_train)\n",
        "\n",
        "X_train_res = np.rint(X_train_res).astype(int)\n",
        "\n",
        "class TabularDataset(Dataset):\n",
        "    def __init__(self, X, y):\n",
        "        self.X = torch.tensor(X, dtype=torch.long)\n",
        "        self.y = torch.tensor(y, dtype=torch.long)\n",
        "\n",
        "    def __len__(self):\n",
        "        return len(self.y)\n",
        "\n",
        "    def __getitem__(self, idx):\n",
        "        return self.X[idx], self.y[idx]\n",
        "\n",
        "train_dataset = TabularDataset(X_train_res, y_train_res)\n",
        "test_dataset  = TabularDataset(X_test, y_test)\n",
        "\n",
        "batch_size = 80\n",
        "train_loader = DataLoader(train_dataset, batch_size=batch_size, shuffle=True)\n",
        "test_loader  = DataLoader(test_dataset, batch_size=batch_size, shuffle=False)\n",
        "\n",
        "class TabularCNN2D(nn.Module):\n",
        "    def __init__(self, vocab_sizes, embedding_dim, num_filters, kernel_size, num_classes):\n",
        "        super(TabularCNN2D, self).__init__()\n",
        "\n",
        "        # Embedding layers for categorical features\n",
        "        self.embeddings = nn.ModuleList([\n",
        "            nn.Embedding(num_embeddings=vocab_sizes[col] + 1, embedding_dim=embedding_dim)\n",
        "            for col in vocab_sizes\n",
        "        ])\n",
        "\n",
        "        # Convolutional layers\n",
        "        self.conv1 = nn.Conv2d(in_channels=1, out_channels=num_filters, kernel_size=(kernel_size, kernel_size), padding=1)\n",
        "        self.conv2 = nn.Conv2d(in_channels=num_filters, out_channels=num_filters*2, kernel_size=(kernel_size, kernel_size), padding=1)\n",
        "\n",
        "        # Pooling Layer\n",
        "        self.pool = nn.AdaptiveMaxPool2d((1, 1))\n",
        "\n",
        "        # Fully Connected Layers\n",
        "        self.fc1 = nn.Linear(num_filters * 2, 64)\n",
        "        self.dropout = nn.Dropout(0.5)\n",
        "        self.fc2 = nn.Linear(64, num_classes)\n",
        "\n",
        "    def forward(self, x):\n",
        "        # Convert categorical inputs to embeddings\n",
        "        embeddings = [emb_layer(x[:, i]) for i, emb_layer in enumerate(self.embeddings)]\n",
        "\n",
        "        x_emb = torch.stack(embeddings, dim=1)  # (batch, num_features, embedding_dim)\n",
        "\n",
        "        x_emb = x_emb.unsqueeze(1)\n",
        "\n",
        "        # Apply CNN layers\n",
        "        x_conv = torch.relu(self.conv1(x_emb))\n",
        "        x_conv = torch.relu(self.conv2(x_conv))\n",
        "\n",
        "        # Pooling\n",
        "        x_pool = self.pool(x_conv)  # (batch, num_filters*2, 1, 1)\n",
        "        x_pool = x_pool.view(x_pool.size(0), -1)  # Flatten\n",
        "\n",
        "        # Fully Connected Layers\n",
        "        x_fc = torch.relu(self.fc1(x_pool))\n",
        "        x_fc = self.dropout(x_fc)\n",
        "        logits = self.fc2(x_fc)\n",
        "\n",
        "        return logits\n",
        "\n",
        "embedding_dim = 30\n",
        "num_filters = 64\n",
        "kernel_size = 2\n",
        "num_epochs = 20\n",
        "learning_rate = 0.001\n",
        "\n",
        "model = TabularCNN2D(vocab_sizes, embedding_dim, num_filters, kernel_size, num_classes)\n",
        "\n",
        "criterion = nn.CrossEntropyLoss()\n",
        "optimizer = optim.Adam(model.parameters(), lr=learning_rate)\n",
        "scheduler = StepLR(optimizer, step_size=5, gamma=0.5)\n",
        "\n",
        "for epoch in range(num_epochs):\n",
        "    model.train()\n",
        "    running_loss = 0.0\n",
        "    for batch_x, batch_y in train_loader:\n",
        "        optimizer.zero_grad()\n",
        "        outputs = model(batch_x)\n",
        "        loss = criterion(outputs, batch_y)\n",
        "        loss.backward()\n",
        "        optimizer.step()\n",
        "        running_loss += loss.item() * batch_x.size(0)\n",
        "    scheduler.step()\n",
        "    epoch_loss = running_loss / len(train_dataset)\n",
        "    print(f\"Epoch {epoch+1}/{num_epochs}, Loss: {epoch_loss:.4f}\")\n",
        "\n",
        "model.eval()\n",
        "all_preds = []\n",
        "all_labels = []\n",
        "with torch.no_grad():\n",
        "    for batch_x, batch_y in test_loader:\n",
        "        outputs = model(batch_x)\n",
        "        _, preds = torch.max(outputs, 1)\n",
        "        all_preds.append(preds.cpu().numpy())\n",
        "        all_labels.append(batch_y.cpu().numpy())\n",
        "\n",
        "all_preds = np.concatenate(all_preds)\n",
        "all_labels = np.concatenate(all_labels)\n",
        "\n",
        "# Calculate Accuracy\n",
        "accuracy = (all_preds == all_labels).mean()\n",
        "print(f\"Test Accuracy: {accuracy * 100:.2f}%\")\n",
        "\n",
        "# Print Classification Report and Confusion Matrix\n",
        "print(\"Precision:\")\n",
        "print(precision_score(all_labels, all_preds, average = 'weighted'))\n",
        "print(\"Recall:\")\n",
        "print(recall_score(all_labels, all_preds, average = 'weighted'))\n",
        "print(\"F1 Score:\")\n",
        "print(f1_score(all_labels, all_preds, average = 'weighted'))\n",
        "print(\"Classification Report:\")\n",
        "print(classification_report(all_labels, all_preds))\n",
        "print(\"Confusion Matrix:\")\n",
        "print(confusion_matrix(all_labels, all_preds))\n"
      ],
      "metadata": {
        "colab": {
          "base_uri": "https://localhost:8080/"
        },
        "id": "qgme5_0SGfMQ",
        "outputId": "a68b0934-c233-4684-ab78-6643139f0a70"
      },
      "execution_count": null,
      "outputs": [
        {
          "output_type": "stream",
          "name": "stdout",
          "text": [
            "Epoch 1/20, Loss: 0.9648\n",
            "Epoch 2/20, Loss: 0.7179\n",
            "Epoch 3/20, Loss: 0.6146\n",
            "Epoch 4/20, Loss: 0.5358\n",
            "Epoch 5/20, Loss: 0.4789\n",
            "Epoch 6/20, Loss: 0.4228\n",
            "Epoch 7/20, Loss: 0.4011\n",
            "Epoch 8/20, Loss: 0.3873\n",
            "Epoch 9/20, Loss: 0.3689\n",
            "Epoch 10/20, Loss: 0.3571\n",
            "Epoch 11/20, Loss: 0.3394\n",
            "Epoch 12/20, Loss: 0.3290\n",
            "Epoch 13/20, Loss: 0.3239\n",
            "Epoch 14/20, Loss: 0.3175\n",
            "Epoch 15/20, Loss: 0.3078\n",
            "Epoch 16/20, Loss: 0.3005\n",
            "Epoch 17/20, Loss: 0.2953\n",
            "Epoch 18/20, Loss: 0.2939\n",
            "Epoch 19/20, Loss: 0.2898\n",
            "Epoch 20/20, Loss: 0.2883\n",
            "Test Accuracy: 80.97%\n",
            "Precision:\n",
            "0.7749912899879389\n",
            "Recall:\n",
            "0.8096590909090909\n",
            "F1 Score:\n",
            "0.7886429406382468\n",
            "Classification Report:\n",
            "              precision    recall  f1-score   support\n",
            "\n",
            "           0       0.16      0.16      0.16        31\n",
            "           1       0.31      0.17      0.22       349\n",
            "           2       0.86      0.93      0.89      2084\n",
            "\n",
            "    accuracy                           0.81      2464\n",
            "   macro avg       0.44      0.42      0.42      2464\n",
            "weighted avg       0.77      0.81      0.79      2464\n",
            "\n",
            "Confusion Matrix:\n",
            "[[   5    1   25]\n",
            " [   6   60  283]\n",
            " [  20  134 1930]]\n"
          ]
        }
      ]
    },
    {
      "cell_type": "code",
      "source": [
        "print(pd.Series(y_resampled).value_counts())\n",
        "print(pd.Series(y_test).value_counts())\n"
      ],
      "metadata": {
        "colab": {
          "base_uri": "https://localhost:8080/"
        },
        "id": "uSaiHuSdu1lb",
        "outputId": "366aff5d-37da-4ecb-d97c-0c53365c23c6"
      },
      "execution_count": null,
      "outputs": [
        {
          "output_type": "stream",
          "name": "stdout",
          "text": [
            "1    8570\n",
            "2    8331\n",
            "0    8320\n",
            "Name: count, dtype: int64\n",
            "2    2084\n",
            "1     349\n",
            "0      31\n",
            "Name: count, dtype: int64\n"
          ]
        }
      ]
    }
  ]
}